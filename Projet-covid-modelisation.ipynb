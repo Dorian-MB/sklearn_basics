{
 "cells": [
  {
   "cell_type": "code",
   "execution_count": 1,
   "id": "7ce88297",
   "metadata": {},
   "outputs": [],
   "source": [
    "import numpy as np\n",
    "import pandas as pd\n",
    "import matplotlib.pyplot as plt\n",
    "import seaborn as sns"
   ]
  },
  {
   "cell_type": "code",
   "execution_count": 21,
   "id": "203dcddf",
   "metadata": {},
   "outputs": [],
   "source": [
    "from sklearn.model_selection import train_test_split\n",
    "from sklearn.metrics import f1_score, confusion_matrix, classification_report\n",
    "from sklearn.model_selection import learning_curve\n",
    "from sklearn.pipeline import make_pipeline\n",
    "from sklearn.preprocessing import PolynomialFeatures, StandardScaler\n",
    "from sklearn.feature_selection import SelectKBest, f_classif"
   ]
  },
  {
   "cell_type": "code",
   "execution_count": 18,
   "id": "da39ae2e",
   "metadata": {},
   "outputs": [],
   "source": [
    "from sklearn.tree import DecisionTreeClassifier\n",
    "from sklearn.ensemble import RandomForestClassifier, AdaBoostClassifier\n",
    "from sklearn.svm import SVC # Tres efficasse sur les petits data frame\n",
    "from sklearn.neighbors import KNeighborsClassifier"
   ]
  },
  {
   "cell_type": "code",
   "execution_count": 3,
   "id": "f8ffe3ef",
   "metadata": {},
   "outputs": [],
   "source": [
    "data = pd.read_excel(\"covid_dataset.xlsx\") # `$ conda install openpyxl` is needed"
   ]
  },
  {
   "cell_type": "markdown",
   "id": "9205fe88",
   "metadata": {},
   "source": [
    "# Re-crée la procedure d'evaluation"
   ]
  },
  {
   "cell_type": "code",
   "execution_count": 5,
   "id": "d8b4a099",
   "metadata": {},
   "outputs": [],
   "source": [
    "df = data.copy()\n",
    "\n",
    "missing_rate = df.isna().sum()/df.shape[0]\n",
    "\n",
    "blood_columns = list(df.columns[(missing_rate < 0.9) & (missing_rate >0.88)])\n",
    "viral_columns = list(df.columns[(missing_rate < 0.80) & (missing_rate > 0.75)])\n",
    "\n",
    "key_columns = ['Patient age quantile', 'SARS-Cov-2 exam result']\n",
    "\n",
    "df = df[key_columns + blood_columns + viral_columns]"
   ]
  },
  {
   "cell_type": "code",
   "execution_count": 6,
   "id": "7bd2bdc0",
   "metadata": {},
   "outputs": [],
   "source": [
    "def encodage(df:pd.DataFrame):\n",
    "    code = {'negative':0,\n",
    "            'positive':1,\n",
    "            'not_detected':0,\n",
    "            'detected':1}\n",
    "    \n",
    "    for col in df.select_dtypes(\"object\") :\n",
    "        df[col] = df[col].map(code)\n",
    "        \n",
    "    return df"
   ]
  },
  {
   "cell_type": "code",
   "execution_count": 7,
   "id": "ecbe074f",
   "metadata": {},
   "outputs": [],
   "source": [
    "def imputation(df):\n",
    "    return df.dropna(axis=0)"
   ]
  },
  {
   "cell_type": "code",
   "execution_count": 10,
   "id": "d581728b",
   "metadata": {},
   "outputs": [],
   "source": [
    "def preprocessing(df:pd.DataFrame):\n",
    "    \n",
    "    df = encodage(df)\n",
    "    df = feature_engineering(df)\n",
    "    df = imputation(df)\n",
    "\n",
    "    X = df.drop(\"SARS-Cov-2 exam result\", axis=1)\n",
    "    y = df[\"SARS-Cov-2 exam result\"]\n",
    "    \n",
    "    print(y.value_counts())\n",
    "    \n",
    "    return X, y"
   ]
  },
  {
   "cell_type": "code",
   "execution_count": 9,
   "id": "f4d9ab40",
   "metadata": {},
   "outputs": [],
   "source": [
    "def feature_engineering(df):\n",
    "    df['est malade'] = df[viral_columns].sum(axis=1) >= 1\n",
    "    df = df.drop(viral_columns, axis=1)\n",
    "    return df"
   ]
  },
  {
   "cell_type": "code",
   "execution_count": 32,
   "id": "74e067a8",
   "metadata": {},
   "outputs": [],
   "source": [
    "def evaluation(model, df, plot=True, name=None):\n",
    "    \n",
    "    trainset, testset = train_test_split(df, test_size=0.2, random_state=0)\n",
    "    \n",
    "    X_train, y_train = preprocessing(trainset)\n",
    "    X_test, y_test = preprocessing(testset)\n",
    "    \n",
    "    model.fit(X_train, y_train)\n",
    "    y_pred = model.predict(X_test)\n",
    "    \n",
    "    print(confusion_matrix(y_test, y_pred))\n",
    "    print(classification_report(y_test, y_pred))\n",
    "          \n",
    "    N, train_score, val_score = learning_curve(model, X_train, y_train,cv=4, scoring='f1',\n",
    "                                               train_sizes=np.linspace(0.1, 1, 10))\n",
    "    \n",
    "    if plot :\n",
    "        plt.figure(figsize=(12, 8))\n",
    "        plt.plot(N, train_score.mean(axis=1), label=\"train score\")\n",
    "        plt.plot(N, val_score.mean(axis=1), label=\"val score\")\n",
    "        plt.title(name)\n",
    "        plt.legend()\n",
    "    \n",
    "    return df, X_train"
   ]
  },
  {
   "cell_type": "code",
   "execution_count": 64,
   "id": "bcdbeee6",
   "metadata": {},
   "outputs": [
    {
     "name": "stdout",
     "output_type": "stream",
     "text": [
      "0    422\n",
      "1     65\n",
      "Name: SARS-Cov-2 exam result, dtype: int64\n",
      "0    95\n",
      "1    16\n",
      "Name: SARS-Cov-2 exam result, dtype: int64\n"
     ]
    }
   ],
   "source": [
    "trainset, testset = train_test_split(df, test_size=0.2, random_state=0)\n",
    "\n",
    "X_train, y_train = preprocessing(trainset)\n",
    "X_test, y_test = preprocessing(testset)"
   ]
  },
  {
   "cell_type": "markdown",
   "id": "47596f65",
   "metadata": {},
   "source": [
    "# Modelisation"
   ]
  },
  {
   "cell_type": "code",
   "execution_count": 19,
   "id": "63fd775b",
   "metadata": {},
   "outputs": [],
   "source": [
    "preprocessor = make_pipeline(PolynomialFeatures(2, include_bias=False), \n",
    "                             SelectKBest(f_classif, k=10))\n",
    "\n",
    "# include_bias=False => supprime les colonnes constante"
   ]
  },
  {
   "cell_type": "code",
   "execution_count": 41,
   "id": "879802a4",
   "metadata": {},
   "outputs": [],
   "source": [
    "RandomForest_pipeline = make_pipeline(preprocessor, \n",
    "                             RandomForestClassifier(random_state=0))\n",
    "\n",
    "AdaBoost_pipeline = make_pipeline(preprocessor, \n",
    "                         AdaBoostClassifier(random_state=0))\n",
    "\n",
    "SVC_pipeline = make_pipeline(preprocessor, \n",
    "                    StandardScaler(), # on normalise\n",
    "                    SVC(random_state=0))\n",
    "\n",
    "KNN_pipeline = make_pipeline(preprocessor, \n",
    "                    StandardScaler(), # on normalise\n",
    "                    KNeighborsClassifier())\n",
    "\n",
    "# On n'avait pas normalisé car on utilisait des arbres de decision, qui n'on pas besoin de normalisé les données\n",
    "# On pourrait Factorisé `preprocessor`"
   ]
  },
  {
   "cell_type": "code",
   "execution_count": 42,
   "id": "3cca7aeb",
   "metadata": {},
   "outputs": [],
   "source": [
    "models = {'RandomForest': RandomForest_pipeline,\n",
    "                  'AdaBoost' : AdaBoost_pipeline,\n",
    "                  'SVC': SVC_pipeline,\n",
    "                  'KNN': KNN_pipeline\n",
    "                 }"
   ]
  },
  {
   "cell_type": "code",
   "execution_count": 43,
   "id": "e2f76b57",
   "metadata": {
    "scrolled": false
   },
   "outputs": [
    {
     "name": "stdout",
     "output_type": "stream",
     "text": [
      "RandomForest\n",
      "0    422\n",
      "1     65\n",
      "Name: SARS-Cov-2 exam result, dtype: int64\n",
      "0    95\n",
      "1    16\n",
      "Name: SARS-Cov-2 exam result, dtype: int64\n",
      "[[91  4]\n",
      " [11  5]]\n",
      "              precision    recall  f1-score   support\n",
      "\n",
      "           0       0.89      0.96      0.92        95\n",
      "           1       0.56      0.31      0.40        16\n",
      "\n",
      "    accuracy                           0.86       111\n",
      "   macro avg       0.72      0.64      0.66       111\n",
      "weighted avg       0.84      0.86      0.85       111\n",
      "\n",
      "AdaBoost\n",
      "0    422\n",
      "1     65\n",
      "Name: SARS-Cov-2 exam result, dtype: int64\n",
      "0    95\n",
      "1    16\n",
      "Name: SARS-Cov-2 exam result, dtype: int64\n",
      "[[91  4]\n",
      " [ 9  7]]\n",
      "              precision    recall  f1-score   support\n",
      "\n",
      "           0       0.91      0.96      0.93        95\n",
      "           1       0.64      0.44      0.52        16\n",
      "\n",
      "    accuracy                           0.88       111\n",
      "   macro avg       0.77      0.70      0.73       111\n",
      "weighted avg       0.87      0.88      0.87       111\n",
      "\n",
      "SVC\n",
      "0    422\n",
      "1     65\n",
      "Name: SARS-Cov-2 exam result, dtype: int64\n",
      "0    95\n",
      "1    16\n",
      "Name: SARS-Cov-2 exam result, dtype: int64\n",
      "[[92  3]\n",
      " [10  6]]\n",
      "              precision    recall  f1-score   support\n",
      "\n",
      "           0       0.90      0.97      0.93        95\n",
      "           1       0.67      0.38      0.48        16\n",
      "\n",
      "    accuracy                           0.88       111\n",
      "   macro avg       0.78      0.67      0.71       111\n",
      "weighted avg       0.87      0.88      0.87       111\n",
      "\n",
      "KNN\n",
      "0    422\n",
      "1     65\n",
      "Name: SARS-Cov-2 exam result, dtype: int64\n",
      "0    95\n",
      "1    16\n",
      "Name: SARS-Cov-2 exam result, dtype: int64\n",
      "[[88  7]\n",
      " [ 8  8]]\n",
      "              precision    recall  f1-score   support\n",
      "\n",
      "           0       0.92      0.93      0.92        95\n",
      "           1       0.53      0.50      0.52        16\n",
      "\n",
      "    accuracy                           0.86       111\n",
      "   macro avg       0.72      0.71      0.72       111\n",
      "weighted avg       0.86      0.86      0.86       111\n",
      "\n"
     ]
    },
    {
     "data": {
      "image/png": "[encoded data removed]",
      "text/plain": [
       "<Figure size 864x576 with 1 Axes>"
      ]
     },
     "metadata": {
      "needs_background": "light"
     },
     "output_type": "display_data"
    },
    {
     "data": {
      "image/png": "[encoded data removed]",
      "text/plain": [
       "<Figure size 864x576 with 1 Axes>"
      ]
     },
     "metadata": {
      "needs_background": "light"
     },
     "output_type": "display_data"
    },
    {
     "data": {
      "image/png": "[encoded data removed]",
      "text/plain": [
       "<Figure size 864x576 with 1 Axes>"
      ]
     },
     "metadata": {
      "needs_background": "light"
     },
     "output_type": "display_data"
    },
    {
     "data": {
      "image/png": "[encoded data removed]",
      "text/plain": [
       "<Figure size 864x576 with 1 Axes>"
      ]
     },
     "metadata": {
      "needs_background": "light"
     },
     "output_type": "display_data"
    }
   ],
   "source": [
    "for name, model in models.items():\n",
    "    print(name)\n",
    "    evaluation(model, df, name=name)"
   ]
  },
  {
   "cell_type": "markdown",
   "id": "4514d88c",
   "metadata": {},
   "source": [
    "**`SVC`semble prometteur car il n'overfit pas (ou peu)**<br>\n",
    "**`Adaboost` semble egalement prometteur, due a ca pente de progression**"
   ]
  },
  {
   "cell_type": "markdown",
   "id": "7c6c3390",
   "metadata": {},
   "source": [
    "## Optimisation"
   ]
  },
  {
   "cell_type": "code",
   "execution_count": 44,
   "id": "783186f0",
   "metadata": {},
   "outputs": [],
   "source": [
    "from sklearn.model_selection import GridSearchCV"
   ]
  },
  {
   "cell_type": "code",
   "execution_count": 46,
   "id": "f400fc92",
   "metadata": {},
   "outputs": [
    {
     "data": {
      "text/plain": [
       "Pipeline(steps=[('pipeline',\n",
       "                 Pipeline(steps=[('polynomialfeatures',\n",
       "                                  PolynomialFeatures(include_bias=False)),\n",
       "                                 ('selectkbest', SelectKBest())])),\n",
       "                ('standardscaler', StandardScaler()),\n",
       "                ('svc', SVC(random_state=0))])"
      ]
     },
     "execution_count": 46,
     "metadata": {},
     "output_type": "execute_result"
    }
   ],
   "source": [
    "SVC_pipeline"
   ]
  },
  {
   "cell_type": "code",
   "execution_count": 75,
   "id": "8e8c2b55",
   "metadata": {
    "scrolled": true
   },
   "outputs": [
    {
     "name": "stdout",
     "output_type": "stream",
     "text": [
      "{'svc__C': 10.0, 'svc__gamma': 0.1}\n",
      "0    422\n",
      "1     65\n",
      "Name: SARS-Cov-2 exam result, dtype: int64\n",
      "0    95\n",
      "1    16\n",
      "Name: SARS-Cov-2 exam result, dtype: int64\n",
      "[[91  4]\n",
      " [ 9  7]]\n",
      "              precision    recall  f1-score   support\n",
      "\n",
      "           0       0.91      0.96      0.93        95\n",
      "           1       0.64      0.44      0.52        16\n",
      "\n",
      "    accuracy                           0.88       111\n",
      "   macro avg       0.77      0.70      0.73       111\n",
      "weighted avg       0.87      0.88      0.87       111\n",
      "\n"
     ]
    },
    {
     "data": {
      "text/plain": [
       "(      Patient age quantile SARS-Cov-2 exam result  Hematocrit  Hemoglobin  \\\n",
       " 0                       13               negative         NaN         NaN   \n",
       " 1                       17               negative    0.236515   -0.022340   \n",
       " 2                        8               negative         NaN         NaN   \n",
       " 3                        5               negative         NaN         NaN   \n",
       " 4                       15               negative         NaN         NaN   \n",
       " ...                    ...                    ...         ...         ...   \n",
       " 5639                     3               positive         NaN         NaN   \n",
       " 5640                    17               negative         NaN         NaN   \n",
       " 5641                     4               negative         NaN         NaN   \n",
       " 5642                    10               negative         NaN         NaN   \n",
       " 5643                    19               positive    0.694287    0.541564   \n",
       " \n",
       "       Platelets  Mean platelet volume   Red blood Cells  Lymphocytes  \\\n",
       " 0           NaN                    NaN              NaN          NaN   \n",
       " 1     -0.517413               0.010677         0.102004     0.318366   \n",
       " 2           NaN                    NaN              NaN          NaN   \n",
       " 3           NaN                    NaN              NaN          NaN   \n",
       " 4           NaN                    NaN              NaN          NaN   \n",
       " ...         ...                    ...              ...          ...   \n",
       " 5639        NaN                    NaN              NaN          NaN   \n",
       " 5640        NaN                    NaN              NaN          NaN   \n",
       " 5641        NaN                    NaN              NaN          NaN   \n",
       " 5642        NaN                    NaN              NaN          NaN   \n",
       " 5643  -0.906829              -0.325903         0.578024    -0.295726   \n",
       " \n",
       "       Mean corpuscular hemoglobin concentration (MCHC)  Leukocytes  ...  \\\n",
       " 0                                                  NaN         NaN  ...   \n",
       " 1                                            -0.950790   -0.094610  ...   \n",
       " 2                                                  NaN         NaN  ...   \n",
       " 3                                                  NaN         NaN  ...   \n",
       " 4                                                  NaN         NaN  ...   \n",
       " ...                                                ...         ...  ...   \n",
       " 5639                                               NaN         NaN  ...   \n",
       " 5640                                               NaN         NaN  ...   \n",
       " 5641                                               NaN         NaN  ...   \n",
       " 5642                                               NaN         NaN  ...   \n",
       " 5643                                         -0.353319   -1.288428  ...   \n",
       " \n",
       "       Parainfluenza 3  Chlamydophila pneumoniae    Adenovirus  \\\n",
       " 0                 NaN                       NaN           NaN   \n",
       " 1        not_detected              not_detected  not_detected   \n",
       " 2                 NaN                       NaN           NaN   \n",
       " 3                 NaN                       NaN           NaN   \n",
       " 4        not_detected              not_detected  not_detected   \n",
       " ...               ...                       ...           ...   \n",
       " 5639              NaN                       NaN           NaN   \n",
       " 5640              NaN                       NaN           NaN   \n",
       " 5641              NaN                       NaN           NaN   \n",
       " 5642              NaN                       NaN           NaN   \n",
       " 5643              NaN                       NaN           NaN   \n",
       " \n",
       "       Parainfluenza 4  Coronavirus229E  CoronavirusOC43 Inf A H1N1 2009  \\\n",
       " 0                 NaN              NaN              NaN             NaN   \n",
       " 1        not_detected     not_detected     not_detected    not_detected   \n",
       " 2                 NaN              NaN              NaN             NaN   \n",
       " 3                 NaN              NaN              NaN             NaN   \n",
       " 4        not_detected     not_detected     not_detected    not_detected   \n",
       " ...               ...              ...              ...             ...   \n",
       " 5639              NaN              NaN              NaN             NaN   \n",
       " 5640              NaN              NaN              NaN             NaN   \n",
       " 5641              NaN              NaN              NaN             NaN   \n",
       " 5642              NaN              NaN              NaN             NaN   \n",
       " 5643              NaN              NaN              NaN             NaN   \n",
       " \n",
       "      Bordetella pertussis Metapneumovirus Parainfluenza 2  \n",
       " 0                     NaN             NaN             NaN  \n",
       " 1            not_detected    not_detected    not_detected  \n",
       " 2                     NaN             NaN             NaN  \n",
       " 3                     NaN             NaN             NaN  \n",
       " 4            not_detected    not_detected    not_detected  \n",
       " ...                   ...             ...             ...  \n",
       " 5639                  NaN             NaN             NaN  \n",
       " 5640                  NaN             NaN             NaN  \n",
       " 5641                  NaN             NaN             NaN  \n",
       " 5642                  NaN             NaN             NaN  \n",
       " 5643                  NaN             NaN             NaN  \n",
       " \n",
       " [5644 rows x 33 columns],\n",
       "       Patient age quantile  Hematocrit  Hemoglobin  Platelets  \\\n",
       " 543                     18    1.358055    1.356092  -0.228491   \n",
       " 203                      9    1.174947    0.854844  -1.019885   \n",
       " 1624                    10    1.037616    1.481403  -1.823841   \n",
       " 500                      6   -0.038148    0.165628   0.914633   \n",
       " 34                      17    0.808730    1.042812  -0.278739   \n",
       " ...                    ...         ...         ...        ...   \n",
       " 3299                    19    0.785841    0.666876   1.366858   \n",
       " 5251                     0   -2.533002   -2.465924   3.037579   \n",
       " 1071                     4    0.694287    0.729532  -0.140559   \n",
       " 4484                     4    1.541164    1.669372   1.090499   \n",
       " 2008                     9    0.236515    0.165628   1.015128   \n",
       " \n",
       "       Mean platelet volume   Red blood Cells  Lymphocytes  \\\n",
       " 543               -0.438097         1.142196    -0.517481   \n",
       " 203               -1.784415         0.824849    -0.193377   \n",
       " 1624               0.347255         1.142196     0.966573   \n",
       " 500                0.122869        -0.515058     1.316264   \n",
       " 34                 1.581381         0.701437    -0.261609   \n",
       " ...                     ...              ...          ...   \n",
       " 3299               1.693575         0.119635     2.638266   \n",
       " 5251              -0.774677        -2.348615     3.167067   \n",
       " 1071              -1.447836         0.419350     1.145683   \n",
       " 4484              -0.213711         1.829779    -1.182746   \n",
       " 2008              -0.213711        -0.462168     1.077451   \n",
       " \n",
       "       Mean corpuscular hemoglobin concentration (MCHC)  Leukocytes  Basophils  \\\n",
       " 543                                           0.244149    0.275501  -0.223767   \n",
       " 203                                          -0.851210   -0.317234  -0.223767   \n",
       " 1624                                          1.837398   -1.135374  -0.223767   \n",
       " 500                                           0.841616    0.044529   0.998070   \n",
       " 34                                            1.040773    0.000005   0.387152   \n",
       " ...                                                ...         ...        ...   \n",
       " 3299                                         -0.253742    1.486016   0.081693   \n",
       " 5251                                         -0.452899    1.764295  -1.140144   \n",
       " 1071                                          0.343725   -0.553771   1.914447   \n",
       " 4484                                          0.742040    1.792123  -1.140144   \n",
       " 2008                                         -0.154166   -0.356193   0.692611   \n",
       " \n",
       "       Mean corpuscular hemoglobin (MCH)  Eosinophils  \\\n",
       " 543                            0.178175    -0.793368   \n",
       " 203                           -0.083183     1.608576   \n",
       " 1624                           0.387261    -0.835508   \n",
       " 500                            1.275878     0.133698   \n",
       " 34                             0.439533     0.049419   \n",
       " ...                                 ...          ...   \n",
       " 3299                           0.909977     0.133698   \n",
       " 5251                          -0.030911    -0.835508   \n",
       " 1071                           0.439533     0.217977   \n",
       " 4484                          -0.396813    -0.835508   \n",
       " 2008                           1.171335     0.302256   \n",
       " \n",
       "       Mean corpuscular volume (MCV)  Monocytes  \\\n",
       " 543                        0.066045   0.987864   \n",
       " 203                        0.366488   0.042388   \n",
       " 1624                      -0.454724  -0.377823   \n",
       " 500                        1.007433  -0.456613   \n",
       " 34                        -0.014074  -0.509139   \n",
       " ...                             ...        ...   \n",
       " 3299                       1.147641  -1.008140   \n",
       " 5251                       0.206251  -1.008140   \n",
       " 1071                       0.346459   1.303022   \n",
       " 4484                      -0.835285   0.042388   \n",
       " 2008                       1.428053   0.094915   \n",
       " \n",
       "       Red blood cell distribution width (RDW)  est malade  \n",
       " 543                                 -0.005877       False  \n",
       " 203                                 -0.448160        True  \n",
       " 1624                                -0.978899       False  \n",
       " 500                                 -0.801985       False  \n",
       " 34                                  -0.094334        True  \n",
       " ...                                       ...         ...  \n",
       " 3299                                -0.801985       False  \n",
       " 5251                                -0.005877        True  \n",
       " 1071                                -0.713529        True  \n",
       " 4484                                 0.878687        True  \n",
       " 2008                                -0.448160       False  \n",
       " \n",
       " [487 rows x 16 columns])"
      ]
     },
     "execution_count": 75,
     "metadata": {},
     "output_type": "execute_result"
    },
    {
     "data": {
      "image/png": "[encoded data removed]",
      "text/plain": [
       "<Figure size 864x576 with 1 Axes>"
      ]
     },
     "metadata": {
      "needs_background": "light"
     },
     "output_type": "display_data"
    }
   ],
   "source": [
    "hyper_params = {\n",
    "    \"svc__gamma\":np.logspace(-4,0,5), # [1.e-04, 1.e-03, 1.e-02, 1.e-01, 1.e+00]\n",
    "    \"svc__C\":np.logspace(0,4,5) # [1, 10, 100, 1_000, 10_000]\n",
    "}\n",
    "\n",
    "grid_svc = GridSearchCV(SVC_pipeline, hyper_params, scoring=\"recall\", cv=4)\n",
    "\n",
    "grid_svc.fit(X_train, y_train)\n",
    "\n",
    "print(grid_svc.best_params_)\n",
    "\n",
    "y_pred = grid_svc.predict(X_test)\n",
    "\n",
    "evaluation(grid_svc.best_estimator_, df)"
   ]
  },
  {
   "cell_type": "code",
   "execution_count": 63,
   "id": "dc4c5781",
   "metadata": {},
   "outputs": [
    {
     "data": {
      "text/plain": [
       "{'svc__C': 10.0, 'svc__gamma': 0.1}"
      ]
     },
     "execution_count": 63,
     "metadata": {},
     "output_type": "execute_result"
    }
   ],
   "source": [
    "grid_svc.best_params_"
   ]
  },
  {
   "cell_type": "code",
   "execution_count": 65,
   "id": "063243d7",
   "metadata": {},
   "outputs": [
    {
     "data": {
      "text/plain": [
       "0.4375"
      ]
     },
     "execution_count": 65,
     "metadata": {},
     "output_type": "execute_result"
    }
   ],
   "source": [
    "grid_svc.score(X_test, y_test)"
   ]
  },
  {
   "cell_type": "markdown",
   "id": "42a6956d",
   "metadata": {},
   "source": [
    "### `RandomizedSearchCV`"
   ]
  },
  {
   "cell_type": "code",
   "execution_count": 66,
   "id": "f2c152b9",
   "metadata": {},
   "outputs": [],
   "source": [
    "from sklearn.model_selection import RandomizedSearchCV"
   ]
  },
  {
   "cell_type": "code",
   "execution_count": 84,
   "id": "445181b7",
   "metadata": {},
   "outputs": [
    {
     "name": "stdout",
     "output_type": "stream",
     "text": [
      "{'svc__gamma': 0.001, 'svc__C': 1000, 'pipeline__selectkbest__k': 51, 'pipeline__polynomialfeatures__degree': 3}\n",
      "0    422\n",
      "1     65\n",
      "Name: SARS-Cov-2 exam result, dtype: int64\n",
      "0    95\n",
      "1    16\n",
      "Name: SARS-Cov-2 exam result, dtype: int64\n",
      "[[89  6]\n",
      " [ 8  8]]\n",
      "              precision    recall  f1-score   support\n",
      "\n",
      "           0       0.92      0.94      0.93        95\n",
      "           1       0.57      0.50      0.53        16\n",
      "\n",
      "    accuracy                           0.87       111\n",
      "   macro avg       0.74      0.72      0.73       111\n",
      "weighted avg       0.87      0.87      0.87       111\n",
      "\n"
     ]
    },
    {
     "data": {
      "text/plain": [
       "(      Patient age quantile SARS-Cov-2 exam result  Hematocrit  Hemoglobin  \\\n",
       " 0                       13               negative         NaN         NaN   \n",
       " 1                       17               negative    0.236515   -0.022340   \n",
       " 2                        8               negative         NaN         NaN   \n",
       " 3                        5               negative         NaN         NaN   \n",
       " 4                       15               negative         NaN         NaN   \n",
       " ...                    ...                    ...         ...         ...   \n",
       " 5639                     3               positive         NaN         NaN   \n",
       " 5640                    17               negative         NaN         NaN   \n",
       " 5641                     4               negative         NaN         NaN   \n",
       " 5642                    10               negative         NaN         NaN   \n",
       " 5643                    19               positive    0.694287    0.541564   \n",
       " \n",
       "       Platelets  Mean platelet volume   Red blood Cells  Lymphocytes  \\\n",
       " 0           NaN                    NaN              NaN          NaN   \n",
       " 1     -0.517413               0.010677         0.102004     0.318366   \n",
       " 2           NaN                    NaN              NaN          NaN   \n",
       " 3           NaN                    NaN              NaN          NaN   \n",
       " 4           NaN                    NaN              NaN          NaN   \n",
       " ...         ...                    ...              ...          ...   \n",
       " 5639        NaN                    NaN              NaN          NaN   \n",
       " 5640        NaN                    NaN              NaN          NaN   \n",
       " 5641        NaN                    NaN              NaN          NaN   \n",
       " 5642        NaN                    NaN              NaN          NaN   \n",
       " 5643  -0.906829              -0.325903         0.578024    -0.295726   \n",
       " \n",
       "       Mean corpuscular hemoglobin concentration (MCHC)  Leukocytes  ...  \\\n",
       " 0                                                  NaN         NaN  ...   \n",
       " 1                                            -0.950790   -0.094610  ...   \n",
       " 2                                                  NaN         NaN  ...   \n",
       " 3                                                  NaN         NaN  ...   \n",
       " 4                                                  NaN         NaN  ...   \n",
       " ...                                                ...         ...  ...   \n",
       " 5639                                               NaN         NaN  ...   \n",
       " 5640                                               NaN         NaN  ...   \n",
       " 5641                                               NaN         NaN  ...   \n",
       " 5642                                               NaN         NaN  ...   \n",
       " 5643                                         -0.353319   -1.288428  ...   \n",
       " \n",
       "       Parainfluenza 3  Chlamydophila pneumoniae    Adenovirus  \\\n",
       " 0                 NaN                       NaN           NaN   \n",
       " 1        not_detected              not_detected  not_detected   \n",
       " 2                 NaN                       NaN           NaN   \n",
       " 3                 NaN                       NaN           NaN   \n",
       " 4        not_detected              not_detected  not_detected   \n",
       " ...               ...                       ...           ...   \n",
       " 5639              NaN                       NaN           NaN   \n",
       " 5640              NaN                       NaN           NaN   \n",
       " 5641              NaN                       NaN           NaN   \n",
       " 5642              NaN                       NaN           NaN   \n",
       " 5643              NaN                       NaN           NaN   \n",
       " \n",
       "       Parainfluenza 4  Coronavirus229E  CoronavirusOC43 Inf A H1N1 2009  \\\n",
       " 0                 NaN              NaN              NaN             NaN   \n",
       " 1        not_detected     not_detected     not_detected    not_detected   \n",
       " 2                 NaN              NaN              NaN             NaN   \n",
       " 3                 NaN              NaN              NaN             NaN   \n",
       " 4        not_detected     not_detected     not_detected    not_detected   \n",
       " ...               ...              ...              ...             ...   \n",
       " 5639              NaN              NaN              NaN             NaN   \n",
       " 5640              NaN              NaN              NaN             NaN   \n",
       " 5641              NaN              NaN              NaN             NaN   \n",
       " 5642              NaN              NaN              NaN             NaN   \n",
       " 5643              NaN              NaN              NaN             NaN   \n",
       " \n",
       "      Bordetella pertussis Metapneumovirus Parainfluenza 2  \n",
       " 0                     NaN             NaN             NaN  \n",
       " 1            not_detected    not_detected    not_detected  \n",
       " 2                     NaN             NaN             NaN  \n",
       " 3                     NaN             NaN             NaN  \n",
       " 4            not_detected    not_detected    not_detected  \n",
       " ...                   ...             ...             ...  \n",
       " 5639                  NaN             NaN             NaN  \n",
       " 5640                  NaN             NaN             NaN  \n",
       " 5641                  NaN             NaN             NaN  \n",
       " 5642                  NaN             NaN             NaN  \n",
       " 5643                  NaN             NaN             NaN  \n",
       " \n",
       " [5644 rows x 33 columns],\n",
       "       Patient age quantile  Hematocrit  Hemoglobin  Platelets  \\\n",
       " 543                     18    1.358055    1.356092  -0.228491   \n",
       " 203                      9    1.174947    0.854844  -1.019885   \n",
       " 1624                    10    1.037616    1.481403  -1.823841   \n",
       " 500                      6   -0.038148    0.165628   0.914633   \n",
       " 34                      17    0.808730    1.042812  -0.278739   \n",
       " ...                    ...         ...         ...        ...   \n",
       " 3299                    19    0.785841    0.666876   1.366858   \n",
       " 5251                     0   -2.533002   -2.465924   3.037579   \n",
       " 1071                     4    0.694287    0.729532  -0.140559   \n",
       " 4484                     4    1.541164    1.669372   1.090499   \n",
       " 2008                     9    0.236515    0.165628   1.015128   \n",
       " \n",
       "       Mean platelet volume   Red blood Cells  Lymphocytes  \\\n",
       " 543               -0.438097         1.142196    -0.517481   \n",
       " 203               -1.784415         0.824849    -0.193377   \n",
       " 1624               0.347255         1.142196     0.966573   \n",
       " 500                0.122869        -0.515058     1.316264   \n",
       " 34                 1.581381         0.701437    -0.261609   \n",
       " ...                     ...              ...          ...   \n",
       " 3299               1.693575         0.119635     2.638266   \n",
       " 5251              -0.774677        -2.348615     3.167067   \n",
       " 1071              -1.447836         0.419350     1.145683   \n",
       " 4484              -0.213711         1.829779    -1.182746   \n",
       " 2008              -0.213711        -0.462168     1.077451   \n",
       " \n",
       "       Mean corpuscular hemoglobin concentration (MCHC)  Leukocytes  Basophils  \\\n",
       " 543                                           0.244149    0.275501  -0.223767   \n",
       " 203                                          -0.851210   -0.317234  -0.223767   \n",
       " 1624                                          1.837398   -1.135374  -0.223767   \n",
       " 500                                           0.841616    0.044529   0.998070   \n",
       " 34                                            1.040773    0.000005   0.387152   \n",
       " ...                                                ...         ...        ...   \n",
       " 3299                                         -0.253742    1.486016   0.081693   \n",
       " 5251                                         -0.452899    1.764295  -1.140144   \n",
       " 1071                                          0.343725   -0.553771   1.914447   \n",
       " 4484                                          0.742040    1.792123  -1.140144   \n",
       " 2008                                         -0.154166   -0.356193   0.692611   \n",
       " \n",
       "       Mean corpuscular hemoglobin (MCH)  Eosinophils  \\\n",
       " 543                            0.178175    -0.793368   \n",
       " 203                           -0.083183     1.608576   \n",
       " 1624                           0.387261    -0.835508   \n",
       " 500                            1.275878     0.133698   \n",
       " 34                             0.439533     0.049419   \n",
       " ...                                 ...          ...   \n",
       " 3299                           0.909977     0.133698   \n",
       " 5251                          -0.030911    -0.835508   \n",
       " 1071                           0.439533     0.217977   \n",
       " 4484                          -0.396813    -0.835508   \n",
       " 2008                           1.171335     0.302256   \n",
       " \n",
       "       Mean corpuscular volume (MCV)  Monocytes  \\\n",
       " 543                        0.066045   0.987864   \n",
       " 203                        0.366488   0.042388   \n",
       " 1624                      -0.454724  -0.377823   \n",
       " 500                        1.007433  -0.456613   \n",
       " 34                        -0.014074  -0.509139   \n",
       " ...                             ...        ...   \n",
       " 3299                       1.147641  -1.008140   \n",
       " 5251                       0.206251  -1.008140   \n",
       " 1071                       0.346459   1.303022   \n",
       " 4484                      -0.835285   0.042388   \n",
       " 2008                       1.428053   0.094915   \n",
       " \n",
       "       Red blood cell distribution width (RDW)  est malade  \n",
       " 543                                 -0.005877       False  \n",
       " 203                                 -0.448160        True  \n",
       " 1624                                -0.978899       False  \n",
       " 500                                 -0.801985       False  \n",
       " 34                                  -0.094334        True  \n",
       " ...                                       ...         ...  \n",
       " 3299                                -0.801985       False  \n",
       " 5251                                -0.005877        True  \n",
       " 1071                                -0.713529        True  \n",
       " 4484                                 0.878687        True  \n",
       " 2008                                -0.448160       False  \n",
       " \n",
       " [487 rows x 16 columns])"
      ]
     },
     "execution_count": 84,
     "metadata": {},
     "output_type": "execute_result"
    },
    {
     "data": {
      "image/png": "[encoded data removed]",
      "text/plain": [
       "<Figure size 864x576 with 1 Axes>"
      ]
     },
     "metadata": {
      "needs_background": "light"
     },
     "output_type": "display_data"
    }
   ],
   "source": [
    "hyper_params = {'svc__gamma':[1e-3, 1e-4, 0.0005],\n",
    "                'svc__C':[1, 10, 100, 1000, 3000], \n",
    "               'pipeline__polynomialfeatures__degree':[2, 3],\n",
    "               'pipeline__selectkbest__k': range(45, 60)}\n",
    "\n",
    "random_grid_svc = RandomizedSearchCV(SVC_pipeline, hyper_params, scoring='recall', cv=4,\n",
    "                          n_iter=40)\n",
    "\n",
    "random_grid_svc.fit(X_train, y_train)\n",
    "\n",
    "print(random_grid_svc.best_params_)\n",
    "\n",
    "y_pred = random_grid_svc.predict(X_test)\n",
    "\n",
    "evaluation(random_grid_svc.best_estimator_, df)"
   ]
  },
  {
   "cell_type": "markdown",
   "id": "d6a1877c",
   "metadata": {},
   "source": [
    "## Precision Recall Curve"
   ]
  },
  {
   "cell_type": "code",
   "execution_count": 85,
   "id": "dbebbe6c",
   "metadata": {},
   "outputs": [],
   "source": [
    "from sklearn.metrics import precision_recall_curve\n",
    "best_model = random_grid_svc.best_estimator_"
   ]
  },
  {
   "cell_type": "code",
   "execution_count": 86,
   "id": "4033bdbd",
   "metadata": {},
   "outputs": [
    {
     "data": {
      "text/plain": [
       "<matplotlib.legend.Legend at 0x7f9e0ab129d0>"
      ]
     },
     "execution_count": 86,
     "metadata": {},
     "output_type": "execute_result"
    },
    {
     "data": {
      "image/png": "[encoded data removed]",
      "text/plain": [
       "<Figure size 432x288 with 1 Axes>"
      ]
     },
     "metadata": {
      "needs_background": "light"
     },
     "output_type": "display_data"
    }
   ],
   "source": [
    "precision, recall, threshold = precision_recall_curve(y_test, best_model.decision_function(X_test))\n",
    "\n",
    "plt.plot(threshold, precision[:-1], label='precision')\n",
    "plt.plot(threshold, recall[:-1], label='recall')\n",
    "plt.legend()"
   ]
  },
  {
   "cell_type": "code",
   "execution_count": 87,
   "id": "d5780761",
   "metadata": {},
   "outputs": [],
   "source": [
    "def model_final(model, X, threshold=0):\n",
    "    return model.decision_function(X) > threshold\n",
    "\n",
    "# Rq: \n",
    "# np.all(model_final(best_model, X_test) == best_model.predict(X_test)) >>> True"
   ]
  },
  {
   "cell_type": "code",
   "execution_count": 92,
   "id": "080e6817",
   "metadata": {},
   "outputs": [
    {
     "data": {
      "text/plain": [
       "True"
      ]
     },
     "execution_count": 92,
     "metadata": {},
     "output_type": "execute_result"
    }
   ],
   "source": [
    "np.all(model_final(best_model, X_test) == best_model.predict(X_test))"
   ]
  },
  {
   "cell_type": "code",
   "execution_count": 88,
   "id": "d9b26cbe",
   "metadata": {},
   "outputs": [
    {
     "data": {
      "text/plain": [
       "array([ True, False, False, False, False,  True, False,  True, False,\n",
       "       False, False, False, False, False, False,  True, False,  True,\n",
       "       False,  True, False, False, False, False, False, False, False,\n",
       "       False, False, False,  True, False, False, False,  True, False,\n",
       "       False, False,  True, False, False, False, False, False, False,\n",
       "       False, False, False,  True,  True, False, False, False, False,\n",
       "        True,  True,  True,  True,  True,  True, False, False, False,\n",
       "       False,  True,  True, False, False, False, False, False, False,\n",
       "       False, False,  True,  True, False, False, False,  True, False,\n",
       "       False, False, False, False, False, False, False, False, False,\n",
       "        True, False, False, False,  True, False, False, False, False,\n",
       "       False, False,  True, False, False, False, False,  True, False,\n",
       "       False, False, False])"
      ]
     },
     "execution_count": 88,
     "metadata": {},
     "output_type": "execute_result"
    }
   ],
   "source": [
    "y_pred = model_final(best_model, X_test, threshold=-1)\n",
    "y_pred"
   ]
  },
  {
   "cell_type": "code",
   "execution_count": 89,
   "id": "e8f9eb76",
   "metadata": {},
   "outputs": [
    {
     "data": {
      "text/plain": [
       "0.5714285714285714"
      ]
     },
     "execution_count": 89,
     "metadata": {},
     "output_type": "execute_result"
    }
   ],
   "source": [
    "from sklearn.metrics import recall_score, f1_score\n",
    "f1_score(y_test, y_pred)"
   ]
  },
  {
   "cell_type": "code",
   "execution_count": 90,
   "id": "cc99a952",
   "metadata": {},
   "outputs": [
    {
     "data": {
      "text/plain": [
       "0.75"
      ]
     },
     "execution_count": 90,
     "metadata": {},
     "output_type": "execute_result"
    }
   ],
   "source": [
    "recall_score(y_test, y_pred)"
   ]
  },
  {
   "cell_type": "code",
   "execution_count": 91,
   "id": "00d9a7a5",
   "metadata": {},
   "outputs": [
    {
     "data": {
      "text/plain": [
       "True"
      ]
     },
     "execution_count": 91,
     "metadata": {},
     "output_type": "execute_result"
    }
   ],
   "source": [
    "np.all(model_final(best_model, X_test) == best_model.predict(X_test))"
   ]
  },
  {
   "cell_type": "code",
   "execution_count": null,
   "id": "94974ccc",
   "metadata": {},
   "outputs": [],
   "source": []
  }
 ],
 "metadata": {
  "kernelspec": {
   "display_name": "Python 3 (ipykernel)",
   "language": "python",
   "name": "python3"
  },
  "language_info": {
   "codemirror_mode": {
    "name": "ipython",
    "version": 3
   },
   "file_extension": ".py",
   "mimetype": "text/x-python",
   "name": "python",
   "nbconvert_exporter": "python",
   "pygments_lexer": "ipython3",
   "version": "3.9.12"
  },
  "varInspector": {
   "cols": {
    "lenName": 16,
    "lenType": 16,
    "lenVar": 40
   },
   "kernels_config": {
    "python": {
     "delete_cmd_postfix": "",
     "delete_cmd_prefix": "del ",
     "library": "var_list.py",
     "varRefreshCmd": "print(var_dic_list())"
    },
    "r": {
     "delete_cmd_postfix": ") ",
     "delete_cmd_prefix": "rm(",
     "library": "var_list.r",
     "varRefreshCmd": "cat(var_dic_list()) "
    }
   },
   "types_to_exclude": [
    "module",
    "function",
    "builtin_function_or_method",
    "instance",
    "_Feature"
   ],
   "window_display": false
  }
 },
 "nbformat": 4,
 "nbformat_minor": 5
}
