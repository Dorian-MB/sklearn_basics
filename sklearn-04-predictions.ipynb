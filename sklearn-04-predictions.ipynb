{
 "cells": [
  {
   "cell_type": "markdown",
   "id": "d5f50db6",
   "metadata": {},
   "source": [
    "# Scikit-Learn course 4\n",
    "# III Making predictions with a model"
   ]
  },
  {
   "cell_type": "markdown",
   "id": "2aa9ffc1",
   "metadata": {},
   "source": [
    "reminder : \n",
    "* `X` = features, features variables, data\n",
    "* `y` = labels, target, target variables"
   ]
  },
  {
   "cell_type": "markdown",
   "id": "f80878bc",
   "metadata": {},
   "source": [
    "## 0. Standards import"
   ]
  },
  {
   "cell_type": "code",
   "execution_count": 3,
   "id": "379de4f7",
   "metadata": {},
   "outputs": [],
   "source": [
    "import numpy as np\n",
    "import pandas as pd \n",
    "import matplotlib.pyplot as plt\n",
    "%matplotlib inline "
   ]
  },
  {
   "cell_type": "code",
   "execution_count": 4,
   "id": "66985e20",
   "metadata": {},
   "outputs": [],
   "source": [
    "# ---> y (axis=1)\n",
    "# |\n",
    "# |\n",
    "# x (axis=0)"
   ]
  },
  {
   "cell_type": "markdown",
   "id": "3858e4ff",
   "metadata": {},
   "source": [
    "## 1. Making predictions with a model : Classifier"
   ]
  },
  {
   "cell_type": "markdown",
   "id": "aaa2bab1",
   "metadata": {},
   "source": [
    "### 1.1 Fitting a model to the data"
   ]
  },
  {
   "cell_type": "code",
   "execution_count": 5,
   "id": "a965f22f",
   "metadata": {},
   "outputs": [
    {
     "data": {
      "text/plain": [
       "0.7704918032786885"
      ]
     },
     "execution_count": 5,
     "metadata": {},
     "output_type": "execute_result"
    }
   ],
   "source": [
    "# Import the RandomForestClassifier model class from the ensemble module\n",
    "from sklearn.ensemble import RandomForestClassifier\n",
    "\n",
    "# Importing data :\n",
    "heart_disease = pd.read_csv(\"data/heart-disease.csv\")\n",
    "\n",
    "# Split the data into X (features/data) and y (target/labels)\n",
    "X = heart_disease.drop(\"target\", axis=1)\n",
    "y = heart_disease[\"target\"]\n",
    "\n",
    "# Split into train and test sets\n",
    "from sklearn.model_selection import train_test_split\n",
    "X_train, X_test, y_train, y_test = train_test_split(X, y, test_size=0.2)\n",
    "\n",
    "# Instantiate the model (on the training set) (call clf)\n",
    "clf = RandomForestClassifier()\n",
    "\n",
    "# Call the fit method on the model and pass it training data\n",
    "clf.fit(X_train, y_train)\n",
    "\n",
    "# Check the score of the model (on the test set)\n",
    "clf.score(X_test, y_test)"
   ]
  },
  {
   "cell_type": "markdown",
   "id": "3dd9439e",
   "metadata": {},
   "source": [
    "### 1.2 Predictions\n",
    "2 ways to make predictions :\n",
    "1. `predict()`\n",
    "2. `predict_proba()`"
   ]
  },
  {
   "cell_type": "code",
   "execution_count": 6,
   "id": "d4409771",
   "metadata": {},
   "outputs": [
    {
     "data": {
      "text/plain": [
       "array([1, 1, 1, 1, 1, 0, 1, 0, 0, 1, 0, 0, 1, 1, 0, 0, 1, 0, 0, 1, 1, 1,\n",
       "       1, 0, 1, 0, 1, 1, 1, 0, 1, 0, 1, 1, 0, 1, 0, 0, 1, 0, 0, 1, 0, 0,\n",
       "       1, 0, 1, 0, 1, 1, 1, 1, 1, 1, 1, 1, 1, 0, 1, 0, 0])"
      ]
     },
     "execution_count": 6,
     "metadata": {},
     "output_type": "execute_result"
    }
   ],
   "source": [
    "y_preds = clf.predict(X_test)\n",
    "y_preds"
   ]
  },
  {
   "cell_type": "code",
   "execution_count": 7,
   "id": "db697101",
   "metadata": {},
   "outputs": [
    {
     "data": {
      "text/plain": [
       "array([1, 1, 1, 1, 1, 0, 1, 0, 0, 1, 0, 0, 1, 0, 0, 0, 1, 1, 0, 1, 1, 1,\n",
       "       1, 0, 1, 0, 1, 1, 1, 0, 0, 0, 0, 0, 0, 1, 0, 1, 1, 1, 0, 0, 0, 1,\n",
       "       1, 0, 1, 0, 0, 1, 1, 0, 0, 1, 1, 1, 0, 0, 1, 1, 0])"
      ]
     },
     "execution_count": 7,
     "metadata": {},
     "output_type": "execute_result"
    }
   ],
   "source": [
    "np.array(y_test)"
   ]
  },
  {
   "cell_type": "code",
   "execution_count": 8,
   "id": "b4e8531a",
   "metadata": {},
   "outputs": [
    {
     "data": {
      "text/plain": [
       "0.7704918032786885"
      ]
     },
     "execution_count": 8,
     "metadata": {},
     "output_type": "execute_result"
    }
   ],
   "source": [
    "# compare prediction to truth labels to evaluate the model\n",
    "np.mean(y_preds == y_test) # same as clf.score for a classification probleme"
   ]
  },
  {
   "cell_type": "code",
   "execution_count": 9,
   "id": "26c580ad",
   "metadata": {},
   "outputs": [
    {
     "data": {
      "text/plain": [
       "0.7704918032786885"
      ]
     },
     "execution_count": 9,
     "metadata": {},
     "output_type": "execute_result"
    }
   ],
   "source": [
    "clf.score(X_test, y_test)"
   ]
  },
  {
   "cell_type": "code",
   "execution_count": 10,
   "id": "a9f15204",
   "metadata": {},
   "outputs": [
    {
     "data": {
      "text/plain": [
       "0.7704918032786885"
      ]
     },
     "execution_count": 10,
     "metadata": {},
     "output_type": "execute_result"
    }
   ],
   "source": [
    "from sklearn.metrics import accuracy_score\n",
    "accuracy_score(y_test, y_preds)"
   ]
  },
  {
   "cell_type": "markdown",
   "id": "b06d0ca2",
   "metadata": {},
   "source": [
    "Make prediction using `predict_proba()`\n",
    "<br>\n",
    "`predict_proba()` returns probabilities of a classification label"
   ]
  },
  {
   "cell_type": "code",
   "execution_count": 11,
   "id": "511c558b",
   "metadata": {},
   "outputs": [
    {
     "data": {
      "text/plain": [
       "array([[0.12, 0.88],\n",
       "       [0.22, 0.78],\n",
       "       [0.3 , 0.7 ],\n",
       "       [0.14, 0.86],\n",
       "       [0.  , 1.  ],\n",
       "       [0.93, 0.07],\n",
       "       [0.22, 0.78],\n",
       "       [0.98, 0.02],\n",
       "       [0.98, 0.02],\n",
       "       [0.  , 1.  ]])"
      ]
     },
     "execution_count": 11,
     "metadata": {},
     "output_type": "execute_result"
    }
   ],
   "source": [
    "clf.predict_proba(X_test)[:10]"
   ]
  },
  {
   "cell_type": "code",
   "execution_count": 12,
   "id": "5ef7e378",
   "metadata": {},
   "outputs": [
    {
     "data": {
      "text/plain": [
       "array([1, 1, 1, 1, 1, 0, 1, 0, 0, 1])"
      ]
     },
     "execution_count": 12,
     "metadata": {},
     "output_type": "execute_result"
    }
   ],
   "source": [
    "# Let's predict() on the same data \n",
    "clf.predict(X_test[:10])"
   ]
  },
  {
   "cell_type": "markdown",
   "id": "d21b967c",
   "metadata": {},
   "source": [
    "if the first one on `predict_proba` is [0.66, 0.34]\n",
    "<br>\n",
    "then the first one on `predict` is 0\n",
    "<br><br>\n",
    "then we understand `predict_proba` return the probabilities for ech prediction to be 1 AND 0 (for this data)\n",
    "<br> \n",
    "for the first one, the proba to be 0 is 66% and the proba to be 1 is 34%(`predict_proba`) ; then `predict` return us 0"
   ]
  },
  {
   "cell_type": "markdown",
   "id": "d29bed47",
   "metadata": {},
   "source": [
    "## 2. Making predictions with a model : Regressor"
   ]
  },
  {
   "cell_type": "markdown",
   "id": "1fb57cfe",
   "metadata": {},
   "source": [
    "### 2.1 Fitting a model to the data"
   ]
  },
  {
   "cell_type": "code",
   "execution_count": 13,
   "id": "e48a14fd",
   "metadata": {},
   "outputs": [
    {
     "data": {
      "text/plain": [
       "0.807352481049985"
      ]
     },
     "execution_count": 13,
     "metadata": {},
     "output_type": "execute_result"
    }
   ],
   "source": [
    "from sklearn.ensemble import RandomForestRegressor\n",
    "\n",
    "from sklearn.datasets import fetch_california_housing\n",
    "housing = fetch_california_housing()\n",
    "housing_df = pd.DataFrame(housing[\"data\"], columns=housing[\"feature_names\"])\n",
    "housing_df[\"target\"] = pd.Series(housing[\"target\"])\n",
    "\n",
    "X = housing_df.drop(\"target\", axis=1)\n",
    "y = housing_df.target # median house price in $100k\n",
    "\n",
    "X_train, X_test, y_train, y_test = train_test_split(X,y,test_size=0.2)\n",
    "\n",
    "model = RandomForestRegressor(n_estimators=100)\n",
    "# n_estimators is the number of different model that RandomForestRegressor is gonna use\n",
    "\n",
    "model.fit(X_train,y_train)\n",
    "model.score(X_test,y_test)"
   ]
  },
  {
   "cell_type": "markdown",
   "id": "a917db82",
   "metadata": {},
   "source": [
    "### 2.2 Predictions"
   ]
  },
  {
   "cell_type": "code",
   "execution_count": 14,
   "id": "1a58021a",
   "metadata": {},
   "outputs": [
    {
     "data": {
      "text/plain": [
       "array([1.01404  , 0.952    , 1.30071  , 1.78206  , 2.6553905, 1.12759  ,\n",
       "       0.85905  , 2.01749  , 1.09058  , 1.9647802])"
      ]
     },
     "execution_count": 14,
     "metadata": {},
     "output_type": "execute_result"
    }
   ],
   "source": [
    "y_preds = model.predict(X_test)\n",
    "y_preds[:10]"
   ]
  },
  {
   "cell_type": "code",
   "execution_count": 15,
   "id": "9fe9c320",
   "metadata": {},
   "outputs": [
    {
     "data": {
      "text/plain": [
       "array([0.949, 0.722, 0.965, 1.688, 3.238, 1.064, 1.125, 1.   , 1.188,\n",
       "       2.298])"
      ]
     },
     "execution_count": 15,
     "metadata": {},
     "output_type": "execute_result"
    }
   ],
   "source": [
    "np.array(y_test)[:10]"
   ]
  },
  {
   "cell_type": "code",
   "execution_count": 16,
   "id": "e6e5792f",
   "metadata": {},
   "outputs": [
    {
     "data": {
      "text/plain": [
       "0.3085089299999996"
      ]
     },
     "execution_count": 16,
     "metadata": {},
     "output_type": "execute_result"
    }
   ],
   "source": [
    "# calculate the mean difference between the prediction (y_preds) and truth (y_test)\n",
    "# lower is best\n",
    "np.mean(np.abs(y_preds[:10] - np.array(y_test)[:10]))"
   ]
  },
  {
   "cell_type": "code",
   "execution_count": 17,
   "id": "28c784be",
   "metadata": {},
   "outputs": [
    {
     "data": {
      "text/plain": [
       "0.3085089299999996"
      ]
     },
     "execution_count": 17,
     "metadata": {},
     "output_type": "execute_result"
    }
   ],
   "source": [
    "# there exists a function in sklearn that already does that :\n",
    "from sklearn.metrics import mean_absolute_error\n",
    "mean_absolute_error(y_preds[:10], np.array(y_test)[:10])"
   ]
  },
  {
   "cell_type": "code",
   "execution_count": 18,
   "id": "5a640dde",
   "metadata": {},
   "outputs": [
    {
     "data": {
      "text/plain": [
       "array([106.85353003, 131.85595568, 134.78860104, 105.57227488,\n",
       "        82.00711859, 105.97650376,  76.36      , 201.749     ,\n",
       "        91.7996633 ,  85.49957354])"
      ]
     },
     "execution_count": 18,
     "metadata": {},
     "output_type": "execute_result"
    }
   ],
   "source": [
    "percentage_error_array = y_preds[:10]*100/np.array(y_test)[:10]\n",
    "percentage_error_array"
   ]
  },
  {
   "cell_type": "code",
   "execution_count": 19,
   "id": "d5cb91a7",
   "metadata": {},
   "outputs": [
    {
     "data": {
      "text/plain": [
       "112.24622208210641"
      ]
     },
     "execution_count": 19,
     "metadata": {},
     "output_type": "execute_result"
    }
   ],
   "source": [
    "np.mean(percentage_error_array)"
   ]
  },
  {
   "cell_type": "code",
   "execution_count": 20,
   "id": "5960d00e",
   "metadata": {},
   "outputs": [],
   "source": [
    "# 3h27"
   ]
  },
  {
   "cell_type": "code",
   "execution_count": null,
   "id": "2156f53f",
   "metadata": {},
   "outputs": [],
   "source": []
  }
 ],
 "metadata": {
  "kernelspec": {
   "display_name": "Python 3 (ipykernel)",
   "language": "python",
   "name": "python3"
  },
  "language_info": {
   "codemirror_mode": {
    "name": "ipython",
    "version": 3
   },
   "file_extension": ".py",
   "mimetype": "text/x-python",
   "name": "python",
   "nbconvert_exporter": "python",
   "pygments_lexer": "ipython3",
   "version": "3.9.12"
  },
  "varInspector": {
   "cols": {
    "lenName": 16,
    "lenType": 16,
    "lenVar": 40
   },
   "kernels_config": {
    "python": {
     "delete_cmd_postfix": "",
     "delete_cmd_prefix": "del ",
     "library": "var_list.py",
     "varRefreshCmd": "print(var_dic_list())"
    },
    "r": {
     "delete_cmd_postfix": ") ",
     "delete_cmd_prefix": "rm(",
     "library": "var_list.r",
     "varRefreshCmd": "cat(var_dic_list()) "
    }
   },
   "types_to_exclude": [
    "module",
    "function",
    "builtin_function_or_method",
    "instance",
    "_Feature"
   ],
   "window_display": false
  }
 },
 "nbformat": 4,
 "nbformat_minor": 5
}
