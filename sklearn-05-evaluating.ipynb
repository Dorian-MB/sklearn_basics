{
 "cells": [
  {
   "cell_type": "markdown",
   "id": "3c9b95f7",
   "metadata": {},
   "source": [
    "# Scikit-Learn course 5"
   ]
  },
  {
   "cell_type": "markdown",
   "id": "026e8690",
   "metadata": {},
   "source": [
    "# IV. Evaluating a machine learning model\n",
    "\n",
    "Three ways to evaluate Scikit-Learn models/estimators:\n",
    "\n",
    "1. Estimator's built-in `score()` method :  The metric depends on which model you're using.\n",
    "<br><br>\n",
    "2. The scoring parameter : This parameter can be passed to methods such as `cross_val_score()` or `GridSearchCV()` to tell Scikit-Learn to use a specific type of scoring metric.\n",
    "<br><br>\n",
    "3. Problem-specific metric functions : Similar to how the scoring parameter can be passed different scoring functions, Scikit-Learn implements these as stand alone functions.\n",
    "<br><br>\n",
    "You can read more about these here: https://scikit-learn.org/stable/modules/model_evaluation.html"
   ]
  },
  {
   "cell_type": "markdown",
   "id": "fef86bb0",
   "metadata": {},
   "source": [
    "## What we gonna see:"
   ]
  },
  {
   "cell_type": "markdown",
   "id": "c7387d67",
   "metadata": {},
   "source": [
    "![.](images/ML_metrics.webp)"
   ]
  },
  {
   "cell_type": "markdown",
   "id": "4bca2417",
   "metadata": {},
   "source": [
    "![.](images/regression_metrics.JPG)"
   ]
  },
  {
   "cell_type": "markdown",
   "id": "3840ee22",
   "metadata": {},
   "source": [
    "![.](images/classification_metrics.png)"
   ]
  },
  {
   "cell_type": "markdown",
   "id": "3199f998",
   "metadata": {},
   "source": [
    "## 0. stardards import"
   ]
  },
  {
   "cell_type": "code",
   "execution_count": 9,
   "id": "9791aad7",
   "metadata": {},
   "outputs": [],
   "source": [
    "import numpy as np\n",
    "import pandas as pd \n",
    "import matplotlib.pyplot as plt\n",
    "%matplotlib inline "
   ]
  },
  {
   "cell_type": "code",
   "execution_count": 10,
   "id": "b599cfe4",
   "metadata": {},
   "outputs": [],
   "source": [
    "# ---> y (axis=1)\n",
    "# |\n",
    "# |\n",
    "# x (axis=0)"
   ]
  },
  {
   "cell_type": "markdown",
   "id": "345fa7b1",
   "metadata": {},
   "source": [
    "## 1. Fitting a model to the data"
   ]
  },
  {
   "cell_type": "code",
   "execution_count": 11,
   "id": "4dc31fe2",
   "metadata": {},
   "outputs": [
    {
     "data": {
      "text/plain": [
       "RandomForestClassifier(n_estimators=1000)"
      ]
     },
     "execution_count": 11,
     "metadata": {},
     "output_type": "execute_result"
    }
   ],
   "source": [
    "from sklearn.ensemble import RandomForestClassifier\n",
    "\n",
    "# import data \n",
    "heart_disease = pd.read_csv(\"data/heart-disease.csv\")\n",
    "\n",
    "# Make the data\n",
    "X = heart_disease.drop(\"target\", axis=1)\n",
    "y = heart_disease[\"target\"]\n",
    "\n",
    "# Split the data\n",
    "from sklearn.model_selection import train_test_split\n",
    "X_train, X_test, y_train, y_test = train_test_split(X, y, test_size=0.2)\n",
    "\n",
    "# Instantiate Random Forest Classifier\n",
    "clf = RandomForestClassifier(n_estimators=1000)\n",
    "\n",
    "# Fit the model to the data (training the machine learning model)\n",
    "clf.fit(X_train, y_train)"
   ]
  },
  {
   "cell_type": "markdown",
   "id": "86e40b23",
   "metadata": {},
   "source": [
    "## 2. General model evaluation with `score()`"
   ]
  },
  {
   "cell_type": "code",
   "execution_count": 12,
   "id": "23fae883",
   "metadata": {},
   "outputs": [
    {
     "data": {
      "text/plain": [
       "0.819672131147541"
      ]
     },
     "execution_count": 12,
     "metadata": {},
     "output_type": "execute_result"
    }
   ],
   "source": [
    "# Check the score of the model (on the test set)\n",
    "clf.score(X_test, y_test)"
   ]
  },
  {
   "cell_type": "markdown",
   "id": "8113a57a",
   "metadata": {},
   "source": [
    "## 3. Evaluating a model using the `scoring` parameter\n",
    "https://scikit-learn.org/stable/modules/generated/sklearn.model_selection.cross_val_score.html#sklearn.model_selection.cross_val_score"
   ]
  },
  {
   "cell_type": "code",
   "execution_count": 13,
   "id": "61f61dbe",
   "metadata": {},
   "outputs": [
    {
     "data": {
      "text/plain": [
       "array([0.83606557, 0.8852459 , 0.78688525, 0.78333333, 0.78333333])"
      ]
     },
     "execution_count": 13,
     "metadata": {},
     "output_type": "execute_result"
    }
   ],
   "source": [
    "from sklearn .model_selection import cross_val_score\n",
    "cross_val_score(clf,X,y) # cv=5 (by default) -> cv : cross-validation\n",
    "# not X_test and y_test\n",
    "# excepte if you want a validation set\n",
    "# then cross_val will be between training and validation\n",
    "# and you still have the test set"
   ]
  },
  {
   "cell_type": "markdown",
   "id": "fce47a7c",
   "metadata": {},
   "source": [
    "<strong>\n",
    "<font color=red>\n",
    "     not X_test and y_test <br>\n",
    "     excepte if you want a validation set<br>\n",
    "     then cross_val will be between training and validation<br>\n",
    "     and you still have the test set<br>\n",
    "</font>\n",
    "</strong>"
   ]
  },
  {
   "cell_type": "markdown",
   "id": "52ba92c8",
   "metadata": {},
   "source": [
    "![](images/sklearn-cross-validation.png)"
   ]
  },
  {
   "cell_type": "markdown",
   "id": "1846ef7c",
   "metadata": {},
   "source": [
    "We've dealt with Figure 1.0 before using score(X_test, y_test). But looking deeper into this, if a model is trained using the training data or 80% of samples, this means 20% of samples aren't used for the model to learn anything.\n",
    "\n",
    "This also means depending on what 80% is used to train on and what 20% is used to evaluate the model, it may achieve a score which doesn't reflect the entire dataset. For example, if a lot of easy examples are in the 80% training data, when it comes to test on the 20%, your model may perform poorly. The same goes for the reverse.\n",
    "\n",
    "Figure 2.0 shows 5-fold cross-validation, a method which tries to provide a solution to:\n",
    "\n",
    "Not training on all the data\n",
    "Avoiding getting lucky scores on single splits of the data\n",
    "Instead of training only on 1 training split and evaluating on 1 testing split, 5-fold cross-validation does it 5 times. On a different split each time, returning a score for each."
   ]
  },
  {
   "cell_type": "markdown",
   "id": "683a1dd1",
   "metadata": {},
   "source": [
    "### 3.1 comparison "
   ]
  },
  {
   "cell_type": "code",
   "execution_count": 14,
   "id": "961cbadb",
   "metadata": {},
   "outputs": [
    {
     "data": {
      "text/plain": [
       "(0.819672131147541, 0.8181967213114755)"
      ]
     },
     "execution_count": 14,
     "metadata": {},
     "output_type": "execute_result"
    }
   ],
   "source": [
    "# Single training and test split score : score()\n",
    "single_score = clf.score(X_test,y_test)\n",
    "\n",
    "# Take the mean of 5-folf cross-validation score : cross_val_score()\n",
    "cross_validation_score = np.mean(cross_val_score(clf,X,y))\n",
    "\n",
    "# Compare the tow\n",
    "single_score, cross_validation_score\n",
    "\n",
    "# We prefer the cross_validation_score"
   ]
  },
  {
   "cell_type": "markdown",
   "id": "7e939e0e",
   "metadata": {},
   "source": [
    "### 3.2 `scoring` parameter : Classification model evaluation metrics"
   ]
  },
  {
   "cell_type": "markdown",
   "id": "4b7a3892",
   "metadata": {},
   "source": [
    "by default, `scoring` parameter of `cross_val_score` is `None`,\n",
    "<br>\n",
    "`scoring` refere to the metric use to evaluate our model "
   ]
  },
  {
   "cell_type": "markdown",
   "id": "dc8ef205",
   "metadata": {},
   "source": [
    "1. Accuracy\n",
    "2. Area under ROC curve\n",
    "3. Confusion matrix\n",
    "4. Classification report"
   ]
  },
  {
   "cell_type": "markdown",
   "id": "5e891b67",
   "metadata": {},
   "source": [
    "**Accuracy :**"
   ]
  },
  {
   "cell_type": "code",
   "execution_count": 15,
   "id": "33fc9d0a",
   "metadata": {},
   "outputs": [
    {
     "data": {
      "text/plain": [
       "array([0.81967213, 0.8852459 , 0.80327869, 0.85      , 0.75      ])"
      ]
     },
     "execution_count": 15,
     "metadata": {},
     "output_type": "execute_result"
    }
   ],
   "source": [
    "# by default, score() use the mean accuracy as a metrics\n",
    "\n",
    "from sklearn.ensemble import RandomForestClassifier\n",
    "from sklearn.model_selection import cross_val_score\n",
    "\n",
    "X = heart_disease.drop(\"target\", axis=1)\n",
    "y = heart_disease.target\n",
    "\n",
    "clf = RandomForestClassifier()\n",
    "cv_score = cross_val_score(clf, X, y)\n",
    "cv_score"
   ]
  },
  {
   "cell_type": "code",
   "execution_count": 16,
   "id": "52532596",
   "metadata": {
    "scrolled": true
   },
   "outputs": [
    {
     "data": {
      "text/plain": [
       "'Heart disease Classifier cross-validated accuracy (mean) : 82.16%'"
      ]
     },
     "execution_count": 16,
     "metadata": {},
     "output_type": "execute_result"
    }
   ],
   "source": [
    "f\"Heart disease Classifier cross-validated accuracy (mean) : {np.mean(cv_score)*100:.2f}%\"\n",
    "# `.2f` python short-cut to : round(np.mean(cv_score,2))"
   ]
  },
  {
   "cell_type": "markdown",
   "id": "96133119",
   "metadata": {},
   "source": [
    "**Better :**"
   ]
  },
  {
   "cell_type": "code",
   "execution_count": 17,
   "id": "da6f9bd4",
   "metadata": {},
   "outputs": [
    {
     "data": {
      "text/plain": [
       "array([0.81967213, 0.86885246, 0.81967213, 0.76666667, 0.76666667])"
      ]
     },
     "execution_count": 17,
     "metadata": {},
     "output_type": "execute_result"
    }
   ],
   "source": [
    "from sklearn.model_selection import StratifiedKFold\n",
    "\n",
    "cv = StratifiedKFold(5)\n",
    "clf = RandomForestClassifier()\n",
    "cv_score = cross_val_score(clf, X, y)\n",
    "cv_score"
   ]
  },
  {
   "cell_type": "code",
   "execution_count": 18,
   "id": "d1916457",
   "metadata": {},
   "outputs": [
    {
     "data": {
      "text/plain": [
       "'Heart disease Classifier cross-validated accuracy (mean) : 80.83%'"
      ]
     },
     "execution_count": 18,
     "metadata": {},
     "output_type": "execute_result"
    }
   ],
   "source": [
    "f\"Heart disease Classifier cross-validated accuracy (mean) : {np.mean(cv_score)*100:.2f}%\"\n",
    "# `.2f` python short-cut to : round(np.mean(cv_score,2))"
   ]
  },
  {
   "cell_type": "markdown",
   "id": "68a60be9",
   "metadata": {},
   "source": [
    "#### 3.2.1 Area under the receiver operating characteristic curve (AUC/ROC) :\n",
    "<br>\n",
    "It's usually referred to as AUC for Area Under Curve and the curve they're talking about is the Receiver Operating Characteristic or ROC for short.\n",
    "\n",
    "**ROC curves are a comparison of true postive rate (tpr) VS false positive rate (fpr).**\n",
    "* True positive  (TP) = model predicts 1 when truth is 1\n",
    "* False positive (FP) = model predicts 1 when truth is 0\n",
    "* True negative  (TN) = model predicts 0 when truth is 0\n",
    "* False negative (FN) = model predicts 0 when truth is 1\n",
    "\n",
    "Scikit-Learn lets you calculate the information required for a ROC curve using the `roc_curve` function.\n",
    "\n",
    "<br>\n",
    "\n",
    "$TPR = {TP \\over TP + FN}$ \n",
    "> TP + FN : truth is 1\n",
    "\n",
    "$FPR = {FP \\over TN + FP}$\n",
    "> TN + FP : truth is 0"
   ]
  },
  {
   "cell_type": "code",
   "execution_count": 19,
   "id": "ddcc9685",
   "metadata": {
    "scrolled": true
   },
   "outputs": [
    {
     "data": {
      "text/plain": [
       "(array([0.        , 0.        , 0.        , 0.        , 0.        ,\n",
       "        0.03703704, 0.03703704, 0.03703704, 0.03703704, 0.03703704,\n",
       "        0.03703704, 0.07407407, 0.11111111, 0.11111111, 0.22222222,\n",
       "        0.22222222, 0.25925926, 0.25925926, 0.25925926, 0.33333333,\n",
       "        0.37037037, 0.37037037, 0.44444444, 0.48148148, 0.51851852,\n",
       "        0.66666667, 0.7037037 , 0.77777778, 0.81481481, 0.96296296,\n",
       "        1.        ]),\n",
       " array([0.        , 0.05882353, 0.11764706, 0.20588235, 0.26470588,\n",
       "        0.26470588, 0.32352941, 0.38235294, 0.41176471, 0.47058824,\n",
       "        0.58823529, 0.58823529, 0.61764706, 0.70588235, 0.70588235,\n",
       "        0.79411765, 0.79411765, 0.82352941, 0.88235294, 0.88235294,\n",
       "        0.91176471, 0.94117647, 0.94117647, 0.94117647, 0.97058824,\n",
       "        0.97058824, 1.        , 1.        , 1.        , 1.        ,\n",
       "        1.        ]))"
      ]
     },
     "execution_count": 19,
     "metadata": {},
     "output_type": "execute_result"
    }
   ],
   "source": [
    "from sklearn.metrics import roc_curve\n",
    "\n",
    "X = heart_disease.drop(\"target\", axis=1)\n",
    "y = heart_disease.target\n",
    "X_train, X_test, y_train, y_test = train_test_split(X, y, test_size=0.2)\n",
    "clf = RandomForestClassifier()\n",
    "clf.fit(X_train, y_train)\n",
    "\n",
    "# Make predictions with probabilities\n",
    "y_probs = clf.predict_proba(X_test)\n",
    "\n",
    "# Keep the probabilites of the positive class only\n",
    "y_probs_positive = y_probs[:, 1] # take every line \":\", take the second term \"1\" \n",
    "\n",
    "# Calculate fpr, tpr and thresholds\n",
    "fpr, tpr, thresholds = roc_curve(y_true=y_test, y_score=y_probs_positive) # thresholds (en) : seuils (fr)\n",
    "\n",
    "# Check the false positive rate\n",
    "fpr, tpr"
   ]
  },
  {
   "cell_type": "markdown",
   "id": "db9ae04f",
   "metadata": {},
   "source": [
    "**WARNING** : y_true must be {-1,1} or {0,1}. If labels are not either {-1, 1} or {0, 1}, then\n",
    "    `pos_label` parameters should be explicitly given.\n",
    "<br>\n",
    "<font color=\"red\">thresholds (en) : seuils (fr)</font>\n",
    "\n",
    "**return :**\n",
    "* **fpr** : Increasing false positive rates such that element `i` is the false positive rate of predictions with score >= `thresholds[i]`.\n",
    "* **tpr** : Increasing true positive rates such that element `i` is the true positive rate of predictions with score >= `thresholds[i]`\n",
    "* **thresholds** : Decreasing thresholds on the decision function used to compute\n",
    "    fpr and tpr. `thresholds[0]` represents no instances being predicted\n",
    "    and is arbitrarily set to `max(y_score) + 1`.\n",
    "    "
   ]
  },
  {
   "cell_type": "markdown",
   "id": "89206b45",
   "metadata": {},
   "source": [
    "**Plotting the ROC curve**\n",
    "> An ROC curve plots TPR vs. FPR at different classification thresholds (seuils)"
   ]
  },
  {
   "cell_type": "markdown",
   "id": "46cd2577",
   "metadata": {},
   "source": [
    "<img src=\"images/ROCCurve.svg\" style=\"width: 400px;\"/>"
   ]
  },
  {
   "cell_type": "code",
   "execution_count": 20,
   "id": "0ec5261d",
   "metadata": {},
   "outputs": [
    {
     "data": {
      "image/png": "[encoded data removed]",
      "text/plain": [
       "<Figure size 432x288 with 1 Axes>"
      ]
     },
     "metadata": {
      "needs_background": "light"
     },
     "output_type": "display_data"
    }
   ],
   "source": [
    "def plotting_ROC_curve(fpr, tpr,baseline=True):\n",
    "    \"\"\"\n",
    "    Plots a ROC curve given the false positve rate (fpr) and \n",
    "    true postive rate (tpr) of a classifier.\n",
    "    \"\"\"\n",
    "    plt.plot(fpr, tpr, c=\"red\", label=\"ROC\")\n",
    "    if baseline :\n",
    "        plt.plot([0,1],[0,1], \"--\",c=\"blue\", label=\"baseline/guessing\")\n",
    "    plt.xlabel(\"False positive rate (fpr)\")\n",
    "    plt.ylabel(\"True positive rate (tpr)\")\n",
    "    plt.title(\"Receiver Operating Chatacteristic (ROC) Curve\")\n",
    "    plt.legend()\n",
    "    plt.show()\n",
    "    \n",
    "plotting_ROC_curve(fpr, tpr)"
   ]
  },
  {
   "cell_type": "markdown",
   "id": "46dce0c5",
   "metadata": {},
   "source": [
    "The main thing to take away here is our model is doing far better than guessing.\n",
    "\n",
    "A metric you can use to quantify the ROC curve in a single number is AUC (Area Under Curve)-> **Integral**. Scikit-Learn implements a function to caculate this called `roc_auc_score()`.\n",
    "\n",
    "The maximum ROC AUC score you can achieve is 1.0 and generally, the closer to 1.0, the better the model.\n",
    "<br>\n",
    "ie : the red line must be on the top => tpr = 1 => model predict right"
   ]
  },
  {
   "cell_type": "code",
   "execution_count": 21,
   "id": "32b5508b",
   "metadata": {},
   "outputs": [
    {
     "data": {
      "text/plain": [
       "0.8769063180827886"
      ]
     },
     "execution_count": 21,
     "metadata": {},
     "output_type": "execute_result"
    }
   ],
   "source": [
    "from sklearn.metrics import roc_auc_score\n",
    "roc_auc_score(y_test, y_probs_positive)"
   ]
  },
  {
   "cell_type": "markdown",
   "id": "345d8151",
   "metadata": {},
   "source": [
    "perferct ROC curve :"
   ]
  },
  {
   "cell_type": "code",
   "execution_count": 22,
   "id": "217bb4da",
   "metadata": {},
   "outputs": [
    {
     "data": {
      "image/png": "[encoded data removed]",
      "text/plain": [
       "<Figure size 432x288 with 1 Axes>"
      ]
     },
     "metadata": {
      "needs_background": "light"
     },
     "output_type": "display_data"
    }
   ],
   "source": [
    "fpr, tpr, thresholds = roc_curve(y_test, y_test)\n",
    "plotting_ROC_curve(fpr, tpr, False)\n",
    "# mean no false positive => only true positive"
   ]
  },
  {
   "cell_type": "markdown",
   "id": "c62f0855",
   "metadata": {},
   "source": [
    " #### 3.2.2 confusion matrix :\n",
    " <br>\n",
    " https://en.wikipedia.org/wiki/Confusion_matrix"
   ]
  },
  {
   "cell_type": "markdown",
   "id": "474c6c2c",
   "metadata": {},
   "source": [
    "A confusion matrix is a quick way to compare the labels a model predicts and the actual labels it was supposed to predict (ie true label). In essence, giving you an idea of where the model is getting confused."
   ]
  },
  {
   "cell_type": "code",
   "execution_count": 23,
   "id": "e355ecf5",
   "metadata": {},
   "outputs": [
    {
     "data": {
      "text/plain": [
       "array([[20,  7],\n",
       "       [ 4, 30]])"
      ]
     },
     "execution_count": 23,
     "metadata": {},
     "output_type": "execute_result"
    }
   ],
   "source": [
    "from sklearn.metrics import confusion_matrix\n",
    "y_preds = clf.predict(X_test)\n",
    "confusion_matrix(y_test, y_preds)\n",
    "# diag elements has to be the highter possible\n",
    "# ex :\n",
    "# [[27,  7],\n",
    "# [ 4, 23]]\n",
    "# here for the first line, 27 have been well predict and 7 not. \n",
    "# 7 have been predict to be in the seconde classe, while they are \n",
    "# in the first one..\n",
    "# then those 7 are \"False positive\" -> FP\n",
    "\n",
    "# 1st [[27,  7],\n",
    "# 2nd [ 4, 23]]\n",
    "#      1st 2nd\n",
    "\n",
    "# here with heart-disease dataset we have :\n",
    "# \"1st\" ~ \"0\" -> no heart-disease\n",
    "#\"2nd\" ~ \"1\" -> heart-disease"
   ]
  },
  {
   "cell_type": "code",
   "execution_count": 24,
   "id": "b6f6df72",
   "metadata": {},
   "outputs": [
    {
     "data": {
      "text/html": [
       "<div>\n",
       "<style scoped>\n",
       "    .dataframe tbody tr th:only-of-type {\n",
       "        vertical-align: middle;\n",
       "    }\n",
       "\n",
       "    .dataframe tbody tr th {\n",
       "        vertical-align: top;\n",
       "    }\n",
       "\n",
       "    .dataframe thead th {\n",
       "        text-align: right;\n",
       "    }\n",
       "</style>\n",
       "<table border=\"1\" class=\"dataframe\">\n",
       "  <thead>\n",
       "    <tr style=\"text-align: right;\">\n",
       "      <th>Predicted Labels</th>\n",
       "      <th>0</th>\n",
       "      <th>1</th>\n",
       "    </tr>\n",
       "    <tr>\n",
       "      <th>True Labels</th>\n",
       "      <th></th>\n",
       "      <th></th>\n",
       "    </tr>\n",
       "  </thead>\n",
       "  <tbody>\n",
       "    <tr>\n",
       "      <th>0</th>\n",
       "      <td>20</td>\n",
       "      <td>7</td>\n",
       "    </tr>\n",
       "    <tr>\n",
       "      <th>1</th>\n",
       "      <td>4</td>\n",
       "      <td>30</td>\n",
       "    </tr>\n",
       "  </tbody>\n",
       "</table>\n",
       "</div>"
      ],
      "text/plain": [
       "Predicted Labels   0   1\n",
       "True Labels             \n",
       "0                 20   7\n",
       "1                  4  30"
      ]
     },
     "execution_count": 24,
     "metadata": {},
     "output_type": "execute_result"
    }
   ],
   "source": [
    "# visualize confusion matrix with pd.crosstab()\n",
    "pd.crosstab(y_test,y_preds,\n",
    "           rownames=[\"True Labels\"],\n",
    "           colnames=[\"Predicted Labels\"])"
   ]
  },
  {
   "cell_type": "markdown",
   "id": "0bfc9cf6",
   "metadata": {},
   "source": [
    "![](images/02-anatomy-of-a-confusion-matrix.png)"
   ]
  },
  {
   "cell_type": "markdown",
   "id": "a7881b9b",
   "metadata": {},
   "source": [
    "**Make our confusion matrix more visual with Seaboarn's `heatmap()`**\n",
    "<br>\n",
    "First insatall seaboarn on our environement :\n",
    "\n",
    "!conda env list -> choose the right env <br>\n",
    "!conda activate path_env <br>\n",
    "import sys <br>\n",
    "!conda install --yes --prefix {sys.prefix} seaborn"
   ]
  },
  {
   "cell_type": "code",
   "execution_count": 25,
   "id": "6e0b26cf",
   "metadata": {},
   "outputs": [
    {
     "data": {
      "text/plain": [
       "<AxesSubplot:>"
      ]
     },
     "execution_count": 25,
     "metadata": {},
     "output_type": "execute_result"
    },
    {
     "data": {
      "image/png": "[encoded data removed]",
      "text/plain": [
       "<Figure size 432x288 with 2 Axes>"
      ]
     },
     "metadata": {},
     "output_type": "display_data"
    }
   ],
   "source": [
    "import seaborn as sns\n",
    "\n",
    "# Set the font scale\n",
    "sns.set(font_scale=1.5)\n",
    "\n",
    "# Create the confusion matrix\n",
    "conf_matrix = confusion_matrix(y_test, y_preds)\n",
    "\n",
    "# Plot it using seaborn\n",
    "sns.heatmap(conf_matrix)"
   ]
  },
  {
   "cell_type": "markdown",
   "id": "59abcdd4",
   "metadata": {},
   "source": [
    "**Make our confusion matrix more visual with sklearn 1.0+**"
   ]
  },
  {
   "cell_type": "code",
   "execution_count": 26,
   "id": "84c74d51",
   "metadata": {},
   "outputs": [
    {
     "data": {
      "text/plain": [
       "<sklearn.metrics._plot.confusion_matrix.ConfusionMatrixDisplay at 0x7fc2ff871190>"
      ]
     },
     "execution_count": 26,
     "metadata": {},
     "output_type": "execute_result"
    },
    {
     "data": {
      "image/png": "[encoded data removed]",
      "text/plain": [
       "<Figure size 432x288 with 2 Axes>"
      ]
     },
     "metadata": {},
     "output_type": "display_data"
    }
   ],
   "source": [
    "from sklearn.metrics import ConfusionMatrixDisplay\n",
    "ConfusionMatrixDisplay.from_predictions(y_true=y_test,y_pred=y_preds)"
   ]
  },
  {
   "cell_type": "code",
   "execution_count": 27,
   "id": "b828dd3f",
   "metadata": {},
   "outputs": [
    {
     "data": {
      "image/png": "[encoded data removed]",
      "text/plain": [
       "<Figure size 432x288 with 2 Axes>"
      ]
     },
     "metadata": {},
     "output_type": "display_data"
    }
   ],
   "source": [
    "ConfusionMatrixDisplay.from_estimator(estimator=clf, X=X, y=y);"
   ]
  },
  {
   "cell_type": "markdown",
   "id": "26b42b35",
   "metadata": {},
   "source": [
    "#### 3.2.3 Classification Report"
   ]
  },
  {
   "cell_type": "code",
   "execution_count": 28,
   "id": "cab2ef82",
   "metadata": {},
   "outputs": [
    {
     "name": "stdout",
     "output_type": "stream",
     "text": [
      "              precision    recall  f1-score   support\n",
      "\n",
      "           0       0.83      0.74      0.78        27\n",
      "           1       0.81      0.88      0.85        34\n",
      "\n",
      "    accuracy                           0.82        61\n",
      "   macro avg       0.82      0.81      0.81        61\n",
      "weighted avg       0.82      0.82      0.82        61\n",
      "\n"
     ]
    }
   ],
   "source": [
    "from sklearn.metrics import classification_report\n",
    "\n",
    "print(classification_report(y_true=y_test, y_pred=y_preds))"
   ]
  },
  {
   "cell_type": "markdown",
   "id": "dd3e5775",
   "metadata": {},
   "source": [
    "![](images/classification_report_anatomy.png)"
   ]
  },
  {
   "cell_type": "code",
   "execution_count": 29,
   "id": "e3570eb3",
   "metadata": {},
   "outputs": [
    {
     "data": {
      "text/plain": [
       "array([[24,  4],\n",
       "       [ 2, 31]])"
      ]
     },
     "execution_count": 29,
     "metadata": {},
     "output_type": "execute_result"
    }
   ],
   "source": [
    "np.array([[24,  4],[ 2, 31]]) # confusion matrix "
   ]
  },
  {
   "cell_type": "markdown",
   "id": "f850e6d3",
   "metadata": {},
   "source": [
    "* **Precision** : nb_of_TP_or_TN_model / Total_TP_or_TN_prediction ; here : $24\\over26$ and $31\\over35$            <br> **Precision reduces the rate of False Positif**\n",
    "<br><br>\n",
    "* **Recall** : nb_of_TP_or_TN_model / Total_of_real_TP_or_TN ; here : $24\\over28$ and $31\\over33$                      <br> **Precision reduces the rate of False Negative**\n",
    "<br><br>\n",
    "* **F1 score** : mean of \"precision\" and \"recall\" ; here : ${{24\\over28} + {24\\over26}\\over 2}$ and ${31\\over33} + {31\\over35}\\over 2$\n",
    "<br><br>\n",
    "* **Support** : Total of positive ; here : $24+4 = 28$ and $31 + 2 = 33$\n",
    "<br><br>\n",
    "* **Macro avg** : Short for macro average, the average precision, recall and F1 score between classes. Macro avg doesn't take class imbalance into effect. So if you do have class imbalances (more examples of one class than another), you should pay attention to this.\n",
    "<br><br>\n",
    "* **Weight avg** :  Short for weighted average, the weighted average precision, recall and F1 score between classes. Weighted means each metric is calculated with respect to how many samples there are in each class. This metric will favour the majority class (e.g. it will give a high value when one class out performs another due to having more samples)."
   ]
  },
  {
   "cell_type": "markdown",
   "id": "d007c9ec",
   "metadata": {},
   "source": [
    "It can be tempting to base your classification models perfomance only on accuracy. And accuracy is a good metric to report, except when you have very imbalanced classes.\n",
    "\n",
    "For example, let's say there were 10,000 people. And 1 of them had a disease. You're asked to build a model to predict who has it.\n",
    "\n",
    "You build the model and find your model to be 99.99% accurate. Which sounds great! ...until you realise, all its doing is predicting no one has the disease, in other words all 10,000 predictions are false.\n",
    "\n",
    "In this case, you'd want to turn to metrics such as precision, recall and F1 score."
   ]
  },
  {
   "cell_type": "code",
   "execution_count": 30,
   "id": "315f92e3",
   "metadata": {},
   "outputs": [
    {
     "data": {
      "text/html": [
       "<div>\n",
       "<style scoped>\n",
       "    .dataframe tbody tr th:only-of-type {\n",
       "        vertical-align: middle;\n",
       "    }\n",
       "\n",
       "    .dataframe tbody tr th {\n",
       "        vertical-align: top;\n",
       "    }\n",
       "\n",
       "    .dataframe thead th {\n",
       "        text-align: right;\n",
       "    }\n",
       "</style>\n",
       "<table border=\"1\" class=\"dataframe\">\n",
       "  <thead>\n",
       "    <tr style=\"text-align: right;\">\n",
       "      <th></th>\n",
       "      <th>0.0</th>\n",
       "      <th>1.0</th>\n",
       "      <th>accuracy</th>\n",
       "      <th>macro avg</th>\n",
       "      <th>weighted avg</th>\n",
       "    </tr>\n",
       "  </thead>\n",
       "  <tbody>\n",
       "    <tr>\n",
       "      <th>precision</th>\n",
       "      <td>0.99990</td>\n",
       "      <td>0.0</td>\n",
       "      <td>0.9999</td>\n",
       "      <td>0.499950</td>\n",
       "      <td>0.99980</td>\n",
       "    </tr>\n",
       "    <tr>\n",
       "      <th>recall</th>\n",
       "      <td>1.00000</td>\n",
       "      <td>0.0</td>\n",
       "      <td>0.9999</td>\n",
       "      <td>0.500000</td>\n",
       "      <td>0.99990</td>\n",
       "    </tr>\n",
       "    <tr>\n",
       "      <th>f1-score</th>\n",
       "      <td>0.99995</td>\n",
       "      <td>0.0</td>\n",
       "      <td>0.9999</td>\n",
       "      <td>0.499975</td>\n",
       "      <td>0.99985</td>\n",
       "    </tr>\n",
       "    <tr>\n",
       "      <th>support</th>\n",
       "      <td>9999.00000</td>\n",
       "      <td>1.0</td>\n",
       "      <td>0.9999</td>\n",
       "      <td>10000.000000</td>\n",
       "      <td>10000.00000</td>\n",
       "    </tr>\n",
       "  </tbody>\n",
       "</table>\n",
       "</div>"
      ],
      "text/plain": [
       "                  0.0  1.0  accuracy     macro avg  weighted avg\n",
       "precision     0.99990  0.0    0.9999      0.499950       0.99980\n",
       "recall        1.00000  0.0    0.9999      0.500000       0.99990\n",
       "f1-score      0.99995  0.0    0.9999      0.499975       0.99985\n",
       "support    9999.00000  1.0    0.9999  10000.000000   10000.00000"
      ]
     },
     "execution_count": 30,
     "metadata": {},
     "output_type": "execute_result"
    }
   ],
   "source": [
    "# Where precision and recall become valuable\n",
    "disease_true = np.zeros(10000)\n",
    "disease_true[0] = 1 # only one case\n",
    "\n",
    "disease_preds = np.zeros(10000) # every prediction is 0\n",
    "\n",
    "pd.DataFrame(classification_report(disease_true, \n",
    "                                   disease_preds, \n",
    "                                   output_dict=True,\n",
    "                                   zero_division=0))"
   ]
  },
  {
   "cell_type": "markdown",
   "id": "48922886",
   "metadata": {},
   "source": [
    "## 4. Regression model evaluation metrics"
   ]
  },
  {
   "cell_type": "markdown",
   "id": "586a98a6",
   "metadata": {},
   "source": [
    "https://scikit-learn.org/stable/modules/model_evaluation.html#regression-metrics\n",
    "<br>\n",
    "https://www.udemy.com/course/complete-machine-learning-and-data-science-zero-to-mastery/learn/lecture/17690056#content"
   ]
  },
  {
   "cell_type": "markdown",
   "id": "783d6eb9",
   "metadata": {},
   "source": [
    "### The ones we're going to cover are:\n",
    "\n",
    "1. **R^2 (R-squared) or coefficient of determination** - Compares your models predictions to the mean of the targets. Values range : ]-inf, 1] <br> (EX : if model predict the mean of the target -> R^2 = 0). <br> **close to 1 is better**\n",
    "\n",
    "$$\n",
    "R^2 = \n",
    "1 - { \\sum_{i=1}^n ( y_{true,i} - y_{pred,i} )^2 \n",
    "\\over \n",
    "\\sum_{i=1}^n ( y_{true,i} - y_{mean} )^2 }\n",
    "$$\n",
    "\n",
    "2. **Mean absolute error (MAE)** - The average of the absolute differences between predictions and actual values. It gives you an idea of how wrong your predictions were : <br> mean(abs(y_true - y_preds))<br> **close to 0 is better**\n",
    "\n",
    "$$\n",
    "MAE(y_{true}, y_{preds}) = {1 \\over n} \n",
    "\\cdot \n",
    "\\sum_{i=1}^{n-1} | y_{true,i} - y_{pred,i}|\n",
    "$$\n",
    "\n",
    "3. **Mean squared error (MSE)** - The average squared differences between predictions and actual values. Squaring removes negative errors. It also amplifies outliers (samples which have larger errors) : <br> mean(square(y_true - y_preds))<br> **close to 0 is better**\n",
    "\n",
    "$$\n",
    "MSE(y_{true}, y_{preds}) = {1 \\over n} \n",
    "\\cdot \n",
    "\\sum_{i=1}^{n-1} (y_{true,i} - y_{pred,i})^2\n",
    "$$"
   ]
  },
  {
   "cell_type": "code",
   "execution_count": 31,
   "id": "6d59fed2",
   "metadata": {},
   "outputs": [],
   "source": [
    "from sklearn.ensemble import RandomForestRegressor\n",
    "\n",
    "# import data\n",
    "from sklearn.datasets import fetch_california_housing\n",
    "housing = fetch_california_housing()\n",
    "housing_df = pd.DataFrame(housing[\"data\"], columns=housing[\"feature_names\"])\n",
    "housing_df[\"target\"] = pd.Series(housing[\"target\"])\n",
    "\n",
    "# Make the data \n",
    "X = housing_df.drop(\"target\", axis=1)\n",
    "y = housing_df.target\n",
    "\n",
    "# Split the data\n",
    "X_train, X_test, y_train, y_test = train_test_split(X,y,test_size=0.2)\n",
    "\n",
    "# Instantiate Random Forest Classifier\n",
    "model = RandomForestRegressor()\n",
    "\n",
    "# Fit the model to the data (training the machine learning model)\n",
    "model.fit(X_train, y_train)\n",
    "\n",
    "# Predict values\n",
    "y_preds = model.predict(X_test)"
   ]
  },
  {
   "cell_type": "code",
   "execution_count": 32,
   "id": "0ea6fcf0",
   "metadata": {},
   "outputs": [
    {
     "data": {
      "image/png": "[encoded data removed]",
      "text/plain": [
       "<Figure size 432x288 with 1 Axes>"
      ]
     },
     "metadata": {},
     "output_type": "display_data"
    }
   ],
   "source": [
    "fig, ax = plt.subplots()\n",
    "x = np.arange(0, len(y_test), 1)\n",
    "ax.scatter(x, y_test, c='b', label=\"Acutual Values\")\n",
    "ax.scatter(x, y_preds, c='r', label=\"Predictions\")\n",
    "ax.legend(loc=(1, 0.5));"
   ]
  },
  {
   "cell_type": "markdown",
   "id": "d15983af",
   "metadata": {},
   "source": [
    "### 4.0 Histogram error : "
   ]
  },
  {
   "cell_type": "code",
   "execution_count": 62,
   "id": "ef6e645d",
   "metadata": {},
   "outputs": [
    {
     "data": {
      "image/png": "[encoded data removed]",
      "text/plain": [
       "<Figure size 1080x360 with 1 Axes>"
      ]
     },
     "metadata": {},
     "output_type": "display_data"
    }
   ],
   "source": [
    "hist_abs_err = np.abs(y_preds - y_test)\n",
    "\n",
    "\n",
    "fig, ax = plt.subplots(figsize=(15,5))\n",
    "ax.hist(hist_abs_err, bins=50)\n",
    "plt.xlabel(\"absolute error\");"
   ]
  },
  {
   "cell_type": "markdown",
   "id": "15381ed1",
   "metadata": {},
   "source": [
    "### 4.1 evaluation metrics : R^2 (R-squared) or coefficient of determination"
   ]
  },
  {
   "cell_type": "markdown",
   "id": "8839a9f8",
   "metadata": {},
   "source": [
    "**close to 1 is better**"
   ]
  },
  {
   "cell_type": "markdown",
   "id": "1cdab4be",
   "metadata": {},
   "source": [
    "<strong>\n",
    "<font color=red style=\"font-size: large\">\n",
    "If R^2 close to 1, it's mean that the error made by the model is lower than the variance of data\n",
    "</font>\n",
    "    <br>\n",
    "if R^2=0.8 , it's mean your model describe 80% of the variation of your data\n",
    "</strong>\n",
    "\n"
   ]
  },
  {
   "cell_type": "code",
   "execution_count": 33,
   "id": "0bc7101a",
   "metadata": {},
   "outputs": [
    {
     "data": {
      "text/plain": [
       "0.8186516589908799"
      ]
     },
     "execution_count": 33,
     "metadata": {},
     "output_type": "execute_result"
    }
   ],
   "source": [
    "# R^2 by default using score()\n",
    "model.score(X_test, y_test)"
   ]
  },
  {
   "cell_type": "code",
   "execution_count": 34,
   "id": "c28fc7e7",
   "metadata": {},
   "outputs": [
    {
     "data": {
      "text/plain": [
       "0.8186516589908799"
      ]
     },
     "execution_count": 34,
     "metadata": {},
     "output_type": "execute_result"
    }
   ],
   "source": [
    "from sklearn.metrics import r2_score\n",
    "r2_score(y_true=y_test,y_pred=y_preds)"
   ]
  },
  {
   "cell_type": "code",
   "execution_count": 35,
   "id": "fa68bcba",
   "metadata": {},
   "outputs": [
    {
     "data": {
      "text/plain": [
       "0.0"
      ]
     },
     "execution_count": 35,
     "metadata": {},
     "output_type": "execute_result"
    }
   ],
   "source": [
    "y_test_mean = np.full(len(y_test), np.mean(y_test))\n",
    "r2_score(y_test,y_test_mean) # 0"
   ]
  },
  {
   "cell_type": "markdown",
   "id": "9a969ee9",
   "metadata": {},
   "source": [
    "### 4.2 evaluation metrics : Mean absolute error (MAE)\n",
    "<br>\n",
    "in average the predict data is: True_data +- MAE"
   ]
  },
  {
   "cell_type": "markdown",
   "id": "d5a85050",
   "metadata": {},
   "source": [
    "**close to 0 is better**"
   ]
  },
  {
   "cell_type": "code",
   "execution_count": 36,
   "id": "8afa3b2f",
   "metadata": {},
   "outputs": [
    {
     "data": {
      "text/plain": [
       "0.32309189958817847"
      ]
     },
     "execution_count": 36,
     "metadata": {},
     "output_type": "execute_result"
    }
   ],
   "source": [
    "from sklearn.metrics import mean_absolute_error\n",
    "mean_absolute_error(y_true=y_test,y_pred=y_preds)"
   ]
  },
  {
   "cell_type": "code",
   "execution_count": 37,
   "id": "bc9f3d66",
   "metadata": {},
   "outputs": [
    {
     "data": {
      "text/plain": [
       "0.32309189958817863"
      ]
     },
     "execution_count": 37,
     "metadata": {},
     "output_type": "execute_result"
    }
   ],
   "source": [
    "np.mean(np.abs(y_test - y_preds))"
   ]
  },
  {
   "cell_type": "markdown",
   "id": "e0a81c92",
   "metadata": {},
   "source": [
    "### 4.3 evaluation metrics : Mean squared error (MSE)"
   ]
  },
  {
   "cell_type": "markdown",
   "id": "8498054e",
   "metadata": {},
   "source": [
    "**close to 0 is better**"
   ]
  },
  {
   "cell_type": "code",
   "execution_count": 38,
   "id": "d06cf714",
   "metadata": {},
   "outputs": [
    {
     "data": {
      "text/plain": [
       "0.2393627974026446"
      ]
     },
     "execution_count": 38,
     "metadata": {},
     "output_type": "execute_result"
    }
   ],
   "source": [
    "from sklearn.metrics import mean_squared_error\n",
    "mean_squared_error(y_true=y_test,y_pred=y_preds)"
   ]
  },
  {
   "cell_type": "code",
   "execution_count": 39,
   "id": "2fb4209c",
   "metadata": {},
   "outputs": [
    {
     "data": {
      "text/plain": [
       "0.23936279740264435"
      ]
     },
     "execution_count": 39,
     "metadata": {},
     "output_type": "execute_result"
    }
   ],
   "source": [
    "np.mean(np.square(y_test - y_preds))"
   ]
  },
  {
   "cell_type": "markdown",
   "id": "6e09a3a6",
   "metadata": {},
   "source": [
    "## 5. Using the `scoring` parameter\n",
    "<br>\n",
    "https://scikit-learn.org/stable/modules/model_evaluation.html#common-cases-predefined-values"
   ]
  },
  {
   "cell_type": "markdown",
   "id": "3ff8bd84",
   "metadata": {},
   "source": [
    "**Let's check it out with our classification model and the heart disease dataset.**"
   ]
  },
  {
   "cell_type": "code",
   "execution_count": 40,
   "id": "fe99d29f",
   "metadata": {},
   "outputs": [
    {
     "data": {
      "text/plain": [
       "0.8016393442622951"
      ]
     },
     "execution_count": 40,
     "metadata": {},
     "output_type": "execute_result"
    }
   ],
   "source": [
    "from sklearn.model_selection import cross_val_score\n",
    "from sklearn.ensemble import RandomForestClassifier\n",
    "\n",
    "X = heart_disease.drop(\"target\", axis=1)\n",
    "y = heart_disease[\"target\"]\n",
    "\n",
    "clf = RandomForestClassifier(n_estimators=100)\n",
    "\n",
    "# cross-validation accuracy\n",
    "cv_acc = cross_val_score(clf, X, y, scoring=None) \n",
    "# scoring=None => use the default evaluation metrics \n",
    "# Here : the mean accuracy on the given test data and labels\n",
    "np.mean(cv_acc)"
   ]
  },
  {
   "cell_type": "code",
   "execution_count": 41,
   "id": "74c95728",
   "metadata": {},
   "outputs": [
    {
     "data": {
      "text/plain": [
       "0.8315300546448088"
      ]
     },
     "execution_count": 41,
     "metadata": {},
     "output_type": "execute_result"
    }
   ],
   "source": [
    "np.mean(cross_val_score(clf, X, y, scoring=\"accuracy\"))"
   ]
  },
  {
   "cell_type": "code",
   "execution_count": 42,
   "id": "aaf33c86",
   "metadata": {},
   "outputs": [
    {
     "data": {
      "text/plain": [
       "0.8297957347299452"
      ]
     },
     "execution_count": 42,
     "metadata": {},
     "output_type": "execute_result"
    }
   ],
   "source": [
    "np.mean(cross_val_score(clf, X, y, scoring=\"precision\"))"
   ]
  },
  {
   "cell_type": "code",
   "execution_count": 43,
   "id": "ce62d70e",
   "metadata": {},
   "outputs": [
    {
     "data": {
      "text/plain": [
       "0.8666666666666666"
      ]
     },
     "execution_count": 43,
     "metadata": {},
     "output_type": "execute_result"
    }
   ],
   "source": [
    "np.mean(cross_val_score(clf, X, y, scoring=\"recall\"))"
   ]
  },
  {
   "cell_type": "markdown",
   "id": "2e37f0d6",
   "metadata": {},
   "source": [
    "**We can repeat this process with our REGRESSION metrics.**"
   ]
  },
  {
   "cell_type": "code",
   "execution_count": 44,
   "id": "56775872",
   "metadata": {},
   "outputs": [
    {
     "data": {
      "text/plain": [
       "0.6525761254236985"
      ]
     },
     "execution_count": 44,
     "metadata": {},
     "output_type": "execute_result"
    }
   ],
   "source": [
    "from sklearn.model_selection import cross_val_score\n",
    "from sklearn.ensemble import RandomForestRegressor\n",
    "\n",
    "X = housing_df.drop(\"target\", axis=1)\n",
    "y = housing_df[\"target\"]\n",
    "\n",
    "model = RandomForestRegressor(n_estimators=100)\n",
    "\n",
    "cv_acc = cross_val_score(model, X, y, scoring=\"r2\") #r2 by default\n",
    "np.mean(cv_acc)"
   ]
  },
  {
   "cell_type": "code",
   "execution_count": 45,
   "id": "eaec2376",
   "metadata": {},
   "outputs": [
    {
     "data": {
      "text/plain": [
       "-0.42894798568038855"
      ]
     },
     "execution_count": 45,
     "metadata": {},
     "output_type": "execute_result"
    }
   ],
   "source": [
    "cv_mae = cross_val_score(model, \n",
    "                         X, \n",
    "                         y, \n",
    "                         scoring=\"neg_mean_squared_error\")\n",
    "np.mean(cv_mae) # close to 0 is better"
   ]
  },
  {
   "cell_type": "code",
   "execution_count": 46,
   "id": "ae120e96",
   "metadata": {},
   "outputs": [
    {
     "data": {
      "text/plain": [
       "-0.4658759401937986"
      ]
     },
     "execution_count": 46,
     "metadata": {},
     "output_type": "execute_result"
    }
   ],
   "source": [
    "cv_mse = cross_val_score(model, X, y, scoring=\"neg_mean_absolute_error\")\n",
    "np.mean(cv_mse) # close to 0 is better"
   ]
  },
  {
   "cell_type": "markdown",
   "id": "0fef924c",
   "metadata": {},
   "source": [
    "Why the \"neg_\" ? Because Scikit-Learn documentation states :\n",
    "> https://scikit-learn.org/stable/modules/model_evaluation.html#common-cases-predefined-values\n",
    "\n",
    "Which in this case, means a lower negative value (closer to 0) is better."
   ]
  },
  {
   "cell_type": "markdown",
   "id": "894d3be8",
   "metadata": {},
   "source": [
    "## 6. Using different evaluation metrics as Scikit-Learn functions"
   ]
  },
  {
   "cell_type": "markdown",
   "id": "a295e816",
   "metadata": {},
   "source": [
    "**Classification functions**"
   ]
  },
  {
   "cell_type": "code",
   "execution_count": 47,
   "id": "88e9a6f2",
   "metadata": {},
   "outputs": [
    {
     "name": "stdout",
     "output_type": "stream",
     "text": [
      "Classifier metrics on the test set\n",
      "Accurracy: 73.77%\n",
      "Precision: 71.88%\n",
      "Recall: 76.67%\n",
      "F1: 74.19%\n"
     ]
    }
   ],
   "source": [
    "from sklearn.metrics import accuracy_score, precision_score, recall_score, f1_score\n",
    "from sklearn.ensemble import RandomForestClassifier\n",
    "from sklearn.model_selection import train_test_split\n",
    "\n",
    "# Create X & y\n",
    "X = heart_disease.drop(\"target\", axis=1)\n",
    "y = heart_disease[\"target\"]\n",
    "\n",
    "# Split data\n",
    "X_train, X_test, y_train, y_test = train_test_split(X, y, test_size=0.2)\n",
    "\n",
    "# Create model\n",
    "clf = RandomForestClassifier()\n",
    "\n",
    "# Fit model\n",
    "clf.fit(X_train, y_train)\n",
    "\n",
    "# Make predictions\n",
    "y_preds = clf.predict(X_test)\n",
    "\n",
    "# Evaluate model using evaluation functions\n",
    "print(\"Classifier metrics on the test set\")\n",
    "print(f\"Accurracy: {accuracy_score(y_test, y_preds)*100:.2f}%\")\n",
    "print(f\"Precision: {precision_score(y_test, y_preds)*100:.2f}%\")\n",
    "print(f\"Recall: {recall_score(y_test, y_preds)*100:.2f}%\")\n",
    "print(f\"F1: {f1_score(y_test, y_preds)*100:.2f}%\")\n"
   ]
  },
  {
   "cell_type": "markdown",
   "id": "91e7a4bd",
   "metadata": {},
   "source": [
    "**Regression functions**"
   ]
  },
  {
   "cell_type": "code",
   "execution_count": 48,
   "id": "ab96f7ab",
   "metadata": {},
   "outputs": [
    {
     "name": "stdout",
     "output_type": "stream",
     "text": [
      "Regression metrics on the test set\n",
      "R2 score: 79.47%\n",
      "MAE: 0.33\n",
      "MSE: 0.26\n"
     ]
    }
   ],
   "source": [
    "from sklearn.metrics import r2_score, mean_absolute_error, mean_squared_error\n",
    "from sklearn.ensemble import RandomForestRegressor\n",
    "from sklearn.model_selection import train_test_split\n",
    "\n",
    "# Create X & y\n",
    "X = housing_df.drop(\"target\", axis=1)\n",
    "y = housing_df[\"target\"]\n",
    "\n",
    "# Split data\n",
    "X_train, X_test, y_train, y_test = train_test_split(X, y, test_size=0.2)\n",
    "\n",
    "# Create model\n",
    "model = RandomForestRegressor()\n",
    "\n",
    "# Fit model\n",
    "model.fit(X_train, y_train)\n",
    "\n",
    "# Make predictions\n",
    "y_preds = model.predict(X_test)\n",
    "\n",
    "# Evaluate model using evaluation functions\n",
    "print(\"Regression metrics on the test set\")\n",
    "print(f\"R2 score: {r2_score(y_test, y_preds)*100:.2f}%\")\n",
    "print(f\"MAE: {mean_absolute_error(y_test, y_preds):.2f}\")\n",
    "print(f\"MSE: {mean_squared_error(y_test, y_preds):.2f}\")"
   ]
  },
  {
   "cell_type": "code",
   "execution_count": 49,
   "id": "dea67198",
   "metadata": {},
   "outputs": [],
   "source": [
    "# 6h04"
   ]
  }
 ],
 "metadata": {
  "kernelspec": {
   "display_name": "Python 3 (ipykernel)",
   "language": "python",
   "name": "python3"
  },
  "language_info": {
   "codemirror_mode": {
    "name": "ipython",
    "version": 3
   },
   "file_extension": ".py",
   "mimetype": "text/x-python",
   "name": "python",
   "nbconvert_exporter": "python",
   "pygments_lexer": "ipython3",
   "version": "3.9.12"
  },
  "varInspector": {
   "cols": {
    "lenName": 16,
    "lenType": 16,
    "lenVar": 40
   },
   "kernels_config": {
    "python": {
     "delete_cmd_postfix": "",
     "delete_cmd_prefix": "del ",
     "library": "var_list.py",
     "varRefreshCmd": "print(var_dic_list())"
    },
    "r": {
     "delete_cmd_postfix": ") ",
     "delete_cmd_prefix": "rm(",
     "library": "var_list.r",
     "varRefreshCmd": "cat(var_dic_list()) "
    }
   },
   "types_to_exclude": [
    "module",
    "function",
    "builtin_function_or_method",
    "instance",
    "_Feature"
   ],
   "window_display": false
  }
 },
 "nbformat": 4,
 "nbformat_minor": 5
}
