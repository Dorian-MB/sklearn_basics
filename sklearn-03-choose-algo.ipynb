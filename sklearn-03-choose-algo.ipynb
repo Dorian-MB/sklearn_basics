{
 "cells": [
  {
   "cell_type": "markdown",
   "id": "d7bd102d",
   "metadata": {},
   "source": [
    "# Scikit-Learn course 3\n",
    "## II. Choosing the right estimator/algorithm for your problem"
   ]
  },
  {
   "cell_type": "markdown",
   "id": "d2da8898",
   "metadata": {},
   "source": [
    "The key takeaways to remember are:\n",
    "\n",
    "1. Most datasets you come across won't be in a form ready to immediately start using them with machine learning models. And some may take more preparation than others to get ready to use.\n",
    "2. For most machine learning models, your data has to be numerical. This will involve converting whatever you're working with into numbers. This process is often referred to as feature engineering or feature encoding.\n",
    "3. Some machine learning models aren't compatible with missing data. The process of filling missing data is referred to as data imputation."
   ]
  },
  {
   "cell_type": "markdown",
   "id": "4b983525",
   "metadata": {},
   "source": [
    "## Choosing the right estimator/algorithm for your problem"
   ]
  },
  {
   "cell_type": "markdown",
   "id": "c7206dfa",
   "metadata": {},
   "source": [
    "Once you've got your data ready, the next step is to choose an appropriate machine learning algorithm or model to find patterns in your data.\n",
    "<br><br>\n",
    "Some things to note:\n",
    "\n",
    "* Sklearn refers to machine learning models and algorithms as estimators.\n",
    "* Classification problem - predicting a category (heart disease or not).\n",
    "  * Sometimes you'll see clf (short for classifier) used as a classification estimator instance's variable name.\n",
    "* Regression problem - predicting a number (selling price of a car).\n",
    "* Unsupervised problem - clustering (grouping unlabelled samples with other similar unlabelled samples)."
   ]
  },
  {
   "cell_type": "markdown",
   "id": "ac384f39",
   "metadata": {},
   "source": [
    "https://scikit-learn.org/stable/tutorial/machine_learning_map/index.html"
   ]
  },
  {
   "cell_type": "markdown",
   "id": "dd0acf9d",
   "metadata": {},
   "source": [
    "![](images/cheat-sheet-map/ml_map.png)"
   ]
  },
  {
   "cell_type": "markdown",
   "id": "17d04fee",
   "metadata": {},
   "source": [
    "Let's start with a regression problem (trying to predict a number). We'll use the California Housing dataset built into Scikit-Learn's `datasets` module.\n",
    " <br> <br>\n",
    "The goal of the California Housing dataset is to predict a given district's median house value (in hundreds of thousands of dollars) on things like the age of the home, the number of rooms, the number of bedrooms, number of people living the home and more."
   ]
  },
  {
   "cell_type": "markdown",
   "id": "4a00e765",
   "metadata": {},
   "source": [
    "**To train** use the toy dataset : https://scikit-learn.org/stable/datasets/toy_dataset.html"
   ]
  },
  {
   "cell_type": "markdown",
   "id": "53446b71",
   "metadata": {},
   "source": [
    "![.](images/choose_Ml.jpg)"
   ]
  },
  {
   "cell_type": "markdown",
   "id": "038855e1",
   "metadata": {},
   "source": [
    "## 0. Standards import / getting data ready"
   ]
  },
  {
   "cell_type": "code",
   "execution_count": 1,
   "id": "9e6b30c2",
   "metadata": {},
   "outputs": [],
   "source": [
    "import numpy as np\n",
    "import pandas as pd \n",
    "import matplotlib.pyplot as plt\n",
    "%matplotlib inline "
   ]
  },
  {
   "cell_type": "code",
   "execution_count": 2,
   "id": "56e57d6e",
   "metadata": {},
   "outputs": [],
   "source": [
    "# ---> y (axis=1)\n",
    "# |\n",
    "# |\n",
    "# x (axis=0)"
   ]
  },
  {
   "cell_type": "markdown",
   "id": "4d31f186",
   "metadata": {},
   "source": [
    "Let's use the California Housing dataset - https://scikit-learn.org/stable/modules/generated/sklearn.datasets.fetch_california_housing.html"
   ]
  },
  {
   "cell_type": "code",
   "execution_count": 20,
   "id": "af6d875a",
   "metadata": {},
   "outputs": [
    {
     "data": {
      "text/plain": [
       "{'data': array([[   8.3252    ,   41.        ,    6.98412698, ...,    2.55555556,\n",
       "           37.88      , -122.23      ],\n",
       "        [   8.3014    ,   21.        ,    6.23813708, ...,    2.10984183,\n",
       "           37.86      , -122.22      ],\n",
       "        [   7.2574    ,   52.        ,    8.28813559, ...,    2.80225989,\n",
       "           37.85      , -122.24      ],\n",
       "        ...,\n",
       "        [   1.7       ,   17.        ,    5.20554273, ...,    2.3256351 ,\n",
       "           39.43      , -121.22      ],\n",
       "        [   1.8672    ,   18.        ,    5.32951289, ...,    2.12320917,\n",
       "           39.43      , -121.32      ],\n",
       "        [   2.3886    ,   16.        ,    5.25471698, ...,    2.61698113,\n",
       "           39.37      , -121.24      ]]),\n",
       " 'target': array([4.526, 3.585, 3.521, ..., 0.923, 0.847, 0.894]),\n",
       " 'frame': None,\n",
       " 'target_names': ['MedHouseVal'],\n",
       " 'feature_names': ['MedInc',\n",
       "  'HouseAge',\n",
       "  'AveRooms',\n",
       "  'AveBedrms',\n",
       "  'Population',\n",
       "  'AveOccup',\n",
       "  'Latitude',\n",
       "  'Longitude'],\n",
       " 'DESCR': '.. _california_housing_dataset:\\n\\nCalifornia Housing dataset\\n--------------------------\\n\\n**Data Set Characteristics:**\\n\\n    :Number of Instances: 20640\\n\\n    :Number of Attributes: 8 numeric, predictive attributes and the target\\n\\n    :Attribute Information:\\n        - MedInc        median income in block group\\n        - HouseAge      median house age in block group\\n        - AveRooms      average number of rooms per household\\n        - AveBedrms     average number of bedrooms per household\\n        - Population    block group population\\n        - AveOccup      average number of household members\\n        - Latitude      block group latitude\\n        - Longitude     block group longitude\\n\\n    :Missing Attribute Values: None\\n\\nThis dataset was obtained from the StatLib repository.\\nhttps://www.dcc.fc.up.pt/~ltorgo/Regression/cal_housing.html\\n\\nThe target variable is the median house value for California districts,\\nexpressed in hundreds of thousands of dollars ($100,000).\\n\\nThis dataset was derived from the 1990 U.S. census, using one row per census\\nblock group. A block group is the smallest geographical unit for which the U.S.\\nCensus Bureau publishes sample data (a block group typically has a population\\nof 600 to 3,000 people).\\n\\nAn household is a group of people residing within a home. Since the average\\nnumber of rooms and bedrooms in this dataset are provided per household, these\\ncolumns may take surpinsingly large values for block groups with few households\\nand many empty houses, such as vacation resorts.\\n\\nIt can be downloaded/loaded using the\\n:func:`sklearn.datasets.fetch_california_housing` function.\\n\\n.. topic:: References\\n\\n    - Pace, R. Kelley and Ronald Barry, Sparse Spatial Autoregressions,\\n      Statistics and Probability Letters, 33 (1997) 291-297\\n'}"
      ]
     },
     "execution_count": 20,
     "metadata": {},
     "output_type": "execute_result"
    }
   ],
   "source": [
    "# Get California Housing dataset\n",
    "from sklearn.datasets import fetch_california_housing\n",
    "housing = fetch_california_housing()\n",
    "housing"
   ]
  },
  {
   "cell_type": "markdown",
   "id": "e35b16b8",
   "metadata": {},
   "source": [
    "Since it's in a dictionary, let's turn it into a DataFrame so we can inspect it better."
   ]
  },
  {
   "cell_type": "code",
   "execution_count": 8,
   "id": "b6491906",
   "metadata": {},
   "outputs": [
    {
     "data": {
      "text/html": [
       "<div>\n",
       "<style scoped>\n",
       "    .dataframe tbody tr th:only-of-type {\n",
       "        vertical-align: middle;\n",
       "    }\n",
       "\n",
       "    .dataframe tbody tr th {\n",
       "        vertical-align: top;\n",
       "    }\n",
       "\n",
       "    .dataframe thead th {\n",
       "        text-align: right;\n",
       "    }\n",
       "</style>\n",
       "<table border=\"1\" class=\"dataframe\">\n",
       "  <thead>\n",
       "    <tr style=\"text-align: right;\">\n",
       "      <th></th>\n",
       "      <th>MedInc</th>\n",
       "      <th>HouseAge</th>\n",
       "      <th>AveRooms</th>\n",
       "      <th>AveBedrms</th>\n",
       "      <th>Population</th>\n",
       "      <th>AveOccup</th>\n",
       "      <th>Latitude</th>\n",
       "      <th>Longitude</th>\n",
       "      <th>target</th>\n",
       "    </tr>\n",
       "  </thead>\n",
       "  <tbody>\n",
       "    <tr>\n",
       "      <th>0</th>\n",
       "      <td>8.3252</td>\n",
       "      <td>41.0</td>\n",
       "      <td>6.984127</td>\n",
       "      <td>1.023810</td>\n",
       "      <td>322.0</td>\n",
       "      <td>2.555556</td>\n",
       "      <td>37.88</td>\n",
       "      <td>-122.23</td>\n",
       "      <td>4.526</td>\n",
       "    </tr>\n",
       "    <tr>\n",
       "      <th>1</th>\n",
       "      <td>8.3014</td>\n",
       "      <td>21.0</td>\n",
       "      <td>6.238137</td>\n",
       "      <td>0.971880</td>\n",
       "      <td>2401.0</td>\n",
       "      <td>2.109842</td>\n",
       "      <td>37.86</td>\n",
       "      <td>-122.22</td>\n",
       "      <td>3.585</td>\n",
       "    </tr>\n",
       "    <tr>\n",
       "      <th>2</th>\n",
       "      <td>7.2574</td>\n",
       "      <td>52.0</td>\n",
       "      <td>8.288136</td>\n",
       "      <td>1.073446</td>\n",
       "      <td>496.0</td>\n",
       "      <td>2.802260</td>\n",
       "      <td>37.85</td>\n",
       "      <td>-122.24</td>\n",
       "      <td>3.521</td>\n",
       "    </tr>\n",
       "    <tr>\n",
       "      <th>3</th>\n",
       "      <td>5.6431</td>\n",
       "      <td>52.0</td>\n",
       "      <td>5.817352</td>\n",
       "      <td>1.073059</td>\n",
       "      <td>558.0</td>\n",
       "      <td>2.547945</td>\n",
       "      <td>37.85</td>\n",
       "      <td>-122.25</td>\n",
       "      <td>3.413</td>\n",
       "    </tr>\n",
       "    <tr>\n",
       "      <th>4</th>\n",
       "      <td>3.8462</td>\n",
       "      <td>52.0</td>\n",
       "      <td>6.281853</td>\n",
       "      <td>1.081081</td>\n",
       "      <td>565.0</td>\n",
       "      <td>2.181467</td>\n",
       "      <td>37.85</td>\n",
       "      <td>-122.25</td>\n",
       "      <td>3.422</td>\n",
       "    </tr>\n",
       "  </tbody>\n",
       "</table>\n",
       "</div>"
      ],
      "text/plain": [
       "   MedInc  HouseAge  AveRooms  AveBedrms  Population  AveOccup  Latitude  \\\n",
       "0  8.3252      41.0  6.984127   1.023810       322.0  2.555556     37.88   \n",
       "1  8.3014      21.0  6.238137   0.971880      2401.0  2.109842     37.86   \n",
       "2  7.2574      52.0  8.288136   1.073446       496.0  2.802260     37.85   \n",
       "3  5.6431      52.0  5.817352   1.073059       558.0  2.547945     37.85   \n",
       "4  3.8462      52.0  6.281853   1.081081       565.0  2.181467     37.85   \n",
       "\n",
       "   Longitude  target  \n",
       "0    -122.23   4.526  \n",
       "1    -122.22   3.585  \n",
       "2    -122.24   3.521  \n",
       "3    -122.25   3.413  \n",
       "4    -122.25   3.422  "
      ]
     },
     "execution_count": 8,
     "metadata": {},
     "output_type": "execute_result"
    }
   ],
   "source": [
    "housing_df = pd.DataFrame(housing[\"data\"], columns=housing[\"feature_names\"])\n",
    "# remind : feature is the data\n",
    "# and label is the target\n",
    "housing_df[\"target\"] = pd.Series(housing[\"target\"])\n",
    "# here the target name is MedHouseVal but we call it target to be simplier\n",
    "housing_df.head()"
   ]
  },
  {
   "cell_type": "code",
   "execution_count": 5,
   "id": "ac07ef57",
   "metadata": {},
   "outputs": [
    {
     "data": {
      "text/plain": [
       "20640"
      ]
     },
     "execution_count": 5,
     "metadata": {},
     "output_type": "execute_result"
    }
   ],
   "source": [
    "# How many samples?\n",
    "len(housing_df)"
   ]
  },
  {
   "cell_type": "markdown",
   "id": "38a9bee1",
   "metadata": {},
   "source": [
    "## 1. Picking a machine learning model for a regression problem"
   ]
  },
  {
   "cell_type": "markdown",
   "id": "884e6fb6",
   "metadata": {},
   "source": [
    "![.](images/cheat-sheet-map/sklearn-ml-map-cheatsheet-california-housing-ridge.png)"
   ]
  },
  {
   "cell_type": "markdown",
   "id": "588f40bd",
   "metadata": {},
   "source": [
    "1. We have 20640 samples > 50 ==> YES\n",
    "2. We doesn't want to perdict a category (like if a picture is a cat or dog) we want to predict a price (ie quantity) ==> NO\n",
    "3. We want to predict a price ie a quantity (how much does it cost) ==> YES\n",
    "4. We have 20640 samples < 100 000 ==> YES\n",
    "5. is they only few features important ??? for now we dont know ...\n",
    "\n",
    "Then it's either RidgeRegression or Lasso\n",
    "<br>\n",
    "for now we gonna take RidgeRegression"
   ]
  },
  {
   "cell_type": "markdown",
   "id": "15a5e527",
   "metadata": {},
   "source": [
    "## 2. Build machine learning model : Regression probleme"
   ]
  },
  {
   "cell_type": "markdown",
   "id": "e95a87e1",
   "metadata": {},
   "source": [
    "### 2.1 First try :\n",
    "click on \"RidgeRegression\" on the skearn algorithm cheat-sheet : https://scikit-learn.org/stable/modules/linear_model.html#ridge-regression\n",
    "<br>\n",
    "we can see these 2 lines of code : \n",
    "`from sklearn import linear_model`\n",
    "`reg = linear_model.Ridge(alpha=.5)`.\n",
    "<br>\n",
    "Then for our first model we gonna use `Ridge` class, other existe like`RidgeCV`\n"
   ]
  },
  {
   "cell_type": "markdown",
   "id": "00e7a191",
   "metadata": {},
   "source": [
    "#### `Ridge()`"
   ]
  },
  {
   "cell_type": "code",
   "execution_count": 11,
   "id": "b43c8ec2",
   "metadata": {},
   "outputs": [
    {
     "data": {
      "text/plain": [
       "0.6107860106271783"
      ]
     },
     "execution_count": 11,
     "metadata": {},
     "output_type": "execute_result"
    }
   ],
   "source": [
    "# Import the Ridge model class from the linear_model module\n",
    "from sklearn.linear_model import Ridge\n",
    "from sklearn.model_selection import train_test_split\n",
    "\n",
    "X = housing_df.drop(\"target\", axis=1)\n",
    "y = housing_df.target # target = MedHouseVal : median house price in $100k\n",
    "\n",
    "X_train, X_test, y_train, y_test = train_test_split(X,y,test_size=0.2)\n",
    "\n",
    "model = Ridge()\n",
    "model.fit(X_train,y_train)\n",
    "model.score(X_test,y_test)"
   ]
  },
  {
   "cell_type": "markdown",
   "id": "b31f64c5",
   "metadata": {},
   "source": [
    "`clf.score()` return the coefficient of determination $R^2$ \n",
    "<br>\n",
    "In statistics, the coefficient of determination, denoted $R^2$, is the proportion of the variation in the dependent variable that is predictable from the independent variable(s).\n",
    "<br>\n",
    "https://en.wikipedia.org/wiki/Coefficient_of_determination"
   ]
  },
  {
   "cell_type": "markdown",
   "id": "d764d261",
   "metadata": {},
   "source": [
    "A data set has n values marked (y1,...,yn); each associated with a fitted (or modeled, or predicted) value (f1,...,fn) (sometimes known as ŷi).\n",
    "<br>\n",
    "Define the residuals as ei = yi − fi "
   ]
  },
  {
   "cell_type": "markdown",
   "id": "31298f72",
   "metadata": {},
   "source": [
    "If ${\\displaystyle {\\bar {y}}}$ is the mean of the observed data :\n",
    "$${\\displaystyle {\\bar {y}}={\\frac {1}{n}}\\sum _{i=1}^{n}y_{i}}$$"
   ]
  },
  {
   "cell_type": "markdown",
   "id": "e69fbbcb",
   "metadata": {},
   "source": [
    "The sum of squares of residuals, also called the residual sum of squares (proportional to the quadratique error): \n",
    "$${\\displaystyle SS_{\\text{res}}=\\sum _{i}(y_{i}-f_{i})^{2}=\\sum _{i}e_{i}^{2}\\,}$$"
   ]
  },
  {
   "cell_type": "markdown",
   "id": "29a4a36b",
   "metadata": {},
   "source": [
    "The total sum of squares (proportional to the variance of the data ($V_{data}= {1 \\over n} \\cdot SS_{tot}$)) :\n",
    "<br><br>\n",
    "$${\\displaystyle SS_{\\text{tot}}=\\sum _{i}(y_{i}-{\\bar {y}})^{2}}$$"
   ]
  },
  {
   "cell_type": "markdown",
   "id": "6765d105",
   "metadata": {},
   "source": [
    "The most general definition of the coefficient of determination is :\n",
    "$${\\displaystyle R^{2}=1-{SS_{\\rm {res}} \\over SS_{\\rm {tot}}}}$$"
   ]
  },
  {
   "cell_type": "markdown",
   "id": "ce9e16c7",
   "metadata": {},
   "source": [
    "![.](images/Coefficient_of_Determination.svg.png)"
   ]
  },
  {
   "cell_type": "markdown",
   "id": "465cc442",
   "metadata": {},
   "source": [
    "$$R^{2}=1-{\\frac {\\color {blue}{SS_{\\text{res}}}}{\\color {red}{SS_{\\text{tot}}}}}$$"
   ]
  },
  {
   "cell_type": "markdown",
   "id": "89d06f4d",
   "metadata": {},
   "source": [
    "<strong>\n",
    "<font color=red style=\"font-size: x-large\">\n",
    "If R^2 close to 1, it's mean that the error made by the model is lower than the variance of data\n",
    "</font>\n",
    "    <br>\n",
    "if R^2=0.8 , it's mean your model describe 80% of the variation of your data\n",
    "</strong>\n",
    "\n"
   ]
  },
  {
   "cell_type": "markdown",
   "id": "af6d9b8d",
   "metadata": {},
   "source": [
    "### 2.2 Second try :\n",
    "After RidgeRegression we try => Lasso\n",
    "<br>\n",
    "skearn algorithm cheat-sheet : https://scikit-learn.org/stable/modules/linear_model.html#lasso\n",
    "<br>\n",
    "=> `sklearn.linear_model.Lasso()`"
   ]
  },
  {
   "cell_type": "markdown",
   "id": "27a9838b",
   "metadata": {},
   "source": [
    "#### `Lasso()`"
   ]
  },
  {
   "cell_type": "code",
   "execution_count": 14,
   "id": "3ff39a00",
   "metadata": {},
   "outputs": [
    {
     "data": {
      "text/plain": [
       "0.28433887368566624"
      ]
     },
     "execution_count": 14,
     "metadata": {},
     "output_type": "execute_result"
    }
   ],
   "source": [
    "from sklearn.linear_model import Lasso\n",
    "\n",
    "X = housing_df.drop(\"target\", axis=1)\n",
    "y = housing_df.target # median house price in $100k\n",
    "\n",
    "X_train, X_test, y_train, y_test = train_test_split(X,y,test_size=0.2)\n",
    "\n",
    "model = Lasso()\n",
    "model.fit(X_train,y_train)\n",
    "model.score(X_test,y_test)"
   ]
  },
  {
   "cell_type": "markdown",
   "id": "fab70edc",
   "metadata": {},
   "source": [
    "What if RidgeRegression didn't work? Or what if we wanted to improve our results ? Same for Lasso ...\n",
    "<br>\n",
    "Following the diagram, the next step would be to try EnsembleRegressors. An ensemble (or ensemble model) is combination of smaller models to try and make better predictions than just a single model.\n",
    "<br>\n",
    "<br>\n",
    "skearn algorithm cheat-sheet : https://scikit-learn.org/stable/modules/ensemble.html\n",
    "<br>\n",
    "One of the most common and useful ensemble methods is the Random Forest. Known for its fast training and prediction times and adaptibility to different problems.\n",
    "<br>\n",
    "The basic premise of the Random Forest is to combine a number of different decision trees, each one random from the other and make a prediction on a sample by averaging the result of each decision tree.\n",
    "<br>\n",
    "https://towardsdatascience.com/an-implementation-and-explanation-of-the-random-forest-in-python-77bf308a9b76 \n",
    "<br>\n",
    "(go to the end of this notbook to have more resources)\n",
    "<br>\n",
    "<br>\n",
    "Since we're working with regression, we'll use Scikit-Learn's `RandomForestRegressor`"
   ]
  },
  {
   "cell_type": "markdown",
   "id": "51473099",
   "metadata": {},
   "source": [
    "### 2.3 Third try :\n",
    "#### `RandomForestRegressor()`"
   ]
  },
  {
   "cell_type": "markdown",
   "id": "94994711",
   "metadata": {},
   "source": [
    "![](images/cheat-sheet-map/sklearn-ml-map-cheatsheet-california-housing-ensemble.png)"
   ]
  },
  {
   "cell_type": "code",
   "execution_count": 17,
   "id": "b5890a6a",
   "metadata": {},
   "outputs": [
    {
     "data": {
      "text/plain": [
       "0.8222371966851888"
      ]
     },
     "execution_count": 17,
     "metadata": {},
     "output_type": "execute_result"
    }
   ],
   "source": [
    "from sklearn.ensemble import RandomForestRegressor\n",
    "\n",
    "X = housing_df.drop(\"target\", axis=1)\n",
    "y = housing_df.target # median house price in $100k\n",
    "\n",
    "X_train, X_test, y_train, y_test = train_test_split(X,y,test_size=0.2)\n",
    "\n",
    "model = RandomForestRegressor(n_estimators=100)\n",
    "# n_estimators is the number of different model that RandomForestRegressor is gonna use\n",
    "\n",
    "model.fit(X_train,y_train)\n",
    "model.score(X_test,y_test)"
   ]
  },
  {
   "cell_type": "code",
   "execution_count": 18,
   "id": "129a4030",
   "metadata": {},
   "outputs": [],
   "source": [
    "# 2h34"
   ]
  },
  {
   "cell_type": "markdown",
   "id": "f000b0dd",
   "metadata": {},
   "source": [
    "## 3. Chossing an estimator : classification problem"
   ]
  },
  {
   "cell_type": "code",
   "execution_count": 19,
   "id": "82919ee3",
   "metadata": {},
   "outputs": [
    {
     "data": {
      "text/html": [
       "<div>\n",
       "<style scoped>\n",
       "    .dataframe tbody tr th:only-of-type {\n",
       "        vertical-align: middle;\n",
       "    }\n",
       "\n",
       "    .dataframe tbody tr th {\n",
       "        vertical-align: top;\n",
       "    }\n",
       "\n",
       "    .dataframe thead th {\n",
       "        text-align: right;\n",
       "    }\n",
       "</style>\n",
       "<table border=\"1\" class=\"dataframe\">\n",
       "  <thead>\n",
       "    <tr style=\"text-align: right;\">\n",
       "      <th></th>\n",
       "      <th>age</th>\n",
       "      <th>sex</th>\n",
       "      <th>cp</th>\n",
       "      <th>trestbps</th>\n",
       "      <th>chol</th>\n",
       "      <th>fbs</th>\n",
       "      <th>restecg</th>\n",
       "      <th>thalach</th>\n",
       "      <th>exang</th>\n",
       "      <th>oldpeak</th>\n",
       "      <th>slope</th>\n",
       "      <th>ca</th>\n",
       "      <th>thal</th>\n",
       "      <th>target</th>\n",
       "    </tr>\n",
       "  </thead>\n",
       "  <tbody>\n",
       "    <tr>\n",
       "      <th>0</th>\n",
       "      <td>63</td>\n",
       "      <td>1</td>\n",
       "      <td>3</td>\n",
       "      <td>145</td>\n",
       "      <td>233</td>\n",
       "      <td>1</td>\n",
       "      <td>0</td>\n",
       "      <td>150</td>\n",
       "      <td>0</td>\n",
       "      <td>2.3</td>\n",
       "      <td>0</td>\n",
       "      <td>0</td>\n",
       "      <td>1</td>\n",
       "      <td>1</td>\n",
       "    </tr>\n",
       "    <tr>\n",
       "      <th>1</th>\n",
       "      <td>37</td>\n",
       "      <td>1</td>\n",
       "      <td>2</td>\n",
       "      <td>130</td>\n",
       "      <td>250</td>\n",
       "      <td>0</td>\n",
       "      <td>1</td>\n",
       "      <td>187</td>\n",
       "      <td>0</td>\n",
       "      <td>3.5</td>\n",
       "      <td>0</td>\n",
       "      <td>0</td>\n",
       "      <td>2</td>\n",
       "      <td>1</td>\n",
       "    </tr>\n",
       "    <tr>\n",
       "      <th>2</th>\n",
       "      <td>41</td>\n",
       "      <td>0</td>\n",
       "      <td>1</td>\n",
       "      <td>130</td>\n",
       "      <td>204</td>\n",
       "      <td>0</td>\n",
       "      <td>0</td>\n",
       "      <td>172</td>\n",
       "      <td>0</td>\n",
       "      <td>1.4</td>\n",
       "      <td>2</td>\n",
       "      <td>0</td>\n",
       "      <td>2</td>\n",
       "      <td>1</td>\n",
       "    </tr>\n",
       "    <tr>\n",
       "      <th>3</th>\n",
       "      <td>56</td>\n",
       "      <td>1</td>\n",
       "      <td>1</td>\n",
       "      <td>120</td>\n",
       "      <td>236</td>\n",
       "      <td>0</td>\n",
       "      <td>1</td>\n",
       "      <td>178</td>\n",
       "      <td>0</td>\n",
       "      <td>0.8</td>\n",
       "      <td>2</td>\n",
       "      <td>0</td>\n",
       "      <td>2</td>\n",
       "      <td>1</td>\n",
       "    </tr>\n",
       "    <tr>\n",
       "      <th>4</th>\n",
       "      <td>57</td>\n",
       "      <td>0</td>\n",
       "      <td>0</td>\n",
       "      <td>120</td>\n",
       "      <td>354</td>\n",
       "      <td>0</td>\n",
       "      <td>1</td>\n",
       "      <td>163</td>\n",
       "      <td>1</td>\n",
       "      <td>0.6</td>\n",
       "      <td>2</td>\n",
       "      <td>0</td>\n",
       "      <td>2</td>\n",
       "      <td>1</td>\n",
       "    </tr>\n",
       "  </tbody>\n",
       "</table>\n",
       "</div>"
      ],
      "text/plain": [
       "   age  sex  cp  trestbps  chol  fbs  restecg  thalach  exang  oldpeak  slope  \\\n",
       "0   63    1   3       145   233    1        0      150      0      2.3      0   \n",
       "1   37    1   2       130   250    0        1      187      0      3.5      0   \n",
       "2   41    0   1       130   204    0        0      172      0      1.4      2   \n",
       "3   56    1   1       120   236    0        1      178      0      0.8      2   \n",
       "4   57    0   0       120   354    0        1      163      1      0.6      2   \n",
       "\n",
       "   ca  thal  target  \n",
       "0   0     1       1  \n",
       "1   0     2       1  \n",
       "2   0     2       1  \n",
       "3   0     2       1  \n",
       "4   0     2       1  "
      ]
     },
     "execution_count": 19,
     "metadata": {},
     "output_type": "execute_result"
    }
   ],
   "source": [
    "hear_disease = pd.read_csv(\"data/heart-disease.csv\")\n",
    "hear_disease.head()"
   ]
  },
  {
   "cell_type": "code",
   "execution_count": 21,
   "id": "cb68d280",
   "metadata": {},
   "outputs": [
    {
     "data": {
      "text/plain": [
       "303"
      ]
     },
     "execution_count": 21,
     "metadata": {},
     "output_type": "execute_result"
    }
   ],
   "source": [
    "len(hear_disease)"
   ]
  },
  {
   "cell_type": "markdown",
   "id": "07180823",
   "metadata": {},
   "source": [
    "1. We have 303 samples > 50 ==> YES\n",
    "2. We doesn't want to perdict a category (hear disease or not) ==> YES\n",
    "3. We have label data ==> YES\n",
    "4. We have 303 samples < 100 ==> YES\n",
    "\n",
    "then we try `Linear SVC`\n",
    "<br>\n",
    "skearn algorithm cheat-sheet : https://scikit-learn.org/stable/modules/svm.html#classification"
   ]
  },
  {
   "cell_type": "markdown",
   "id": "a71a83fa",
   "metadata": {},
   "source": [
    "### 3.1 `LinearSVC()`"
   ]
  },
  {
   "cell_type": "markdown",
   "id": "dfcd7f08",
   "metadata": {},
   "source": [
    "![.](images/cheat-sheet-map/sklearn-ml-map-cheatsheet-heart-disease-linear-svc.png)"
   ]
  },
  {
   "cell_type": "code",
   "execution_count": 25,
   "id": "eb8f80e8",
   "metadata": {},
   "outputs": [
    {
     "name": "stderr",
     "output_type": "stream",
     "text": [
      "/Users/dorian/Documents/CODE/python/python_datascience/.env/lib/python3.9/site-packages/sklearn/svm/_base.py:1206: ConvergenceWarning: Liblinear failed to converge, increase the number of iterations.\n",
      "  warnings.warn(\n"
     ]
    },
    {
     "data": {
      "text/plain": [
       "0.7049180327868853"
      ]
     },
     "execution_count": 25,
     "metadata": {},
     "output_type": "execute_result"
    }
   ],
   "source": [
    "from sklearn.svm import LinearSVC\n",
    "\n",
    "X = hear_disease.drop(\"target\", axis=1)\n",
    "y = hear_disease.target \n",
    "\n",
    "X_train, X_test, y_train, y_test = train_test_split(X,y,test_size=0.2)\n",
    "\n",
    "model = LinearSVC()\n",
    "model.fit(X_train,y_train)\n",
    "model.score(X_test,y_test)"
   ]
  },
  {
   "cell_type": "markdown",
   "id": "dbec1726",
   "metadata": {},
   "source": [
    "Following the diagram until Ensemble Classifier :\n",
    "<br>\n",
    "skearn algorithm cheat-sheet : https://scikit-learn.org/stable/modules/ensemble.html"
   ]
  },
  {
   "cell_type": "markdown",
   "id": "7d728cae",
   "metadata": {},
   "source": [
    "### 3.2 `RandomForestClassifier()`"
   ]
  },
  {
   "cell_type": "markdown",
   "id": "26df2365",
   "metadata": {},
   "source": [
    "![](images/cheat-sheet-map/sklearn-ml-map-cheatsheet-heart-disease-ensemble.png)"
   ]
  },
  {
   "cell_type": "code",
   "execution_count": 27,
   "id": "6a017130",
   "metadata": {},
   "outputs": [
    {
     "data": {
      "text/plain": [
       "0.8852459016393442"
      ]
     },
     "execution_count": 27,
     "metadata": {},
     "output_type": "execute_result"
    }
   ],
   "source": [
    "from sklearn.ensemble import RandomForestClassifier \n",
    "\n",
    "X = hear_disease.drop(\"target\", axis=1)\n",
    "y = hear_disease.target \n",
    "\n",
    "X_train, X_test, y_train, y_test = train_test_split(X,y,test_size=0.2)\n",
    "\n",
    "model = RandomForestClassifier()\n",
    "model.fit(X_train,y_train)\n",
    "model.score(X_test,y_test)"
   ]
  },
  {
   "cell_type": "markdown",
   "id": "a488125b",
   "metadata": {},
   "source": [
    "**Tips :** \n",
    "1. if you have structured data (ie table or dataframe) ==> use ensemble methods (such as RandomForest)\n",
    "2. if you have unstructured data (audio, image, text) ==> use deep learning methods or transfer learning \n",
    "\n",
    "here focus on structured data "
   ]
  },
  {
   "cell_type": "markdown",
   "id": "2074a07f",
   "metadata": {},
   "source": [
    "#### Random Forest model deep dive\n",
    "These resources will help to understand what's happening inside the Random Forest models we've been using :\n",
    "* https://en.wikipedia.org/wiki/Random_forest\n",
    "* https://simple.wikipedia.org/wiki/Random_forest\n",
    "* http://blog.yhat.com/posts/random-forests-in-python.html\n",
    "* https://towardsdatascience.com/an-implementation-and-explanation-of-the-random-forest-in-python-77bf308a9b76"
   ]
  },
  {
   "cell_type": "code",
   "execution_count": null,
   "id": "1fadce76",
   "metadata": {},
   "outputs": [],
   "source": []
  }
 ],
 "metadata": {
  "kernelspec": {
   "display_name": "Python 3 (ipykernel)",
   "language": "python",
   "name": "python3"
  },
  "language_info": {
   "codemirror_mode": {
    "name": "ipython",
    "version": 3
   },
   "file_extension": ".py",
   "mimetype": "text/x-python",
   "name": "python",
   "nbconvert_exporter": "python",
   "pygments_lexer": "ipython3",
   "version": "3.9.12"
  },
  "varInspector": {
   "cols": {
    "lenName": 16,
    "lenType": 16,
    "lenVar": 40
   },
   "kernels_config": {
    "python": {
     "delete_cmd_postfix": "",
     "delete_cmd_prefix": "del ",
     "library": "var_list.py",
     "varRefreshCmd": "print(var_dic_list())"
    },
    "r": {
     "delete_cmd_postfix": ") ",
     "delete_cmd_prefix": "rm(",
     "library": "var_list.r",
     "varRefreshCmd": "cat(var_dic_list()) "
    }
   },
   "types_to_exclude": [
    "module",
    "function",
    "builtin_function_or_method",
    "instance",
    "_Feature"
   ],
   "window_display": false
  }
 },
 "nbformat": 4,
 "nbformat_minor": 5
}
