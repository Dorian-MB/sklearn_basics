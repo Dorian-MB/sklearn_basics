{
 "cells": [
  {
   "cell_type": "markdown",
   "id": "0c05a1da",
   "metadata": {},
   "source": [
    "# Scikit-Learn course 1\n",
    "## Convert data to numerical"
   ]
  },
  {
   "cell_type": "markdown",
   "id": "683d1584",
   "metadata": {},
   "source": [
    "# I. Getting data ready"
   ]
  },
  {
   "cell_type": "markdown",
   "id": "b751718f",
   "metadata": {},
   "source": [
    "## reminder :\n",
    "\n",
    "1. Get data ready : \n",
    "    - `df = pd.read_csv()`\n",
    "    - `y = df.data_y`\n",
    "    - `X = df.drop(\"data_y\",axis=1)`\n",
    "    - `X_train, X_test, y_train, y_test = train_test_split(X,y,test_size=0.2)`\n",
    "        \n",
    "2. Chose model, train and evaluate  :\n",
    "    - `clf = RandomForestClassifier()`\n",
    "    - `clf.fit(X_train, y_train)`\n",
    "    - `y_preds = clf.predict(X_test)`\n",
    "    - `clf.score(X_test, y_test) or accuracy_score(y_test, y_preds)`\n",
    "\n",
    "3. Improve model : modify hyperparameters\n",
    "    - `clf.get_params()`\n",
    "    - ex : chose the best n_estimators by testing\n",
    "        \n",
    "4. Save and load model :\n",
    "    - `pickle.dump(clf,open(path,\"wb\"))`\n",
    "    - `loaded_model = pickle.load(open(path,\"rb\"))`\n",
    "    - `loaded_model.score(X_test, y_test)`\n",
    "\n",
    "        "
   ]
  },
  {
   "cell_type": "markdown",
   "id": "642b6244",
   "metadata": {},
   "source": [
    "![.](images/sklearn-workflow.png)"
   ]
  },
  {
   "cell_type": "markdown",
   "id": "cdf01c21",
   "metadata": {},
   "source": [
    "![.](images/Features-and-Labels-in-a-Dataset-i2tutorials.png)"
   ]
  },
  {
   "cell_type": "markdown",
   "id": "09bbc05b",
   "metadata": {},
   "source": [
    "## Features = Data\n",
    "## Label = Target"
   ]
  },
  {
   "cell_type": "markdown",
   "id": "b896cd34",
   "metadata": {},
   "source": [
    "## 0. Standards import "
   ]
  },
  {
   "cell_type": "code",
   "execution_count": 13,
   "id": "cc10704a",
   "metadata": {},
   "outputs": [],
   "source": [
    "import numpy as np\n",
    "import pandas as pd \n",
    "import matplotlib.pyplot as plt\n",
    "%matplotlib inline \n",
    "\n",
    "from sklearn.ensemble import RandomForestRegressor"
   ]
  },
  {
   "cell_type": "code",
   "execution_count": 14,
   "id": "ac412aa9",
   "metadata": {},
   "outputs": [],
   "source": [
    "# ---> y (axis=1)\n",
    "# |\n",
    "# |\n",
    "# x (axis=0)"
   ]
  },
  {
   "cell_type": "markdown",
   "id": "e5cf6c27",
   "metadata": {},
   "source": [
    "\n",
    "Three main things we have to do :\n",
    "- 1. Split data into feature and labels (usually `X`and `y`)\n",
    "- 2. Filling (also call imputing) or disregarding missing values\n",
    "- 3. Converting non-numerical values to numerical (also call feature encoding)\n",
    "    - Clean data\n",
    "    - Transform data\n",
    "    - Reduce data"
   ]
  },
  {
   "cell_type": "markdown",
   "id": "c29ad135",
   "metadata": {},
   "source": [
    "## 1. Getting data ready to be used with machine learning"
   ]
  },
  {
   "cell_type": "code",
   "execution_count": 15,
   "id": "b759e23c",
   "metadata": {},
   "outputs": [
    {
     "data": {
      "text/html": [
       "<div>\n",
       "<style scoped>\n",
       "    .dataframe tbody tr th:only-of-type {\n",
       "        vertical-align: middle;\n",
       "    }\n",
       "\n",
       "    .dataframe tbody tr th {\n",
       "        vertical-align: top;\n",
       "    }\n",
       "\n",
       "    .dataframe thead th {\n",
       "        text-align: right;\n",
       "    }\n",
       "</style>\n",
       "<table border=\"1\" class=\"dataframe\">\n",
       "  <thead>\n",
       "    <tr style=\"text-align: right;\">\n",
       "      <th></th>\n",
       "      <th>Make</th>\n",
       "      <th>Colour</th>\n",
       "      <th>Odometer (KM)</th>\n",
       "      <th>Doors</th>\n",
       "      <th>Price</th>\n",
       "    </tr>\n",
       "  </thead>\n",
       "  <tbody>\n",
       "    <tr>\n",
       "      <th>0</th>\n",
       "      <td>Honda</td>\n",
       "      <td>White</td>\n",
       "      <td>35431</td>\n",
       "      <td>4</td>\n",
       "      <td>15323</td>\n",
       "    </tr>\n",
       "    <tr>\n",
       "      <th>1</th>\n",
       "      <td>BMW</td>\n",
       "      <td>Blue</td>\n",
       "      <td>192714</td>\n",
       "      <td>5</td>\n",
       "      <td>19943</td>\n",
       "    </tr>\n",
       "    <tr>\n",
       "      <th>2</th>\n",
       "      <td>Honda</td>\n",
       "      <td>White</td>\n",
       "      <td>84714</td>\n",
       "      <td>4</td>\n",
       "      <td>28343</td>\n",
       "    </tr>\n",
       "    <tr>\n",
       "      <th>3</th>\n",
       "      <td>Toyota</td>\n",
       "      <td>White</td>\n",
       "      <td>154365</td>\n",
       "      <td>4</td>\n",
       "      <td>13434</td>\n",
       "    </tr>\n",
       "    <tr>\n",
       "      <th>4</th>\n",
       "      <td>Nissan</td>\n",
       "      <td>Blue</td>\n",
       "      <td>181577</td>\n",
       "      <td>3</td>\n",
       "      <td>14043</td>\n",
       "    </tr>\n",
       "    <tr>\n",
       "      <th>...</th>\n",
       "      <td>...</td>\n",
       "      <td>...</td>\n",
       "      <td>...</td>\n",
       "      <td>...</td>\n",
       "      <td>...</td>\n",
       "    </tr>\n",
       "    <tr>\n",
       "      <th>995</th>\n",
       "      <td>Toyota</td>\n",
       "      <td>Black</td>\n",
       "      <td>35820</td>\n",
       "      <td>4</td>\n",
       "      <td>32042</td>\n",
       "    </tr>\n",
       "    <tr>\n",
       "      <th>996</th>\n",
       "      <td>Nissan</td>\n",
       "      <td>White</td>\n",
       "      <td>155144</td>\n",
       "      <td>3</td>\n",
       "      <td>5716</td>\n",
       "    </tr>\n",
       "    <tr>\n",
       "      <th>997</th>\n",
       "      <td>Nissan</td>\n",
       "      <td>Blue</td>\n",
       "      <td>66604</td>\n",
       "      <td>4</td>\n",
       "      <td>31570</td>\n",
       "    </tr>\n",
       "    <tr>\n",
       "      <th>998</th>\n",
       "      <td>Honda</td>\n",
       "      <td>White</td>\n",
       "      <td>215883</td>\n",
       "      <td>4</td>\n",
       "      <td>4001</td>\n",
       "    </tr>\n",
       "    <tr>\n",
       "      <th>999</th>\n",
       "      <td>Toyota</td>\n",
       "      <td>Blue</td>\n",
       "      <td>248360</td>\n",
       "      <td>4</td>\n",
       "      <td>12732</td>\n",
       "    </tr>\n",
       "  </tbody>\n",
       "</table>\n",
       "<p>1000 rows × 5 columns</p>\n",
       "</div>"
      ],
      "text/plain": [
       "       Make Colour  Odometer (KM)  Doors  Price\n",
       "0     Honda  White          35431      4  15323\n",
       "1       BMW   Blue         192714      5  19943\n",
       "2     Honda  White          84714      4  28343\n",
       "3    Toyota  White         154365      4  13434\n",
       "4    Nissan   Blue         181577      3  14043\n",
       "..      ...    ...            ...    ...    ...\n",
       "995  Toyota  Black          35820      4  32042\n",
       "996  Nissan  White         155144      3   5716\n",
       "997  Nissan   Blue          66604      4  31570\n",
       "998   Honda  White         215883      4   4001\n",
       "999  Toyota   Blue         248360      4  12732\n",
       "\n",
       "[1000 rows x 5 columns]"
      ]
     },
     "execution_count": 15,
     "metadata": {},
     "output_type": "execute_result"
    }
   ],
   "source": [
    "car_sales = pd.read_csv(\"data/car-sales-extended.csv\")\n",
    "car_sales"
   ]
  },
  {
   "cell_type": "code",
   "execution_count": 16,
   "id": "c6c1da2d",
   "metadata": {},
   "outputs": [
    {
     "data": {
      "text/plain": [
       "Make             object\n",
       "Colour           object\n",
       "Odometer (KM)     int64\n",
       "Doors             int64\n",
       "Price             int64\n",
       "dtype: object"
      ]
     },
     "execution_count": 16,
     "metadata": {},
     "output_type": "execute_result"
    }
   ],
   "source": [
    "car_sales.dtypes"
   ]
  },
  {
   "cell_type": "code",
   "execution_count": 17,
   "id": "13c4c45b",
   "metadata": {},
   "outputs": [
    {
     "data": {
      "text/plain": [
       "Toyota    398\n",
       "Honda     304\n",
       "Nissan    198\n",
       "BMW       100\n",
       "Name: Make, dtype: int64"
      ]
     },
     "execution_count": 17,
     "metadata": {},
     "output_type": "execute_result"
    }
   ],
   "source": [
    "car_sales.Make.value_counts()"
   ]
  },
  {
   "cell_type": "code",
   "execution_count": 18,
   "id": "11794ec5",
   "metadata": {},
   "outputs": [
    {
     "data": {
      "text/plain": [
       "4    856\n",
       "5     79\n",
       "3     65\n",
       "Name: Doors, dtype: int64"
      ]
     },
     "execution_count": 18,
     "metadata": {},
     "output_type": "execute_result"
    }
   ],
   "source": [
    "car_sales.Doors.value_counts()"
   ]
  },
  {
   "cell_type": "code",
   "execution_count": 19,
   "id": "90c3818c",
   "metadata": {},
   "outputs": [
    {
     "data": {
      "text/plain": [
       "White    407\n",
       "Blue     321\n",
       "Black     99\n",
       "Red       94\n",
       "Green     79\n",
       "Name: Colour, dtype: int64"
      ]
     },
     "execution_count": 19,
     "metadata": {},
     "output_type": "execute_result"
    }
   ],
   "source": [
    "car_sales.Colour.value_counts()"
   ]
  },
  {
   "cell_type": "code",
   "execution_count": 20,
   "id": "51bf92c4",
   "metadata": {},
   "outputs": [],
   "source": [
    "# Split into X/y\n",
    "y = car_sales.Price\n",
    "X = car_sales.drop(\"Price\",axis=1)\n",
    "\n",
    "# Split into training and testing data \n",
    "from sklearn.model_selection import train_test_split\n",
    "X_train, X_test, y_train, y_test = train_test_split(X,y,test_size=0.2) # 20% data for testing"
   ]
  },
  {
   "cell_type": "markdown",
   "id": "5cfe733c",
   "metadata": {},
   "source": [
    "## 2. Encoder exemple"
   ]
  },
  {
   "cell_type": "code",
   "execution_count": 50,
   "id": "0d85bc1c",
   "metadata": {
    "scrolled": true
   },
   "outputs": [
    {
     "data": {
      "text/plain": [
       "array([2, 1, 0, 1, 2])"
      ]
     },
     "execution_count": 50,
     "metadata": {},
     "output_type": "execute_result"
    }
   ],
   "source": [
    "from sklearn.preprocessing import LabelEncoder\n",
    "\n",
    "y1 = np.array([\"dog\", \"cat\", \"bird\", \"cat\", \"dog\"])\n",
    "\n",
    "encoder1 = LabelEncoder()\n",
    "encoder1.fit_transform(y1)"
   ]
  },
  {
   "cell_type": "code",
   "execution_count": 52,
   "id": "b58749ff",
   "metadata": {},
   "outputs": [
    {
     "data": {
      "text/plain": [
       "array(['dog', 'cat', 'bird', 'cat', 'dog'], dtype='<U4')"
      ]
     },
     "execution_count": 52,
     "metadata": {},
     "output_type": "execute_result"
    }
   ],
   "source": [
    "encoder1.inverse_transform(np.array([2, 1, 0, 1, 2]))"
   ]
  },
  {
   "cell_type": "code",
   "execution_count": 59,
   "id": "7bea2976",
   "metadata": {
    "scrolled": true
   },
   "outputs": [
    {
     "data": {
      "text/plain": [
       "array([[2., 0.],\n",
       "       [1., 0.],\n",
       "       [0., 1.]])"
      ]
     },
     "execution_count": 59,
     "metadata": {},
     "output_type": "execute_result"
    }
   ],
   "source": [
    "from sklearn.preprocessing import OrdinalEncoder\n",
    "\n",
    "X = np.array([[\"dog\", \"cat\"], \n",
    "              [\"bird\", \"cat\"], \n",
    "              [\"bigcat\", \"rabbit\"]])\n",
    "\n",
    "encoder2 = OrdinalEncoder()\n",
    "encoder2.fit_transform(X)\n",
    "\n",
    "# Warning here : first vector [\"dog\", \"bird\", \"bigcat\"] -> [2., 1., 0.]"
   ]
  },
  {
   "cell_type": "markdown",
   "id": "95274526",
   "metadata": {},
   "source": [
    "**Probeme : 2.> 1.> 0. BUT not \"dog\" > \"bird\" > \"bigcat\"**\n",
    "<br>\n",
    "We want to avoid that except for the `RandomForest` that arent effect by that probleme"
   ]
  },
  {
   "cell_type": "code",
   "execution_count": 60,
   "id": "c80a11de",
   "metadata": {
    "scrolled": true
   },
   "outputs": [
    {
     "data": {
      "text/plain": [
       "array([[0, 0, 1],\n",
       "       [0, 1, 0],\n",
       "       [1, 0, 0],\n",
       "       [0, 1, 0],\n",
       "       [0, 0, 1]])"
      ]
     },
     "execution_count": 60,
     "metadata": {},
     "output_type": "execute_result"
    }
   ],
   "source": [
    "from sklearn.preprocessing import LabelBinarizer\n",
    "\n",
    "y1 = np.array([\"dog\", \"cat\", \"bird\", \"cat\", \"dog\"])\n",
    "\n",
    "encoder1 = LabelBinarizer()\n",
    "encoder1.fit_transform(y1)"
   ]
  },
  {
   "cell_type": "markdown",
   "id": "72a91067",
   "metadata": {},
   "source": [
    "**If they is a lot of category the matrix will be huge, you can minimize is using `sparse_output=True`**"
   ]
  },
  {
   "cell_type": "code",
   "execution_count": 57,
   "id": "13b610d1",
   "metadata": {},
   "outputs": [
    {
     "data": {
      "text/html": [
       "<div>\n",
       "<style scoped>\n",
       "    .dataframe tbody tr th:only-of-type {\n",
       "        vertical-align: middle;\n",
       "    }\n",
       "\n",
       "    .dataframe tbody tr th {\n",
       "        vertical-align: top;\n",
       "    }\n",
       "\n",
       "    .dataframe thead th {\n",
       "        text-align: right;\n",
       "    }\n",
       "</style>\n",
       "<table border=\"1\" class=\"dataframe\">\n",
       "  <thead>\n",
       "    <tr style=\"text-align: right;\">\n",
       "      <th></th>\n",
       "      <th>0</th>\n",
       "    </tr>\n",
       "  </thead>\n",
       "  <tbody>\n",
       "    <tr>\n",
       "      <th>0</th>\n",
       "      <td>(0, 2)\\t1.0</td>\n",
       "    </tr>\n",
       "    <tr>\n",
       "      <th>1</th>\n",
       "      <td>(0, 1)\\t1.0</td>\n",
       "    </tr>\n",
       "    <tr>\n",
       "      <th>2</th>\n",
       "      <td>(0, 0)\\t1.0</td>\n",
       "    </tr>\n",
       "    <tr>\n",
       "      <th>3</th>\n",
       "      <td>(0, 1)\\t1.0</td>\n",
       "    </tr>\n",
       "    <tr>\n",
       "      <th>4</th>\n",
       "      <td>(0, 2)\\t1.0</td>\n",
       "    </tr>\n",
       "  </tbody>\n",
       "</table>\n",
       "</div>"
      ],
      "text/plain": [
       "               0\n",
       "0    (0, 2)\\t1.0\n",
       "1    (0, 1)\\t1.0\n",
       "2    (0, 0)\\t1.0\n",
       "3    (0, 1)\\t1.0\n",
       "4    (0, 2)\\t1.0"
      ]
     },
     "execution_count": 57,
     "metadata": {},
     "output_type": "execute_result"
    }
   ],
   "source": [
    "from sklearn.preprocessing import OneHotEncoder\n",
    "\n",
    "y2 = pd.DataFrame()\n",
    "y2[\"animal\"] = [\"dog\", \"cat\", \"bird\", \"cat\", \"dog\"]\n",
    "\n",
    "encoder3 = OneHotEncoder() # by default `sparse_output=True`\n",
    "pd.DataFrame(encoder3.fit_transform(y2))"
   ]
  },
  {
   "cell_type": "markdown",
   "id": "71087698",
   "metadata": {},
   "source": [
    "## 3. Transform Data"
   ]
  },
  {
   "cell_type": "markdown",
   "id": "8f693e76",
   "metadata": {},
   "source": [
    "### 3.1 Transform using sklearn"
   ]
  },
  {
   "cell_type": "code",
   "execution_count": 21,
   "id": "9cd71a1a",
   "metadata": {},
   "outputs": [
    {
     "data": {
      "text/html": [
       "<div>\n",
       "<style scoped>\n",
       "    .dataframe tbody tr th:only-of-type {\n",
       "        vertical-align: middle;\n",
       "    }\n",
       "\n",
       "    .dataframe tbody tr th {\n",
       "        vertical-align: top;\n",
       "    }\n",
       "\n",
       "    .dataframe thead th {\n",
       "        text-align: right;\n",
       "    }\n",
       "</style>\n",
       "<table border=\"1\" class=\"dataframe\">\n",
       "  <thead>\n",
       "    <tr style=\"text-align: right;\">\n",
       "      <th></th>\n",
       "      <th>0</th>\n",
       "      <th>1</th>\n",
       "      <th>2</th>\n",
       "      <th>3</th>\n",
       "      <th>4</th>\n",
       "      <th>5</th>\n",
       "      <th>6</th>\n",
       "      <th>7</th>\n",
       "      <th>8</th>\n",
       "      <th>9</th>\n",
       "      <th>10</th>\n",
       "      <th>11</th>\n",
       "      <th>12</th>\n",
       "    </tr>\n",
       "  </thead>\n",
       "  <tbody>\n",
       "    <tr>\n",
       "      <th>0</th>\n",
       "      <td>0.0</td>\n",
       "      <td>1.0</td>\n",
       "      <td>0.0</td>\n",
       "      <td>0.0</td>\n",
       "      <td>0.0</td>\n",
       "      <td>0.0</td>\n",
       "      <td>0.0</td>\n",
       "      <td>0.0</td>\n",
       "      <td>1.0</td>\n",
       "      <td>0.0</td>\n",
       "      <td>1.0</td>\n",
       "      <td>0.0</td>\n",
       "      <td>35431.0</td>\n",
       "    </tr>\n",
       "    <tr>\n",
       "      <th>1</th>\n",
       "      <td>1.0</td>\n",
       "      <td>0.0</td>\n",
       "      <td>0.0</td>\n",
       "      <td>0.0</td>\n",
       "      <td>0.0</td>\n",
       "      <td>1.0</td>\n",
       "      <td>0.0</td>\n",
       "      <td>0.0</td>\n",
       "      <td>0.0</td>\n",
       "      <td>0.0</td>\n",
       "      <td>0.0</td>\n",
       "      <td>1.0</td>\n",
       "      <td>192714.0</td>\n",
       "    </tr>\n",
       "    <tr>\n",
       "      <th>2</th>\n",
       "      <td>0.0</td>\n",
       "      <td>1.0</td>\n",
       "      <td>0.0</td>\n",
       "      <td>0.0</td>\n",
       "      <td>0.0</td>\n",
       "      <td>0.0</td>\n",
       "      <td>0.0</td>\n",
       "      <td>0.0</td>\n",
       "      <td>1.0</td>\n",
       "      <td>0.0</td>\n",
       "      <td>1.0</td>\n",
       "      <td>0.0</td>\n",
       "      <td>84714.0</td>\n",
       "    </tr>\n",
       "    <tr>\n",
       "      <th>3</th>\n",
       "      <td>0.0</td>\n",
       "      <td>0.0</td>\n",
       "      <td>0.0</td>\n",
       "      <td>1.0</td>\n",
       "      <td>0.0</td>\n",
       "      <td>0.0</td>\n",
       "      <td>0.0</td>\n",
       "      <td>0.0</td>\n",
       "      <td>1.0</td>\n",
       "      <td>0.0</td>\n",
       "      <td>1.0</td>\n",
       "      <td>0.0</td>\n",
       "      <td>154365.0</td>\n",
       "    </tr>\n",
       "    <tr>\n",
       "      <th>4</th>\n",
       "      <td>0.0</td>\n",
       "      <td>0.0</td>\n",
       "      <td>1.0</td>\n",
       "      <td>0.0</td>\n",
       "      <td>0.0</td>\n",
       "      <td>1.0</td>\n",
       "      <td>0.0</td>\n",
       "      <td>0.0</td>\n",
       "      <td>0.0</td>\n",
       "      <td>1.0</td>\n",
       "      <td>0.0</td>\n",
       "      <td>0.0</td>\n",
       "      <td>181577.0</td>\n",
       "    </tr>\n",
       "    <tr>\n",
       "      <th>...</th>\n",
       "      <td>...</td>\n",
       "      <td>...</td>\n",
       "      <td>...</td>\n",
       "      <td>...</td>\n",
       "      <td>...</td>\n",
       "      <td>...</td>\n",
       "      <td>...</td>\n",
       "      <td>...</td>\n",
       "      <td>...</td>\n",
       "      <td>...</td>\n",
       "      <td>...</td>\n",
       "      <td>...</td>\n",
       "      <td>...</td>\n",
       "    </tr>\n",
       "    <tr>\n",
       "      <th>995</th>\n",
       "      <td>0.0</td>\n",
       "      <td>0.0</td>\n",
       "      <td>0.0</td>\n",
       "      <td>1.0</td>\n",
       "      <td>1.0</td>\n",
       "      <td>0.0</td>\n",
       "      <td>0.0</td>\n",
       "      <td>0.0</td>\n",
       "      <td>0.0</td>\n",
       "      <td>0.0</td>\n",
       "      <td>1.0</td>\n",
       "      <td>0.0</td>\n",
       "      <td>35820.0</td>\n",
       "    </tr>\n",
       "    <tr>\n",
       "      <th>996</th>\n",
       "      <td>0.0</td>\n",
       "      <td>0.0</td>\n",
       "      <td>1.0</td>\n",
       "      <td>0.0</td>\n",
       "      <td>0.0</td>\n",
       "      <td>0.0</td>\n",
       "      <td>0.0</td>\n",
       "      <td>0.0</td>\n",
       "      <td>1.0</td>\n",
       "      <td>1.0</td>\n",
       "      <td>0.0</td>\n",
       "      <td>0.0</td>\n",
       "      <td>155144.0</td>\n",
       "    </tr>\n",
       "    <tr>\n",
       "      <th>997</th>\n",
       "      <td>0.0</td>\n",
       "      <td>0.0</td>\n",
       "      <td>1.0</td>\n",
       "      <td>0.0</td>\n",
       "      <td>0.0</td>\n",
       "      <td>1.0</td>\n",
       "      <td>0.0</td>\n",
       "      <td>0.0</td>\n",
       "      <td>0.0</td>\n",
       "      <td>0.0</td>\n",
       "      <td>1.0</td>\n",
       "      <td>0.0</td>\n",
       "      <td>66604.0</td>\n",
       "    </tr>\n",
       "    <tr>\n",
       "      <th>998</th>\n",
       "      <td>0.0</td>\n",
       "      <td>1.0</td>\n",
       "      <td>0.0</td>\n",
       "      <td>0.0</td>\n",
       "      <td>0.0</td>\n",
       "      <td>0.0</td>\n",
       "      <td>0.0</td>\n",
       "      <td>0.0</td>\n",
       "      <td>1.0</td>\n",
       "      <td>0.0</td>\n",
       "      <td>1.0</td>\n",
       "      <td>0.0</td>\n",
       "      <td>215883.0</td>\n",
       "    </tr>\n",
       "    <tr>\n",
       "      <th>999</th>\n",
       "      <td>0.0</td>\n",
       "      <td>0.0</td>\n",
       "      <td>0.0</td>\n",
       "      <td>1.0</td>\n",
       "      <td>0.0</td>\n",
       "      <td>1.0</td>\n",
       "      <td>0.0</td>\n",
       "      <td>0.0</td>\n",
       "      <td>0.0</td>\n",
       "      <td>0.0</td>\n",
       "      <td>1.0</td>\n",
       "      <td>0.0</td>\n",
       "      <td>248360.0</td>\n",
       "    </tr>\n",
       "  </tbody>\n",
       "</table>\n",
       "<p>1000 rows × 13 columns</p>\n",
       "</div>"
      ],
      "text/plain": [
       "      0    1    2    3    4    5    6    7    8    9    10   11        12\n",
       "0    0.0  1.0  0.0  0.0  0.0  0.0  0.0  0.0  1.0  0.0  1.0  0.0   35431.0\n",
       "1    1.0  0.0  0.0  0.0  0.0  1.0  0.0  0.0  0.0  0.0  0.0  1.0  192714.0\n",
       "2    0.0  1.0  0.0  0.0  0.0  0.0  0.0  0.0  1.0  0.0  1.0  0.0   84714.0\n",
       "3    0.0  0.0  0.0  1.0  0.0  0.0  0.0  0.0  1.0  0.0  1.0  0.0  154365.0\n",
       "4    0.0  0.0  1.0  0.0  0.0  1.0  0.0  0.0  0.0  1.0  0.0  0.0  181577.0\n",
       "..   ...  ...  ...  ...  ...  ...  ...  ...  ...  ...  ...  ...       ...\n",
       "995  0.0  0.0  0.0  1.0  1.0  0.0  0.0  0.0  0.0  0.0  1.0  0.0   35820.0\n",
       "996  0.0  0.0  1.0  0.0  0.0  0.0  0.0  0.0  1.0  1.0  0.0  0.0  155144.0\n",
       "997  0.0  0.0  1.0  0.0  0.0  1.0  0.0  0.0  0.0  0.0  1.0  0.0   66604.0\n",
       "998  0.0  1.0  0.0  0.0  0.0  0.0  0.0  0.0  1.0  0.0  1.0  0.0  215883.0\n",
       "999  0.0  0.0  0.0  1.0  0.0  1.0  0.0  0.0  0.0  0.0  1.0  0.0  248360.0\n",
       "\n",
       "[1000 rows x 13 columns]"
      ]
     },
     "execution_count": 21,
     "metadata": {},
     "output_type": "execute_result"
    }
   ],
   "source": [
    "from sklearn.preprocessing import OneHotEncoder\n",
    "from sklearn.compose import ColumnTransformer\n",
    "\n",
    "categorical_features = (\"Make\",\"Colour\",\"Doors\")\n",
    "one_hot = OneHotEncoder()\n",
    "transformer = ColumnTransformer([(\"one_hot\",one_hot,categorical_features)],\n",
    "                               remainder=\"passthrough\")\n",
    "\n",
    "transformed_X = transformer.fit_transform(X)\n",
    "transformed_X_df = pd.DataFrame(transformed_X)\n",
    "transformed_X_df\n",
    "\n",
    "# ColumnsTransformer use OneHotEncoder that we create and apply it to the categorical_features\n",
    "# and for the remain columns that he found, passthrough"
   ]
  },
  {
   "cell_type": "markdown",
   "id": "19fa66db",
   "metadata": {},
   "source": [
    "What `OneHotEncoder` do :\n",
    "![.](images/One-Hot-Encoding-for-Scikit-Learn-in-Python-Explained-1024x576.png)"
   ]
  },
  {
   "cell_type": "markdown",
   "id": "2b9ed27e",
   "metadata": {},
   "source": [
    "###### in this case : \n",
    "- 4 differents elements in `Make` :\n",
    "    - Toyota (398)\n",
    "    - Honda  (304)\n",
    "    - Nissan (198)\n",
    "    - BMW    (100)\n",
    "- 3 diffetents elements in `Doors` :\n",
    "    - 4 (856)\n",
    "    - 5 (79)\n",
    "    - 3 (65)\n",
    "- 5 differents elements in `Colour` :\n",
    "    - White    (407)\n",
    "    - Blue     (321)\n",
    "    - Black     (99)\n",
    "    - Red       (94)\n",
    "    - Green     (79)\n",
    "        \n",
    "Then 4 + 3 +5 = 12 new columns insteed of the previous 2 <br>\n",
    "(X DataFrame doesn't have Price columns)\n",
    "<br><br>\n",
    "And because of `remainder=\"passthrough\"`, `Odometer (KM)` doesn't change\n",
    "<br>\n",
    "Note : `Doors` is already numerical so it's not necessary"
   ]
  },
  {
   "cell_type": "markdown",
   "id": "ace9dde0",
   "metadata": {},
   "source": [
    "### 3.2 Transform data using pandas :\n",
    "`.get_dummies`"
   ]
  },
  {
   "cell_type": "code",
   "execution_count": 22,
   "id": "0e746a2b",
   "metadata": {},
   "outputs": [
    {
     "data": {
      "text/html": [
       "<div>\n",
       "<style scoped>\n",
       "    .dataframe tbody tr th:only-of-type {\n",
       "        vertical-align: middle;\n",
       "    }\n",
       "\n",
       "    .dataframe tbody tr th {\n",
       "        vertical-align: top;\n",
       "    }\n",
       "\n",
       "    .dataframe thead th {\n",
       "        text-align: right;\n",
       "    }\n",
       "</style>\n",
       "<table border=\"1\" class=\"dataframe\">\n",
       "  <thead>\n",
       "    <tr style=\"text-align: right;\">\n",
       "      <th></th>\n",
       "      <th>Doors</th>\n",
       "      <th>Odometer (KM)</th>\n",
       "      <th>Make_BMW</th>\n",
       "      <th>Make_Honda</th>\n",
       "      <th>Make_Nissan</th>\n",
       "      <th>Make_Toyota</th>\n",
       "      <th>Colour_Black</th>\n",
       "      <th>Colour_Blue</th>\n",
       "      <th>Colour_Green</th>\n",
       "      <th>Colour_Red</th>\n",
       "      <th>Colour_White</th>\n",
       "    </tr>\n",
       "  </thead>\n",
       "  <tbody>\n",
       "    <tr>\n",
       "      <th>0</th>\n",
       "      <td>4</td>\n",
       "      <td>35431</td>\n",
       "      <td>0</td>\n",
       "      <td>1</td>\n",
       "      <td>0</td>\n",
       "      <td>0</td>\n",
       "      <td>0</td>\n",
       "      <td>0</td>\n",
       "      <td>0</td>\n",
       "      <td>0</td>\n",
       "      <td>1</td>\n",
       "    </tr>\n",
       "    <tr>\n",
       "      <th>1</th>\n",
       "      <td>5</td>\n",
       "      <td>192714</td>\n",
       "      <td>1</td>\n",
       "      <td>0</td>\n",
       "      <td>0</td>\n",
       "      <td>0</td>\n",
       "      <td>0</td>\n",
       "      <td>1</td>\n",
       "      <td>0</td>\n",
       "      <td>0</td>\n",
       "      <td>0</td>\n",
       "    </tr>\n",
       "    <tr>\n",
       "      <th>2</th>\n",
       "      <td>4</td>\n",
       "      <td>84714</td>\n",
       "      <td>0</td>\n",
       "      <td>1</td>\n",
       "      <td>0</td>\n",
       "      <td>0</td>\n",
       "      <td>0</td>\n",
       "      <td>0</td>\n",
       "      <td>0</td>\n",
       "      <td>0</td>\n",
       "      <td>1</td>\n",
       "    </tr>\n",
       "    <tr>\n",
       "      <th>3</th>\n",
       "      <td>4</td>\n",
       "      <td>154365</td>\n",
       "      <td>0</td>\n",
       "      <td>0</td>\n",
       "      <td>0</td>\n",
       "      <td>1</td>\n",
       "      <td>0</td>\n",
       "      <td>0</td>\n",
       "      <td>0</td>\n",
       "      <td>0</td>\n",
       "      <td>1</td>\n",
       "    </tr>\n",
       "    <tr>\n",
       "      <th>4</th>\n",
       "      <td>3</td>\n",
       "      <td>181577</td>\n",
       "      <td>0</td>\n",
       "      <td>0</td>\n",
       "      <td>1</td>\n",
       "      <td>0</td>\n",
       "      <td>0</td>\n",
       "      <td>1</td>\n",
       "      <td>0</td>\n",
       "      <td>0</td>\n",
       "      <td>0</td>\n",
       "    </tr>\n",
       "    <tr>\n",
       "      <th>...</th>\n",
       "      <td>...</td>\n",
       "      <td>...</td>\n",
       "      <td>...</td>\n",
       "      <td>...</td>\n",
       "      <td>...</td>\n",
       "      <td>...</td>\n",
       "      <td>...</td>\n",
       "      <td>...</td>\n",
       "      <td>...</td>\n",
       "      <td>...</td>\n",
       "      <td>...</td>\n",
       "    </tr>\n",
       "    <tr>\n",
       "      <th>995</th>\n",
       "      <td>4</td>\n",
       "      <td>35820</td>\n",
       "      <td>0</td>\n",
       "      <td>0</td>\n",
       "      <td>0</td>\n",
       "      <td>1</td>\n",
       "      <td>1</td>\n",
       "      <td>0</td>\n",
       "      <td>0</td>\n",
       "      <td>0</td>\n",
       "      <td>0</td>\n",
       "    </tr>\n",
       "    <tr>\n",
       "      <th>996</th>\n",
       "      <td>3</td>\n",
       "      <td>155144</td>\n",
       "      <td>0</td>\n",
       "      <td>0</td>\n",
       "      <td>1</td>\n",
       "      <td>0</td>\n",
       "      <td>0</td>\n",
       "      <td>0</td>\n",
       "      <td>0</td>\n",
       "      <td>0</td>\n",
       "      <td>1</td>\n",
       "    </tr>\n",
       "    <tr>\n",
       "      <th>997</th>\n",
       "      <td>4</td>\n",
       "      <td>66604</td>\n",
       "      <td>0</td>\n",
       "      <td>0</td>\n",
       "      <td>1</td>\n",
       "      <td>0</td>\n",
       "      <td>0</td>\n",
       "      <td>1</td>\n",
       "      <td>0</td>\n",
       "      <td>0</td>\n",
       "      <td>0</td>\n",
       "    </tr>\n",
       "    <tr>\n",
       "      <th>998</th>\n",
       "      <td>4</td>\n",
       "      <td>215883</td>\n",
       "      <td>0</td>\n",
       "      <td>1</td>\n",
       "      <td>0</td>\n",
       "      <td>0</td>\n",
       "      <td>0</td>\n",
       "      <td>0</td>\n",
       "      <td>0</td>\n",
       "      <td>0</td>\n",
       "      <td>1</td>\n",
       "    </tr>\n",
       "    <tr>\n",
       "      <th>999</th>\n",
       "      <td>4</td>\n",
       "      <td>248360</td>\n",
       "      <td>0</td>\n",
       "      <td>0</td>\n",
       "      <td>0</td>\n",
       "      <td>1</td>\n",
       "      <td>0</td>\n",
       "      <td>1</td>\n",
       "      <td>0</td>\n",
       "      <td>0</td>\n",
       "      <td>0</td>\n",
       "    </tr>\n",
       "  </tbody>\n",
       "</table>\n",
       "<p>1000 rows × 11 columns</p>\n",
       "</div>"
      ],
      "text/plain": [
       "     Doors  Odometer (KM)  Make_BMW  Make_Honda  Make_Nissan  Make_Toyota  \\\n",
       "0        4          35431         0           1            0            0   \n",
       "1        5         192714         1           0            0            0   \n",
       "2        4          84714         0           1            0            0   \n",
       "3        4         154365         0           0            0            1   \n",
       "4        3         181577         0           0            1            0   \n",
       "..     ...            ...       ...         ...          ...          ...   \n",
       "995      4          35820         0           0            0            1   \n",
       "996      3         155144         0           0            1            0   \n",
       "997      4          66604         0           0            1            0   \n",
       "998      4         215883         0           1            0            0   \n",
       "999      4         248360         0           0            0            1   \n",
       "\n",
       "     Colour_Black  Colour_Blue  Colour_Green  Colour_Red  Colour_White  \n",
       "0               0            0             0           0             1  \n",
       "1               0            1             0           0             0  \n",
       "2               0            0             0           0             1  \n",
       "3               0            0             0           0             1  \n",
       "4               0            1             0           0             0  \n",
       "..            ...          ...           ...         ...           ...  \n",
       "995             1            0             0           0             0  \n",
       "996             0            0             0           0             1  \n",
       "997             0            1             0           0             0  \n",
       "998             0            0             0           0             1  \n",
       "999             0            1             0           0             0  \n",
       "\n",
       "[1000 rows x 11 columns]"
      ]
     },
     "execution_count": 22,
     "metadata": {},
     "output_type": "execute_result"
    }
   ],
   "source": [
    "dummies_X = pd.get_dummies(X[[\"Make\",\"Colour\",\"Doors\",\"Odometer (KM)\"]])\n",
    "dummies_X"
   ]
  },
  {
   "cell_type": "markdown",
   "id": "03a3f263",
   "metadata": {},
   "source": [
    "## 4. Build machine learning model (after transformed data)"
   ]
  },
  {
   "cell_type": "markdown",
   "id": "6738b865",
   "metadata": {},
   "source": [
    "### 4.1 Transformed with sklearn :"
   ]
  },
  {
   "cell_type": "code",
   "execution_count": 23,
   "id": "dabded4b",
   "metadata": {},
   "outputs": [
    {
     "data": {
      "text/plain": [
       "0.35665972393085565"
      ]
     },
     "execution_count": 23,
     "metadata": {},
     "output_type": "execute_result"
    }
   ],
   "source": [
    "def ML_sklearn():\n",
    "    X_train, X_test, y_train, y_test = train_test_split(transformed_X,y,test_size=0.2)\n",
    "    model = RandomForestRegressor()\n",
    "    model.fit(X_train,y_train)\n",
    "    return model.score(X_test,y_test)\n",
    "\n",
    "ML_sklearn()"
   ]
  },
  {
   "cell_type": "markdown",
   "id": "68126671",
   "metadata": {},
   "source": [
    "### 4.2 Transformed with pandas :"
   ]
  },
  {
   "cell_type": "code",
   "execution_count": 24,
   "id": "b7393ea6",
   "metadata": {},
   "outputs": [
    {
     "data": {
      "text/plain": [
       "0.2553796654328573"
      ]
     },
     "execution_count": 24,
     "metadata": {},
     "output_type": "execute_result"
    }
   ],
   "source": [
    "def ML_pandas():\n",
    "    X_train, X_test, y_train, y_test = train_test_split(dummies_X,y,test_size=0.2)\n",
    "    model = RandomForestRegressor()\n",
    "    model.fit(X_train,y_train)\n",
    "    return model.score(X_test,y_test)\n",
    "\n",
    "ML_pandas()"
   ]
  },
  {
   "cell_type": "markdown",
   "id": "2c69b11e",
   "metadata": {},
   "source": [
    "### 4.3 Conclusion : \n",
    "At first see Transformed with sklearn or pandas doesn't affect the result "
   ]
  },
  {
   "cell_type": "markdown",
   "id": "2c5adfe0",
   "metadata": {},
   "source": [
    "## 5. Feature Scaling"
   ]
  },
  {
   "cell_type": "markdown",
   "id": "79cb36e3",
   "metadata": {},
   "source": [
    "### Exemple :"
   ]
  },
  {
   "cell_type": "markdown",
   "id": "9963ce52",
   "metadata": {},
   "source": [
    "**Normalisation MinMax** : <br>\n",
    "$$X_{scaled} = {X - X_{min} \\over X_{max} - X_{min}}$$"
   ]
  },
  {
   "cell_type": "code",
   "execution_count": 61,
   "id": "12e3c5da",
   "metadata": {},
   "outputs": [
    {
     "data": {
      "text/plain": [
       "array([[0. ],\n",
       "       [0.2],\n",
       "       [1. ]])"
      ]
     },
     "execution_count": 61,
     "metadata": {},
     "output_type": "execute_result"
    }
   ],
   "source": [
    "from sklearn.preprocessing import MinMaxScaler\n",
    "\n",
    "y = np.array([[70], \n",
    "              [80], \n",
    "              [120]])\n",
    "\n",
    "scaler = MinMaxScaler()\n",
    "scaler.fit_transform(y)"
   ]
  },
  {
   "cell_type": "markdown",
   "id": "d3240fc8",
   "metadata": {},
   "source": [
    "**Standardisation** : the mean is 0 and the sdt is 1 <br>\n",
    "$$X_{scaled} = {X - \\mu_X \\over \\sigma_X}$$"
   ]
  },
  {
   "cell_type": "code",
   "execution_count": 64,
   "id": "581708e3",
   "metadata": {},
   "outputs": [
    {
     "data": {
      "text/plain": [
       "array([[-0.9258201 ],\n",
       "       [-0.46291005],\n",
       "       [ 1.38873015]])"
      ]
     },
     "execution_count": 64,
     "metadata": {},
     "output_type": "execute_result"
    }
   ],
   "source": [
    "from sklearn.preprocessing import StandardScaler\n",
    "\n",
    "y = np.array([[70], \n",
    "              [80], \n",
    "              [120]])\n",
    "\n",
    "scaler = StandardScaler()  \n",
    "scaler.fit_transform(y)"
   ]
  },
  {
   "cell_type": "markdown",
   "id": "d04bdcd5",
   "metadata": {},
   "source": [
    "<font color=red>\n",
    "    dont do StandardScaler or StandardScaler if they is outliers \n",
    "</font>"
   ]
  },
  {
   "cell_type": "markdown",
   "id": "ca4fdd47",
   "metadata": {},
   "source": [
    "**RobustScaler** : less sensitive to outlier due to the median<br>\n",
    "$$X_{scaled} = {X - median \\over IQR}$$\n",
    "NOTE : $IQR = Q3 - Q1$ where Q are the quartil"
   ]
  },
  {
   "cell_type": "code",
   "execution_count": 63,
   "id": "bfb3120a",
   "metadata": {},
   "outputs": [
    {
     "data": {
      "text/plain": [
       "array([[-0.4],\n",
       "       [ 0. ],\n",
       "       [ 1.6]])"
      ]
     },
     "execution_count": 63,
     "metadata": {},
     "output_type": "execute_result"
    }
   ],
   "source": [
    "from sklearn.preprocessing import RobustScaler\n",
    "\n",
    "y = np.array([[70], \n",
    "              [80], \n",
    "              [120]])\n",
    "\n",
    "scaler = RobustScaler()\n",
    "scaler.fit_transform(y)"
   ]
  },
  {
   "cell_type": "markdown",
   "id": "d2b96f4e",
   "metadata": {},
   "source": [
    "### 5.1 Normalization\n",
    "**NOTE : decision tree doesnt need normalisation**<br>\n",
    "Normalization (also called min-max scaling) - This rescales all the numerical values to between 0 and 1, with the lowest value being close to 0 and the highest previous value being close to 1. Scikit-Learn provides functionality for this in the MinMaxScalar class."
   ]
  },
  {
   "cell_type": "code",
   "execution_count": 25,
   "id": "c845e353",
   "metadata": {},
   "outputs": [
    {
     "data": {
      "text/plain": [
       "0.29786998158912237"
      ]
     },
     "execution_count": 25,
     "metadata": {},
     "output_type": "execute_result"
    }
   ],
   "source": [
    "from sklearn.preprocessing import MinMaxScaler \n",
    "# https://scikit-learn.org/stable/modules/generated/sklearn.preprocessing.MinMaxScaler.html\n",
    "\n",
    "scaler = MinMaxScaler()\n",
    "scaler.fit(transformed_X)\n",
    "transformed_X_min_max = scaler.transform(transformed_X)\n",
    "\n",
    "def ML_MinMaxScaler():\n",
    "    X_train, X_test, y_train, y_test = train_test_split(transformed_X_min_max,y,test_size=0.2)\n",
    "    model = RandomForestRegressor()\n",
    "    model.fit(X_train,y_train)\n",
    "    return model.score(X_test,y_test)\n",
    "\n",
    "ML_MinMaxScaler()"
   ]
  },
  {
   "cell_type": "code",
   "execution_count": 26,
   "id": "28ef2238",
   "metadata": {},
   "outputs": [
    {
     "data": {
      "text/html": [
       "<div>\n",
       "<style scoped>\n",
       "    .dataframe tbody tr th:only-of-type {\n",
       "        vertical-align: middle;\n",
       "    }\n",
       "\n",
       "    .dataframe tbody tr th {\n",
       "        vertical-align: top;\n",
       "    }\n",
       "\n",
       "    .dataframe thead th {\n",
       "        text-align: right;\n",
       "    }\n",
       "</style>\n",
       "<table border=\"1\" class=\"dataframe\">\n",
       "  <thead>\n",
       "    <tr style=\"text-align: right;\">\n",
       "      <th></th>\n",
       "      <th>0</th>\n",
       "      <th>1</th>\n",
       "      <th>2</th>\n",
       "      <th>3</th>\n",
       "      <th>4</th>\n",
       "      <th>5</th>\n",
       "      <th>6</th>\n",
       "      <th>7</th>\n",
       "      <th>8</th>\n",
       "      <th>9</th>\n",
       "      <th>10</th>\n",
       "      <th>11</th>\n",
       "      <th>12</th>\n",
       "    </tr>\n",
       "  </thead>\n",
       "  <tbody>\n",
       "    <tr>\n",
       "      <th>0</th>\n",
       "      <td>0.0</td>\n",
       "      <td>1.0</td>\n",
       "      <td>0.0</td>\n",
       "      <td>0.0</td>\n",
       "      <td>0.0</td>\n",
       "      <td>0.0</td>\n",
       "      <td>0.0</td>\n",
       "      <td>0.0</td>\n",
       "      <td>1.0</td>\n",
       "      <td>0.0</td>\n",
       "      <td>1.0</td>\n",
       "      <td>0.0</td>\n",
       "      <td>0.105472</td>\n",
       "    </tr>\n",
       "    <tr>\n",
       "      <th>1</th>\n",
       "      <td>1.0</td>\n",
       "      <td>0.0</td>\n",
       "      <td>0.0</td>\n",
       "      <td>0.0</td>\n",
       "      <td>0.0</td>\n",
       "      <td>1.0</td>\n",
       "      <td>0.0</td>\n",
       "      <td>0.0</td>\n",
       "      <td>0.0</td>\n",
       "      <td>0.0</td>\n",
       "      <td>0.0</td>\n",
       "      <td>1.0</td>\n",
       "      <td>0.761606</td>\n",
       "    </tr>\n",
       "    <tr>\n",
       "      <th>2</th>\n",
       "      <td>0.0</td>\n",
       "      <td>1.0</td>\n",
       "      <td>0.0</td>\n",
       "      <td>0.0</td>\n",
       "      <td>0.0</td>\n",
       "      <td>0.0</td>\n",
       "      <td>0.0</td>\n",
       "      <td>0.0</td>\n",
       "      <td>1.0</td>\n",
       "      <td>0.0</td>\n",
       "      <td>1.0</td>\n",
       "      <td>0.0</td>\n",
       "      <td>0.311065</td>\n",
       "    </tr>\n",
       "    <tr>\n",
       "      <th>3</th>\n",
       "      <td>0.0</td>\n",
       "      <td>0.0</td>\n",
       "      <td>0.0</td>\n",
       "      <td>1.0</td>\n",
       "      <td>0.0</td>\n",
       "      <td>0.0</td>\n",
       "      <td>0.0</td>\n",
       "      <td>0.0</td>\n",
       "      <td>1.0</td>\n",
       "      <td>0.0</td>\n",
       "      <td>1.0</td>\n",
       "      <td>0.0</td>\n",
       "      <td>0.601626</td>\n",
       "    </tr>\n",
       "  </tbody>\n",
       "</table>\n",
       "</div>"
      ],
      "text/plain": [
       "    0    1    2    3    4    5    6    7    8    9    10   11        12\n",
       "0  0.0  1.0  0.0  0.0  0.0  0.0  0.0  0.0  1.0  0.0  1.0  0.0  0.105472\n",
       "1  1.0  0.0  0.0  0.0  0.0  1.0  0.0  0.0  0.0  0.0  0.0  1.0  0.761606\n",
       "2  0.0  1.0  0.0  0.0  0.0  0.0  0.0  0.0  1.0  0.0  1.0  0.0  0.311065\n",
       "3  0.0  0.0  0.0  1.0  0.0  0.0  0.0  0.0  1.0  0.0  1.0  0.0  0.601626"
      ]
     },
     "execution_count": 26,
     "metadata": {},
     "output_type": "execute_result"
    }
   ],
   "source": [
    "pd.DataFrame(transformed_X_min_max).head(4)"
   ]
  },
  {
   "cell_type": "markdown",
   "id": "0095089b",
   "metadata": {},
   "source": [
    "### 5.2 Standardization\n",
    "Standardization - This subtracts the mean value from all of the features (so the resulting features have 0 mean). It then scales the features to unit variance (by dividing the feature by the standard deviation). Scikit-Learn provides functionality for this in the StandardScalar class.\n",
    "\n"
   ]
  },
  {
   "cell_type": "code",
   "execution_count": 27,
   "id": "c5cfa4e1",
   "metadata": {
    "scrolled": true
   },
   "outputs": [
    {
     "data": {
      "text/plain": [
       "0.3177591348629508"
      ]
     },
     "execution_count": 27,
     "metadata": {},
     "output_type": "execute_result"
    }
   ],
   "source": [
    "from sklearn.preprocessing import StandardScaler\n",
    "#https://scikit-learn.org/stable/modules/generated/sklearn.preprocessing.StandardScaler.html\n",
    "\n",
    "scaler = StandardScaler()\n",
    "scaler.fit(transformed_X)\n",
    "transformed_X_standard = scaler.transform(transformed_X)\n",
    "# Can does multiple columns in the same time (ex : doors and Odometer)\n",
    "\n",
    "def ML_StandardScaler():\n",
    "    X_train, X_test, y_train, y_test = train_test_split(transformed_X_min_max,y,test_size=0.2)\n",
    "    model = RandomForestRegressor()\n",
    "    model.fit(X_train,y_train)\n",
    "    return model.score(X_test,y_test)\n",
    "\n",
    "ML_StandardScaler()"
   ]
  },
  {
   "cell_type": "code",
   "execution_count": 28,
   "id": "ada91668",
   "metadata": {},
   "outputs": [
    {
     "data": {
      "text/html": [
       "<div>\n",
       "<style scoped>\n",
       "    .dataframe tbody tr th:only-of-type {\n",
       "        vertical-align: middle;\n",
       "    }\n",
       "\n",
       "    .dataframe tbody tr th {\n",
       "        vertical-align: top;\n",
       "    }\n",
       "\n",
       "    .dataframe thead th {\n",
       "        text-align: right;\n",
       "    }\n",
       "</style>\n",
       "<table border=\"1\" class=\"dataframe\">\n",
       "  <thead>\n",
       "    <tr style=\"text-align: right;\">\n",
       "      <th></th>\n",
       "      <th>0</th>\n",
       "      <th>1</th>\n",
       "      <th>2</th>\n",
       "      <th>3</th>\n",
       "      <th>4</th>\n",
       "      <th>5</th>\n",
       "      <th>6</th>\n",
       "      <th>7</th>\n",
       "      <th>8</th>\n",
       "      <th>9</th>\n",
       "      <th>10</th>\n",
       "      <th>11</th>\n",
       "      <th>12</th>\n",
       "    </tr>\n",
       "  </thead>\n",
       "  <tbody>\n",
       "    <tr>\n",
       "      <th>0</th>\n",
       "      <td>-0.333333</td>\n",
       "      <td>1.513101</td>\n",
       "      <td>-0.496873</td>\n",
       "      <td>-0.813099</td>\n",
       "      <td>-0.331478</td>\n",
       "      <td>-0.687571</td>\n",
       "      <td>-0.292876</td>\n",
       "      <td>-0.322107</td>\n",
       "      <td>1.207064</td>\n",
       "      <td>-0.263664</td>\n",
       "      <td>0.410152</td>\n",
       "      <td>-0.292876</td>\n",
       "      <td>-1.389645</td>\n",
       "    </tr>\n",
       "    <tr>\n",
       "      <th>1</th>\n",
       "      <td>3.000000</td>\n",
       "      <td>-0.660895</td>\n",
       "      <td>-0.496873</td>\n",
       "      <td>-0.813099</td>\n",
       "      <td>-0.331478</td>\n",
       "      <td>1.454395</td>\n",
       "      <td>-0.292876</td>\n",
       "      <td>-0.322107</td>\n",
       "      <td>-0.828457</td>\n",
       "      <td>-0.263664</td>\n",
       "      <td>-2.438123</td>\n",
       "      <td>3.414415</td>\n",
       "      <td>0.895605</td>\n",
       "    </tr>\n",
       "    <tr>\n",
       "      <th>2</th>\n",
       "      <td>-0.333333</td>\n",
       "      <td>1.513101</td>\n",
       "      <td>-0.496873</td>\n",
       "      <td>-0.813099</td>\n",
       "      <td>-0.331478</td>\n",
       "      <td>-0.687571</td>\n",
       "      <td>-0.292876</td>\n",
       "      <td>-0.322107</td>\n",
       "      <td>1.207064</td>\n",
       "      <td>-0.263664</td>\n",
       "      <td>0.410152</td>\n",
       "      <td>-0.292876</td>\n",
       "      <td>-0.673585</td>\n",
       "    </tr>\n",
       "    <tr>\n",
       "      <th>3</th>\n",
       "      <td>-0.333333</td>\n",
       "      <td>-0.660895</td>\n",
       "      <td>-0.496873</td>\n",
       "      <td>1.229863</td>\n",
       "      <td>-0.331478</td>\n",
       "      <td>-0.687571</td>\n",
       "      <td>-0.292876</td>\n",
       "      <td>-0.322107</td>\n",
       "      <td>1.207064</td>\n",
       "      <td>-0.263664</td>\n",
       "      <td>0.410152</td>\n",
       "      <td>-0.292876</td>\n",
       "      <td>0.338412</td>\n",
       "    </tr>\n",
       "  </tbody>\n",
       "</table>\n",
       "</div>"
      ],
      "text/plain": [
       "         0         1         2         3         4         5         6   \\\n",
       "0 -0.333333  1.513101 -0.496873 -0.813099 -0.331478 -0.687571 -0.292876   \n",
       "1  3.000000 -0.660895 -0.496873 -0.813099 -0.331478  1.454395 -0.292876   \n",
       "2 -0.333333  1.513101 -0.496873 -0.813099 -0.331478 -0.687571 -0.292876   \n",
       "3 -0.333333 -0.660895 -0.496873  1.229863 -0.331478 -0.687571 -0.292876   \n",
       "\n",
       "         7         8         9         10        11        12  \n",
       "0 -0.322107  1.207064 -0.263664  0.410152 -0.292876 -1.389645  \n",
       "1 -0.322107 -0.828457 -0.263664 -2.438123  3.414415  0.895605  \n",
       "2 -0.322107  1.207064 -0.263664  0.410152 -0.292876 -0.673585  \n",
       "3 -0.322107  1.207064 -0.263664  0.410152 -0.292876  0.338412  "
      ]
     },
     "execution_count": 28,
     "metadata": {},
     "output_type": "execute_result"
    }
   ],
   "source": [
    "pd.DataFrame(transformed_X_standard).head(4)"
   ]
  },
  {
   "cell_type": "markdown",
   "id": "db23739f",
   "metadata": {},
   "source": [
    "## 6 Comparison"
   ]
  },
  {
   "cell_type": "code",
   "execution_count": 30,
   "id": "d99489bb",
   "metadata": {},
   "outputs": [
    {
     "data": {
      "text/plain": [
       "(0.2991388508780502,\n",
       " 0.2736904688781472,\n",
       " 0.2347125121966707,\n",
       " 0.24951015786228165)"
      ]
     },
     "execution_count": 30,
     "metadata": {},
     "output_type": "execute_result"
    }
   ],
   "source": [
    "from statistics import mean\n",
    "\n",
    "score_sklearn = []\n",
    "score_pandas = []\n",
    "score_MinMaxScaler = []\n",
    "score_StandardScaler = []\n",
    "\n",
    "for i in range(10):\n",
    "    score_sklearn.append(ML_sklearn())\n",
    "    score_pandas.append(ML_pandas())\n",
    "    score_MinMaxScaler.append(ML_MinMaxScaler())\n",
    "    score_StandardScaler.append(ML_StandardScaler())\n",
    "    \n",
    "mean(score_sklearn), mean(score_pandas), mean(score_MinMaxScaler), mean(score_StandardScaler)"
   ]
  },
  {
   "cell_type": "code",
   "execution_count": 31,
   "id": "678256eb",
   "metadata": {},
   "outputs": [
    {
     "data": {
      "text/plain": [
       "(0.4262263431118043,\n",
       " 0.3675087627321252,\n",
       " 0.3172443480588367,\n",
       " 0.4051813592810912)"
      ]
     },
     "execution_count": 31,
     "metadata": {},
     "output_type": "execute_result"
    }
   ],
   "source": [
    "max(score_sklearn), max(score_pandas), max(score_MinMaxScaler), max(score_StandardScaler)"
   ]
  },
  {
   "cell_type": "code",
   "execution_count": 32,
   "id": "bfab2b21",
   "metadata": {},
   "outputs": [
    {
     "data": {
      "text/plain": [
       "(0.14299829905877282,\n",
       " 0.1748310079040225,\n",
       " 0.10615515766364503,\n",
       " 0.14154022732089144)"
      ]
     },
     "execution_count": 32,
     "metadata": {},
     "output_type": "execute_result"
    }
   ],
   "source": [
    "min(score_sklearn), min(score_pandas), min(score_MinMaxScaler), min(score_StandardScaler)"
   ]
  },
  {
   "cell_type": "code",
   "execution_count": 33,
   "id": "b5a11200",
   "metadata": {},
   "outputs": [
    {
     "data": {
      "text/plain": [
       "(0.07383139424395678,\n",
       " 0.0646911944869682,\n",
       " 0.06314464858561984,\n",
       " 0.0696183997625119)"
      ]
     },
     "execution_count": 33,
     "metadata": {},
     "output_type": "execute_result"
    }
   ],
   "source": [
    "np.std(score_sklearn), np.std(score_pandas), np.std(score_MinMaxScaler), np.std(score_StandardScaler)"
   ]
  },
  {
   "cell_type": "code",
   "execution_count": 34,
   "id": "d62ab558",
   "metadata": {},
   "outputs": [
    {
     "data": {
      "image/png": "[encoded data removed]",
      "text/plain": [
       "<Figure size 1440x720 with 4 Axes>"
      ]
     },
     "metadata": {
      "needs_background": "light"
     },
     "output_type": "display_data"
    }
   ],
   "source": [
    "fig, ((ax1, ax2), (ax3, ax4)) = plt.subplots(figsize=(20,10),\n",
    "                                            ncols=2,\n",
    "                                            nrows=2\n",
    "                                           )\n",
    "ax1.hist(np.array(score_sklearn)*100,bins=100)\n",
    "ax2.hist(np.array(score_pandas)*100,bins=100)\n",
    "ax3.hist(np.array(score_MinMaxScaler)*100,bins=100)\n",
    "ax4.hist(np.array(score_StandardScaler)*100,bins=100)\n",
    "\n",
    "fig.suptitle(\"comparison-ML\", fontsize=16, fontweight=\"bold\")\n",
    "\n",
    "ax1.set(title=\"histogram : sklearn\",\n",
    "      xlabel=\"accuracy_score (%)\",\n",
    "      ylabel=\"frequency\")\n",
    "ax2.set(title=\"histogram : pandas\",\n",
    "      xlabel=\"accuracy_score (%)\",\n",
    "      ylabel=\"frequency\")\n",
    "ax3.set(title=\"histogram : MinMaxScaler\",\n",
    "      xlabel=\"accuracy_score (%)\",\n",
    "      ylabel=\"frequency\")\n",
    "ax4.set(title=\"histogram : StandardScaler\",\n",
    "      xlabel=\"accuracy_score (%)\",\n",
    "      ylabel=\"frequency\")\n",
    "\n",
    "fig.savefig(\"images/comparison_ML.png\")"
   ]
  },
  {
   "cell_type": "code",
   "execution_count": null,
   "id": "131b381e",
   "metadata": {},
   "outputs": [],
   "source": []
  }
 ],
 "metadata": {
  "kernelspec": {
   "display_name": "Python 3 (ipykernel)",
   "language": "python",
   "name": "python3"
  },
  "language_info": {
   "codemirror_mode": {
    "name": "ipython",
    "version": 3
   },
   "file_extension": ".py",
   "mimetype": "text/x-python",
   "name": "python",
   "nbconvert_exporter": "python",
   "pygments_lexer": "ipython3",
   "version": "3.9.12"
  },
  "varInspector": {
   "cols": {
    "lenName": 16,
    "lenType": 16,
    "lenVar": 40
   },
   "kernels_config": {
    "python": {
     "delete_cmd_postfix": "",
     "delete_cmd_prefix": "del ",
     "library": "var_list.py",
     "varRefreshCmd": "print(var_dic_list())"
    },
    "r": {
     "delete_cmd_postfix": ") ",
     "delete_cmd_prefix": "rm(",
     "library": "var_list.r",
     "varRefreshCmd": "cat(var_dic_list()) "
    }
   },
   "types_to_exclude": [
    "module",
    "function",
    "builtin_function_or_method",
    "instance",
    "_Feature"
   ],
   "window_display": false
  },
  "vscode": {
   "interpreter": {
    "hash": "aee8b7b246df8f9039afb4144a1f6fd8d2ca17a180786b69acc140d282b71a49"
   }
  }
 },
 "nbformat": 4,
 "nbformat_minor": 5
}
